{
 "cells": [
  {
   "cell_type": "code",
   "execution_count": 1,
   "metadata": {},
   "outputs": [
    {
     "name": "stderr",
     "output_type": "stream",
     "text": [
      "Using TensorFlow backend.\n"
     ]
    }
   ],
   "source": [
    "import numpy as np # linear algebra\n",
    "import pandas as pd # data processing, CSV file I/O (e.g. pd.read_csv)\n",
    "import os, time\n",
    "import matplotlib.pyplot as plt #from keras.datasets import fashion_mnist\n",
    "from IPython.display import display \n",
    "from PIL import Image\n",
    "from sklearn.model_selection import train_test_split\n",
    "\n",
    "import keras\n",
    "from keras.utils import to_categorical\n",
    "from keras.models import Sequential\n",
    "from keras.layers import Conv2D, MaxPooling2D\n",
    "from keras.layers import Dense, Dropout, Flatten #from keras.layers.advanced_activations import LeakyReLU\n",
    "from keras.preprocessing.image import ImageDataGenerator\n",
    "from keras.applications import VGG16;\n",
    "from keras.applications.vgg16 import preprocess_input\n",
    "\n",
    "import os"
   ]
  },
  {
   "cell_type": "code",
   "execution_count": 2,
   "metadata": {},
   "outputs": [
    {
     "name": "stdout",
     "output_type": "stream",
     "text": [
      "Fashion-MNIST VGG16.ipynb \u001b[1m\u001b[34mfasion_mnist_data\u001b[m\u001b[m         \u001b[1m\u001b[34mkaras_models\u001b[m\u001b[m\n"
     ]
    }
   ],
   "source": [
    "! ls"
   ]
  },
  {
   "cell_type": "markdown",
   "metadata": {},
   "source": [
    "# Prepare Fashion-MNIST Dataset"
   ]
  },
  {
   "cell_type": "code",
   "execution_count": 30,
   "metadata": {},
   "outputs": [],
   "source": [
    "train_data = pd.read_csv('fasion_mnist_data/fashion-mnist_train.zip')\n",
    "test_data = pd.read_csv('fasion_mnist_data/fashion-mnist_test.zip')"
   ]
  },
  {
   "cell_type": "code",
   "execution_count": 31,
   "metadata": {},
   "outputs": [],
   "source": [
    "train_data.shape #(60,000*785)\n",
    "test_data.shape #(10000,785)\n",
    "train_X= np.array(train_data.iloc[:,1:])\n",
    "test_X= np.array(test_data.iloc[:,1:])\n",
    "train_Y= np.array (train_data.iloc[:,0]) # (60000,)\n",
    "test_Y = np.array(test_data.iloc[:,0]) #(10000,)\n",
    "\n",
    "\n",
    "# Alternative\n",
    "# from keras.datasets import fashion_mnist\n",
    "# ((trainX, trainY), (testX, testY)) = fashion_mnist.load_data()"
   ]
  },
  {
   "cell_type": "code",
   "execution_count": 32,
   "metadata": {},
   "outputs": [
    {
     "data": {
      "text/html": [
       "<div>\n",
       "<style scoped>\n",
       "    .dataframe tbody tr th:only-of-type {\n",
       "        vertical-align: middle;\n",
       "    }\n",
       "\n",
       "    .dataframe tbody tr th {\n",
       "        vertical-align: top;\n",
       "    }\n",
       "\n",
       "    .dataframe thead th {\n",
       "        text-align: right;\n",
       "    }\n",
       "</style>\n",
       "<table border=\"1\" class=\"dataframe\">\n",
       "  <thead>\n",
       "    <tr style=\"text-align: right;\">\n",
       "      <th></th>\n",
       "      <th>label</th>\n",
       "      <th>pixel1</th>\n",
       "      <th>pixel2</th>\n",
       "      <th>pixel3</th>\n",
       "      <th>pixel4</th>\n",
       "      <th>pixel5</th>\n",
       "      <th>pixel6</th>\n",
       "      <th>pixel7</th>\n",
       "      <th>pixel8</th>\n",
       "      <th>pixel9</th>\n",
       "      <th>...</th>\n",
       "      <th>pixel775</th>\n",
       "      <th>pixel776</th>\n",
       "      <th>pixel777</th>\n",
       "      <th>pixel778</th>\n",
       "      <th>pixel779</th>\n",
       "      <th>pixel780</th>\n",
       "      <th>pixel781</th>\n",
       "      <th>pixel782</th>\n",
       "      <th>pixel783</th>\n",
       "      <th>pixel784</th>\n",
       "    </tr>\n",
       "  </thead>\n",
       "  <tbody>\n",
       "    <tr>\n",
       "      <th>0</th>\n",
       "      <td>2</td>\n",
       "      <td>0</td>\n",
       "      <td>0</td>\n",
       "      <td>0</td>\n",
       "      <td>0</td>\n",
       "      <td>0</td>\n",
       "      <td>0</td>\n",
       "      <td>0</td>\n",
       "      <td>0</td>\n",
       "      <td>0</td>\n",
       "      <td>...</td>\n",
       "      <td>0</td>\n",
       "      <td>0</td>\n",
       "      <td>0</td>\n",
       "      <td>0</td>\n",
       "      <td>0</td>\n",
       "      <td>0</td>\n",
       "      <td>0</td>\n",
       "      <td>0</td>\n",
       "      <td>0</td>\n",
       "      <td>0</td>\n",
       "    </tr>\n",
       "    <tr>\n",
       "      <th>1</th>\n",
       "      <td>9</td>\n",
       "      <td>0</td>\n",
       "      <td>0</td>\n",
       "      <td>0</td>\n",
       "      <td>0</td>\n",
       "      <td>0</td>\n",
       "      <td>0</td>\n",
       "      <td>0</td>\n",
       "      <td>0</td>\n",
       "      <td>0</td>\n",
       "      <td>...</td>\n",
       "      <td>0</td>\n",
       "      <td>0</td>\n",
       "      <td>0</td>\n",
       "      <td>0</td>\n",
       "      <td>0</td>\n",
       "      <td>0</td>\n",
       "      <td>0</td>\n",
       "      <td>0</td>\n",
       "      <td>0</td>\n",
       "      <td>0</td>\n",
       "    </tr>\n",
       "    <tr>\n",
       "      <th>2</th>\n",
       "      <td>6</td>\n",
       "      <td>0</td>\n",
       "      <td>0</td>\n",
       "      <td>0</td>\n",
       "      <td>0</td>\n",
       "      <td>0</td>\n",
       "      <td>0</td>\n",
       "      <td>0</td>\n",
       "      <td>5</td>\n",
       "      <td>0</td>\n",
       "      <td>...</td>\n",
       "      <td>0</td>\n",
       "      <td>0</td>\n",
       "      <td>0</td>\n",
       "      <td>30</td>\n",
       "      <td>43</td>\n",
       "      <td>0</td>\n",
       "      <td>0</td>\n",
       "      <td>0</td>\n",
       "      <td>0</td>\n",
       "      <td>0</td>\n",
       "    </tr>\n",
       "    <tr>\n",
       "      <th>3</th>\n",
       "      <td>0</td>\n",
       "      <td>0</td>\n",
       "      <td>0</td>\n",
       "      <td>0</td>\n",
       "      <td>1</td>\n",
       "      <td>2</td>\n",
       "      <td>0</td>\n",
       "      <td>0</td>\n",
       "      <td>0</td>\n",
       "      <td>0</td>\n",
       "      <td>...</td>\n",
       "      <td>3</td>\n",
       "      <td>0</td>\n",
       "      <td>0</td>\n",
       "      <td>0</td>\n",
       "      <td>0</td>\n",
       "      <td>1</td>\n",
       "      <td>0</td>\n",
       "      <td>0</td>\n",
       "      <td>0</td>\n",
       "      <td>0</td>\n",
       "    </tr>\n",
       "    <tr>\n",
       "      <th>4</th>\n",
       "      <td>3</td>\n",
       "      <td>0</td>\n",
       "      <td>0</td>\n",
       "      <td>0</td>\n",
       "      <td>0</td>\n",
       "      <td>0</td>\n",
       "      <td>0</td>\n",
       "      <td>0</td>\n",
       "      <td>0</td>\n",
       "      <td>0</td>\n",
       "      <td>...</td>\n",
       "      <td>0</td>\n",
       "      <td>0</td>\n",
       "      <td>0</td>\n",
       "      <td>0</td>\n",
       "      <td>0</td>\n",
       "      <td>0</td>\n",
       "      <td>0</td>\n",
       "      <td>0</td>\n",
       "      <td>0</td>\n",
       "      <td>0</td>\n",
       "    </tr>\n",
       "  </tbody>\n",
       "</table>\n",
       "<p>5 rows × 785 columns</p>\n",
       "</div>"
      ],
      "text/plain": [
       "   label  pixel1  pixel2  pixel3  pixel4  pixel5  pixel6  pixel7  pixel8  \\\n",
       "0      2       0       0       0       0       0       0       0       0   \n",
       "1      9       0       0       0       0       0       0       0       0   \n",
       "2      6       0       0       0       0       0       0       0       5   \n",
       "3      0       0       0       0       1       2       0       0       0   \n",
       "4      3       0       0       0       0       0       0       0       0   \n",
       "\n",
       "   pixel9  ...  pixel775  pixel776  pixel777  pixel778  pixel779  pixel780  \\\n",
       "0       0  ...         0         0         0         0         0         0   \n",
       "1       0  ...         0         0         0         0         0         0   \n",
       "2       0  ...         0         0         0        30        43         0   \n",
       "3       0  ...         3         0         0         0         0         1   \n",
       "4       0  ...         0         0         0         0         0         0   \n",
       "\n",
       "   pixel781  pixel782  pixel783  pixel784  \n",
       "0         0         0         0         0  \n",
       "1         0         0         0         0  \n",
       "2         0         0         0         0  \n",
       "3         0         0         0         0  \n",
       "4         0         0         0         0  \n",
       "\n",
       "[5 rows x 785 columns]"
      ]
     },
     "execution_count": 32,
     "metadata": {},
     "output_type": "execute_result"
    }
   ],
   "source": [
    "train_data.head()"
   ]
  },
  {
   "cell_type": "code",
   "execution_count": 33,
   "metadata": {},
   "outputs": [
    {
     "data": {
      "text/plain": [
       "((60000, 784), (10000, 784))"
      ]
     },
     "execution_count": 33,
     "metadata": {},
     "output_type": "execute_result"
    }
   ],
   "source": [
    "train_X.shape, test_X.shape"
   ]
  },
  {
   "cell_type": "code",
   "execution_count": 34,
   "metadata": {},
   "outputs": [
    {
     "data": {
      "text/plain": [
       "10"
      ]
     },
     "execution_count": 34,
     "metadata": {},
     "output_type": "execute_result"
    }
   ],
   "source": [
    "classes = np.unique(train_Y)\n",
    "num_classes = len(classes)\n",
    "num_classes"
   ]
  },
  {
   "cell_type": "code",
   "execution_count": 35,
   "metadata": {},
   "outputs": [
    {
     "data": {
      "text/plain": [
       "((60000, 784, 3), (10000, 784, 3))"
      ]
     },
     "execution_count": 35,
     "metadata": {},
     "output_type": "execute_result"
    }
   ],
   "source": [
    "# Convert the images into 3 channels\n",
    "train_X = np.dstack([train_X] * 3)\n",
    "test_X = np.dstack([test_X] * 3)\n",
    "\n",
    "train_X.shape, test_X.shape"
   ]
  },
  {
   "cell_type": "code",
   "execution_count": 36,
   "metadata": {},
   "outputs": [
    {
     "data": {
      "text/plain": [
       "((60000, 28, 28, 3), (10000, 28, 28, 3))"
      ]
     },
     "execution_count": 36,
     "metadata": {},
     "output_type": "execute_result"
    }
   ],
   "source": [
    "# Reshape images as per the tensor format required by tensorflow\n",
    "train_X = train_X.reshape(-1, 28, 28, 3)\n",
    "test_X = test_X.reshape(-1, 28, 28, 3)\n",
    "\n",
    "train_X.shape, test_X.shape"
   ]
  },
  {
   "cell_type": "code",
   "execution_count": 37,
   "metadata": {},
   "outputs": [
    {
     "data": {
      "text/plain": [
       "((60000, 48, 48, 3), (10000, 48, 48, 3))"
      ]
     },
     "execution_count": 37,
     "metadata": {},
     "output_type": "execute_result"
    }
   ],
   "source": [
    "# Resize the images 48*48 as required by VGG16\n",
    "from keras.preprocessing.image import img_to_array, array_to_img\n",
    "train_X = np.asarray([img_to_array(array_to_img(im, scale=False).resize((48,48))) for im in train_X])\n",
    "test_X = np.asarray([img_to_array(array_to_img(im, scale=False).resize((48,48))) for im in test_X])\n",
    "\n",
    "#train_x = preprocess_input(x)\n",
    "train_X.shape, test_X.shape"
   ]
  },
  {
   "cell_type": "code",
   "execution_count": 38,
   "metadata": {},
   "outputs": [],
   "source": [
    "# Normalise the data and change data type\n",
    "train_X = train_X / 255.\n",
    "test_X = test_X / 255.\n",
    "train_X = train_X.astype('float32')\n",
    "test_X = test_X.astype('float32')"
   ]
  },
  {
   "cell_type": "code",
   "execution_count": 39,
   "metadata": {},
   "outputs": [],
   "source": [
    "# Converting Labels to one hot encoded format\n",
    "train_Y_one_hot = to_categorical(train_Y)\n",
    "test_Y_one_hot = to_categorical(test_Y)"
   ]
  },
  {
   "cell_type": "code",
   "execution_count": 40,
   "metadata": {},
   "outputs": [],
   "source": [
    "# Splitting train data as train and validation data\n",
    "train_X, valid_X, train_label, valid_label = train_test_split(train_X,\n",
    "                                                           train_Y_one_hot,\n",
    "                                                           test_size=0.2,\n",
    "                                                           random_state=27\n",
    "                                                           )"
   ]
  },
  {
   "cell_type": "code",
   "execution_count": 41,
   "metadata": {},
   "outputs": [
    {
     "data": {
      "text/plain": [
       "((48000, 48, 48, 3), (12000, 48, 48, 3), (48000, 10), (12000, 10))"
      ]
     },
     "execution_count": 41,
     "metadata": {},
     "output_type": "execute_result"
    }
   ],
   "source": [
    "# Check the data size whether it is as per tensorflow and VGG16 requirement\n",
    "train_X.shape, valid_X.shape, train_label.shape, valid_label.shape"
   ]
  },
  {
   "cell_type": "code",
   "execution_count": 42,
   "metadata": {},
   "outputs": [],
   "source": [
    "# Define the parameters for instantiating VGG16 model. \n",
    "IMG_WIDTH = 48\n",
    "IMG_HEIGHT = 48\n",
    "IMG_DEPTH = 3\n",
    "BATCH_SIZE = 16"
   ]
  },
  {
   "cell_type": "code",
   "execution_count": 43,
   "metadata": {},
   "outputs": [],
   "source": [
    "# Preprocessing the input \n",
    "train_X = preprocess_input(train_X)\n",
    "valid_X = preprocess_input(valid_X)\n",
    "test_X  = preprocess_input(test_X)"
   ]
  },
  {
   "cell_type": "code",
   "execution_count": 44,
   "metadata": {},
   "outputs": [
    {
     "name": "stdout",
     "output_type": "stream",
     "text": [
      "Fashion-MNIST - Classification.ipynb \u001b[1m\u001b[34mkaras_models\u001b[m\u001b[m\n",
      "\u001b[1m\u001b[34mfasion_mnist_data\u001b[m\u001b[m\n"
     ]
    }
   ],
   "source": [
    "! ls"
   ]
  },
  {
   "cell_type": "markdown",
   "metadata": {},
   "source": [
    "# VGG 16 Model"
   ]
  },
  {
   "cell_type": "markdown",
   "metadata": {},
   "source": [
    "#### Create base model of VGG16"
   ]
  },
  {
   "cell_type": "code",
   "execution_count": 45,
   "metadata": {},
   "outputs": [
    {
     "name": "stdout",
     "output_type": "stream",
     "text": [
      "_________________________________________________________________\n",
      "Layer (type)                 Output Shape              Param #   \n",
      "=================================================================\n",
      "input_2 (InputLayer)         (None, 48, 48, 3)         0         \n",
      "_________________________________________________________________\n",
      "block1_conv1 (Conv2D)        (None, 48, 48, 64)        1792      \n",
      "_________________________________________________________________\n",
      "block1_conv2 (Conv2D)        (None, 48, 48, 64)        36928     \n",
      "_________________________________________________________________\n",
      "block1_pool (MaxPooling2D)   (None, 24, 24, 64)        0         \n",
      "_________________________________________________________________\n",
      "block2_conv1 (Conv2D)        (None, 24, 24, 128)       73856     \n",
      "_________________________________________________________________\n",
      "block2_conv2 (Conv2D)        (None, 24, 24, 128)       147584    \n",
      "_________________________________________________________________\n",
      "block2_pool (MaxPooling2D)   (None, 12, 12, 128)       0         \n",
      "_________________________________________________________________\n",
      "block3_conv1 (Conv2D)        (None, 12, 12, 256)       295168    \n",
      "_________________________________________________________________\n",
      "block3_conv2 (Conv2D)        (None, 12, 12, 256)       590080    \n",
      "_________________________________________________________________\n",
      "block3_conv3 (Conv2D)        (None, 12, 12, 256)       590080    \n",
      "_________________________________________________________________\n",
      "block3_pool (MaxPooling2D)   (None, 6, 6, 256)         0         \n",
      "_________________________________________________________________\n",
      "block4_conv1 (Conv2D)        (None, 6, 6, 512)         1180160   \n",
      "_________________________________________________________________\n",
      "block4_conv2 (Conv2D)        (None, 6, 6, 512)         2359808   \n",
      "_________________________________________________________________\n",
      "block4_conv3 (Conv2D)        (None, 6, 6, 512)         2359808   \n",
      "_________________________________________________________________\n",
      "block4_pool (MaxPooling2D)   (None, 3, 3, 512)         0         \n",
      "_________________________________________________________________\n",
      "block5_conv1 (Conv2D)        (None, 3, 3, 512)         2359808   \n",
      "_________________________________________________________________\n",
      "block5_conv2 (Conv2D)        (None, 3, 3, 512)         2359808   \n",
      "_________________________________________________________________\n",
      "block5_conv3 (Conv2D)        (None, 3, 3, 512)         2359808   \n",
      "_________________________________________________________________\n",
      "block5_pool (MaxPooling2D)   (None, 1, 1, 512)         0         \n",
      "=================================================================\n",
      "Total params: 14,714,688\n",
      "Trainable params: 14,714,688\n",
      "Non-trainable params: 0\n",
      "_________________________________________________________________\n"
     ]
    }
   ],
   "source": [
    "conv_base = VGG16(weights='karas_models/vgg16_weights_tf_dim_ordering_tf_kernels_notop.h5',\n",
    "                  include_top=False, \n",
    "                  input_shape=(IMG_HEIGHT, IMG_WIDTH, IMG_DEPTH)\n",
    "                 )\n",
    "\n",
    "conv_base.summary()"
   ]
  },
  {
   "cell_type": "markdown",
   "metadata": {},
   "source": [
    "### Transfer Learning"
   ]
  },
  {
   "cell_type": "code",
   "execution_count": 46,
   "metadata": {},
   "outputs": [
    {
     "name": "stdout",
     "output_type": "stream",
     "text": [
      "48000/48000 [==============================] - 714s 15ms/step\n",
      "10000/10000 [==============================] - 181s 18ms/step\n",
      "12000/12000 [==============================] - 161s 13ms/step\n"
     ]
    }
   ],
   "source": [
    "# Extracting features\n",
    "train_features = conv_base.predict(np.array(train_X), batch_size=BATCH_SIZE, verbose=1)\n",
    "test_features = conv_base.predict(np.array(test_X), batch_size=BATCH_SIZE, verbose=1)\n",
    "val_features = conv_base.predict(np.array(valid_X), batch_size=BATCH_SIZE, verbose=1)\n",
    "\n",
    "#for layer in conv_base.layers:\n",
    "#    layer.trainable = False"
   ]
  },
  {
   "cell_type": "code",
   "execution_count": 50,
   "metadata": {},
   "outputs": [],
   "source": [
    "# Saving the features so that they can be used for future\n",
    "np.savez(\"train_features\", train_features, train_label)\n",
    "np.savez(\"test_features\", test_features, test_Y)\n",
    "np.savez(\"val_features\", val_features, valid_label)"
   ]
  },
  {
   "cell_type": "code",
   "execution_count": 49,
   "metadata": {},
   "outputs": [
    {
     "name": "stdout",
     "output_type": "stream",
     "text": [
      "(48000, 1, 1, 512) \n",
      " (10000, 1, 1, 512) \n",
      " (12000, 1, 1, 512)\n"
     ]
    }
   ],
   "source": [
    "# Current shape of features\n",
    "print(train_features.shape, \"\\n\", test_features.shape, \"\\n\", val_features.shape)"
   ]
  },
  {
   "cell_type": "code",
   "execution_count": 52,
   "metadata": {},
   "outputs": [],
   "source": [
    "# Flatten extracted features\n",
    "train_features_flat = np.reshape(train_features, (48000, 1*1*512))\n",
    "test_features_flat = np.reshape(test_features, (10000, 1*1*512))\n",
    "val_features_flat = np.reshape(val_features, (12000, 1*1*512))"
   ]
  },
  {
   "cell_type": "markdown",
   "metadata": {},
   "source": [
    "#### Add dense layers to output features of VGG16"
   ]
  },
  {
   "cell_type": "code",
   "execution_count": 54,
   "metadata": {},
   "outputs": [],
   "source": [
    "from keras import models\n",
    "from keras.models import Model\n",
    "from keras import layers\n",
    "from keras import optimizers\n",
    "from keras import callbacks\n",
    "from keras.layers.advanced_activations import LeakyReLU"
   ]
  },
  {
   "cell_type": "code",
   "execution_count": 55,
   "metadata": {},
   "outputs": [],
   "source": [
    "# Define the densely connected classifier followed by leakyrelu layer and finally dense layer for the number of classes\n",
    "NB_TRAIN_SAMPLES = train_features_flat.shape[0]\n",
    "NB_VALIDATION_SAMPLES = val_features_flat.shape[0]\n",
    "NB_EPOCHS = 100\n",
    "\n",
    "model = models.Sequential()\n",
    "model.add(layers.Dense(512, activation='relu', input_dim=(1*1*512)))\n",
    "model.add(layers.LeakyReLU(alpha=0.1))\n",
    "model.add(layers.Dense(num_classes, activation='softmax'))"
   ]
  },
  {
   "cell_type": "code",
   "execution_count": 56,
   "metadata": {},
   "outputs": [],
   "source": [
    "# Compile the model.\n",
    "model.compile(\n",
    "    loss='categorical_crossentropy',\n",
    "    optimizer=optimizers.Adam(),\n",
    "  # optimizer=optimizers.RMSprop(lr=2e-5),\n",
    "    metrics=['acc'])"
   ]
  },
  {
   "cell_type": "markdown",
   "metadata": {},
   "source": [
    "#### Model Training"
   ]
  },
  {
   "cell_type": "code",
   "execution_count": 57,
   "metadata": {},
   "outputs": [
    {
     "name": "stderr",
     "output_type": "stream",
     "text": [
      "/anaconda3/envs/datax/lib/python3.6/site-packages/keras/callbacks.py:1065: UserWarning: `epsilon` argument is deprecated and will be removed, use `min_delta` instead.\n",
      "  warnings.warn('`epsilon` argument is deprecated and '\n"
     ]
    }
   ],
   "source": [
    "# Incorporating reduced learning and early stopping for callback\n",
    "reduce_learning = callbacks.ReduceLROnPlateau(\n",
    "    monitor='val_loss',\n",
    "    factor=0.2,\n",
    "    patience=2,\n",
    "    verbose=1,\n",
    "    mode='auto',\n",
    "    epsilon=0.0001,\n",
    "    cooldown=2,\n",
    "    min_lr=0)\n",
    "\n",
    "eary_stopping = callbacks.EarlyStopping(\n",
    "    monitor='val_loss',\n",
    "    min_delta=0,\n",
    "    patience=7,\n",
    "    verbose=1,\n",
    "    mode='auto')\n",
    "\n",
    "callbacks = [reduce_learning, eary_stopping]"
   ]
  },
  {
   "cell_type": "code",
   "execution_count": 58,
   "metadata": {},
   "outputs": [
    {
     "name": "stdout",
     "output_type": "stream",
     "text": [
      "WARNING:tensorflow:From /anaconda3/envs/datax/lib/python3.6/site-packages/tensorflow/python/ops/math_ops.py:3066: to_int32 (from tensorflow.python.ops.math_ops) is deprecated and will be removed in a future version.\n",
      "Instructions for updating:\n",
      "Use tf.cast instead.\n",
      "Train on 48000 samples, validate on 12000 samples\n",
      "Epoch 1/100\n",
      "48000/48000 [==============================] - 5s 114us/step - loss: 1.4610 - acc: 0.4613 - val_loss: 1.1438 - val_acc: 0.5887\n",
      "Epoch 2/100\n",
      "48000/48000 [==============================] - 5s 101us/step - loss: 1.0914 - acc: 0.6003 - val_loss: 0.9896 - val_acc: 0.6428\n",
      "Epoch 3/100\n",
      "48000/48000 [==============================] - 5s 99us/step - loss: 0.9916 - acc: 0.6352 - val_loss: 0.9700 - val_acc: 0.6548\n",
      "Epoch 4/100\n",
      "48000/48000 [==============================] - 5s 98us/step - loss: 0.9357 - acc: 0.6567 - val_loss: 0.9030 - val_acc: 0.6613\n",
      "Epoch 5/100\n",
      "48000/48000 [==============================] - 5s 97us/step - loss: 0.9142 - acc: 0.6630 - val_loss: 0.8674 - val_acc: 0.6818\n",
      "Epoch 6/100\n",
      "48000/48000 [==============================] - 5s 95us/step - loss: 0.8877 - acc: 0.6715 - val_loss: 0.8792 - val_acc: 0.6876\n",
      "Epoch 7/100\n",
      "48000/48000 [==============================] - 5s 101us/step - loss: 0.8737 - acc: 0.6794 - val_loss: 0.8655 - val_acc: 0.6902\n",
      "Epoch 8/100\n",
      "48000/48000 [==============================] - 5s 102us/step - loss: 0.8533 - acc: 0.6850 - val_loss: 0.8301 - val_acc: 0.7027\n",
      "Epoch 9/100\n",
      "48000/48000 [==============================] - 5s 98us/step - loss: 0.8419 - acc: 0.6903 - val_loss: 0.8368 - val_acc: 0.6918\n",
      "Epoch 10/100\n",
      "48000/48000 [==============================] - 5s 99us/step - loss: 0.8377 - acc: 0.6927 - val_loss: 0.7977 - val_acc: 0.7113\n",
      "Epoch 11/100\n",
      "48000/48000 [==============================] - 5s 95us/step - loss: 0.8265 - acc: 0.6978 - val_loss: 0.8567 - val_acc: 0.6934\n",
      "Epoch 12/100\n",
      "48000/48000 [==============================] - 5s 96us/step - loss: 0.8190 - acc: 0.6989 - val_loss: 0.8331 - val_acc: 0.6913\n",
      "\n",
      "Epoch 00012: ReduceLROnPlateau reducing learning rate to 0.00020000000949949026.\n",
      "Epoch 13/100\n",
      "48000/48000 [==============================] - 5s 102us/step - loss: 0.7518 - acc: 0.7277 - val_loss: 0.7425 - val_acc: 0.7328\n",
      "Epoch 14/100\n",
      "48000/48000 [==============================] - 5s 102us/step - loss: 0.7460 - acc: 0.7291 - val_loss: 0.7524 - val_acc: 0.7240\n",
      "Epoch 15/100\n",
      "48000/48000 [==============================] - 5s 96us/step - loss: 0.7449 - acc: 0.7295 - val_loss: 0.7367 - val_acc: 0.7315\n",
      "Epoch 16/100\n",
      "48000/48000 [==============================] - 5s 100us/step - loss: 0.7406 - acc: 0.7316 - val_loss: 0.7358 - val_acc: 0.7303\n",
      "Epoch 17/100\n",
      "48000/48000 [==============================] - 5s 94us/step - loss: 0.7378 - acc: 0.7308 - val_loss: 0.7576 - val_acc: 0.7202\n",
      "Epoch 18/100\n",
      "48000/48000 [==============================] - 5s 105us/step - loss: 0.7357 - acc: 0.7325 - val_loss: 0.7305 - val_acc: 0.7303\n",
      "Epoch 19/100\n",
      "48000/48000 [==============================] - 5s 100us/step - loss: 0.7314 - acc: 0.7347 - val_loss: 0.7226 - val_acc: 0.7413\n",
      "Epoch 20/100\n",
      "48000/48000 [==============================] - 5s 98us/step - loss: 0.7297 - acc: 0.7343 - val_loss: 0.7217 - val_acc: 0.7398\n",
      "Epoch 21/100\n",
      "48000/48000 [==============================] - 5s 103us/step - loss: 0.7266 - acc: 0.7353 - val_loss: 0.7223 - val_acc: 0.7375\n",
      "Epoch 22/100\n",
      "48000/48000 [==============================] - 5s 105us/step - loss: 0.7248 - acc: 0.7367 - val_loss: 0.7300 - val_acc: 0.7333\n",
      "\n",
      "Epoch 00022: ReduceLROnPlateau reducing learning rate to 4.0000001899898055e-05.\n",
      "Epoch 23/100\n",
      "48000/48000 [==============================] - 5s 101us/step - loss: 0.7083 - acc: 0.7442 - val_loss: 0.7106 - val_acc: 0.7437\n",
      "Epoch 24/100\n",
      "48000/48000 [==============================] - 5s 103us/step - loss: 0.7074 - acc: 0.7451 - val_loss: 0.7087 - val_acc: 0.7426\n",
      "Epoch 25/100\n",
      "48000/48000 [==============================] - 5s 97us/step - loss: 0.7071 - acc: 0.7438 - val_loss: 0.7073 - val_acc: 0.7465\n",
      "Epoch 26/100\n",
      "48000/48000 [==============================] - 5s 100us/step - loss: 0.7063 - acc: 0.7460 - val_loss: 0.7083 - val_acc: 0.7459\n",
      "Epoch 27/100\n",
      "48000/48000 [==============================] - 5s 94us/step - loss: 0.7055 - acc: 0.7465 - val_loss: 0.7118 - val_acc: 0.7408\n",
      "\n",
      "Epoch 00027: ReduceLROnPlateau reducing learning rate to 8.000000525498762e-06.\n",
      "Epoch 28/100\n",
      "48000/48000 [==============================] - 5s 100us/step - loss: 0.7024 - acc: 0.7479 - val_loss: 0.7059 - val_acc: 0.7441\n",
      "Epoch 29/100\n",
      "48000/48000 [==============================] - 6s 119us/step - loss: 0.7018 - acc: 0.7479 - val_loss: 0.7056 - val_acc: 0.7454\n",
      "Epoch 30/100\n",
      "48000/48000 [==============================] - 6s 129us/step - loss: 0.7017 - acc: 0.7482 - val_loss: 0.7053 - val_acc: 0.7448\n",
      "Epoch 31/100\n",
      "48000/48000 [==============================] - 5s 107us/step - loss: 0.7014 - acc: 0.7488 - val_loss: 0.7061 - val_acc: 0.7452\n",
      "Epoch 32/100\n",
      "48000/48000 [==============================] - 5s 113us/step - loss: 0.7013 - acc: 0.7486 - val_loss: 0.7057 - val_acc: 0.7449\n",
      "\n",
      "Epoch 00032: ReduceLROnPlateau reducing learning rate to 1.6000001778593287e-06.\n",
      "Epoch 33/100\n",
      "48000/48000 [==============================] - 8s 161us/step - loss: 0.7007 - acc: 0.7490 - val_loss: 0.7049 - val_acc: 0.7445\n",
      "Epoch 34/100\n",
      "48000/48000 [==============================] - 6s 133us/step - loss: 0.7006 - acc: 0.7488 - val_loss: 0.7049 - val_acc: 0.7442\n",
      "Epoch 35/100\n",
      "48000/48000 [==============================] - 5s 101us/step - loss: 0.7005 - acc: 0.7490 - val_loss: 0.7049 - val_acc: 0.7449\n",
      "\n",
      "Epoch 00035: ReduceLROnPlateau reducing learning rate to 3.200000264769187e-07.\n",
      "Epoch 36/100\n",
      "48000/48000 [==============================] - 5s 101us/step - loss: 0.7004 - acc: 0.7490 - val_loss: 0.7048 - val_acc: 0.7448\n",
      "Epoch 37/100\n",
      "48000/48000 [==============================] - 5s 102us/step - loss: 0.7003 - acc: 0.7493 - val_loss: 0.7048 - val_acc: 0.7446\n",
      "Epoch 38/100\n",
      "48000/48000 [==============================] - 5s 97us/step - loss: 0.7003 - acc: 0.7488 - val_loss: 0.7048 - val_acc: 0.7449\n",
      "\n",
      "Epoch 00038: ReduceLROnPlateau reducing learning rate to 6.400000529538374e-08.\n",
      "Epoch 39/100\n",
      "48000/48000 [==============================] - 5s 100us/step - loss: 0.7003 - acc: 0.7488 - val_loss: 0.7048 - val_acc: 0.7450\n",
      "Epoch 40/100\n",
      "48000/48000 [==============================] - 5s 104us/step - loss: 0.7003 - acc: 0.7489 - val_loss: 0.7048 - val_acc: 0.7449\n",
      "Epoch 41/100\n",
      "48000/48000 [==============================] - 6s 115us/step - loss: 0.7003 - acc: 0.7489 - val_loss: 0.7048 - val_acc: 0.7449\n",
      "\n",
      "Epoch 00041: ReduceLROnPlateau reducing learning rate to 1.2800001059076749e-08.\n",
      "Epoch 42/100\n",
      "48000/48000 [==============================] - 6s 120us/step - loss: 0.7003 - acc: 0.7488 - val_loss: 0.7048 - val_acc: 0.7449\n",
      "Epoch 43/100\n",
      "48000/48000 [==============================] - 5s 103us/step - loss: 0.7003 - acc: 0.7488 - val_loss: 0.7048 - val_acc: 0.7449\n",
      "Epoch 44/100\n",
      "48000/48000 [==============================] - 5s 99us/step - loss: 0.7003 - acc: 0.7488 - val_loss: 0.7048 - val_acc: 0.7449\n",
      "\n",
      "Epoch 00044: ReduceLROnPlateau reducing learning rate to 2.5600002118153498e-09.\n",
      "Epoch 45/100\n",
      "48000/48000 [==============================] - 5s 100us/step - loss: 0.7003 - acc: 0.7488 - val_loss: 0.7048 - val_acc: 0.7449\n",
      "Epoch 46/100\n",
      "48000/48000 [==============================] - 5s 99us/step - loss: 0.7003 - acc: 0.7488 - val_loss: 0.7048 - val_acc: 0.7449\n",
      "Epoch 47/100\n",
      "48000/48000 [==============================] - 5s 103us/step - loss: 0.7003 - acc: 0.7488 - val_loss: 0.7048 - val_acc: 0.7449\n",
      "\n",
      "Epoch 00047: ReduceLROnPlateau reducing learning rate to 5.1200004236307e-10.\n",
      "Epoch 48/100\n",
      "48000/48000 [==============================] - 5s 112us/step - loss: 0.7003 - acc: 0.7488 - val_loss: 0.7048 - val_acc: 0.7449\n",
      "Epoch 49/100\n",
      "48000/48000 [==============================] - 6s 116us/step - loss: 0.7003 - acc: 0.7488 - val_loss: 0.7048 - val_acc: 0.7449\n",
      "Epoch 50/100\n",
      "48000/48000 [==============================] - 6s 130us/step - loss: 0.7003 - acc: 0.7488 - val_loss: 0.7048 - val_acc: 0.7449\n",
      "\n",
      "Epoch 00050: ReduceLROnPlateau reducing learning rate to 1.0240001069306004e-10.\n",
      "Epoch 51/100\n",
      "48000/48000 [==============================] - 7s 144us/step - loss: 0.7003 - acc: 0.7488 - val_loss: 0.7048 - val_acc: 0.7449\n",
      "Epoch 52/100\n",
      "48000/48000 [==============================] - 8s 159us/step - loss: 0.7003 - acc: 0.7488 - val_loss: 0.7048 - val_acc: 0.7449\n",
      "Epoch 53/100\n",
      "48000/48000 [==============================] - 12s 246us/step - loss: 0.7003 - acc: 0.7488 - val_loss: 0.7048 - val_acc: 0.7449\n",
      "\n",
      "Epoch 00053: ReduceLROnPlateau reducing learning rate to 2.0480002416167767e-11.\n",
      "Epoch 54/100\n",
      "48000/48000 [==============================] - 13s 266us/step - loss: 0.7003 - acc: 0.7488 - val_loss: 0.7048 - val_acc: 0.7449\n",
      "Epoch 55/100\n",
      "48000/48000 [==============================] - 15s 315us/step - loss: 0.7003 - acc: 0.7488 - val_loss: 0.7048 - val_acc: 0.7449\n",
      "Epoch 56/100\n",
      "48000/48000 [==============================] - 11s 226us/step - loss: 0.7003 - acc: 0.7488 - val_loss: 0.7048 - val_acc: 0.7449\n",
      "\n",
      "Epoch 00056: ReduceLROnPlateau reducing learning rate to 4.096000622011431e-12.\n",
      "Epoch 57/100\n",
      "48000/48000 [==============================] - 9s 188us/step - loss: 0.7003 - acc: 0.7488 - val_loss: 0.7048 - val_acc: 0.7449\n",
      "Epoch 00057: early stopping\n"
     ]
    }
   ],
   "source": [
    "# Train the the model\n",
    "history = model.fit(\n",
    "    train_features_flat,\n",
    "    train_label,\n",
    "    epochs=NB_EPOCHS,\n",
    "    validation_data=(val_features_flat, valid_label),\n",
    "    callbacks=callbacks\n",
    ")"
   ]
  },
  {
   "cell_type": "markdown",
   "metadata": {},
   "source": [
    "#### Model Validation"
   ]
  },
  {
   "cell_type": "code",
   "execution_count": 59,
   "metadata": {},
   "outputs": [
    {
     "data": {
      "image/png": "[encoded data removed]",
      "text/plain": [
       "<Figure size 432x288 with 1 Axes>"
      ]
     },
     "metadata": {
      "needs_background": "light"
     },
     "output_type": "display_data"
    },
    {
     "data": {
      "image/png": "[encoded data removed]",
      "text/plain": [
       "<Figure size 432x288 with 1 Axes>"
      ]
     },
     "metadata": {
      "needs_background": "light"
     },
     "output_type": "display_data"
    }
   ],
   "source": [
    "# plot the loss and accuracy\n",
    "\n",
    "acc = history.history['acc']\n",
    "val_acc = history.history['val_acc']\n",
    "loss = history.history['loss']\n",
    "val_loss = history.history['val_loss']\n",
    "epochs = range(1, len(acc) + 1)\n",
    "\n",
    "plt.title('Training and validation accuracy')\n",
    "plt.plot(epochs, acc, 'red', label='Training acc')\n",
    "plt.plot(epochs, val_acc, 'blue', label='Validation acc')\n",
    "plt.legend()\n",
    "\n",
    "plt.figure()\n",
    "plt.title('Training and validation loss')\n",
    "plt.plot(epochs, loss, 'red', label='Training loss')\n",
    "plt.plot(epochs, val_loss, 'blue', label='Validation loss')\n",
    "\n",
    "plt.legend()\n",
    "\n",
    "plt.show()"
   ]
  },
  {
   "cell_type": "markdown",
   "metadata": {},
   "source": [
    "# MiniVGGNet"
   ]
  },
  {
   "cell_type": "code",
   "execution_count": 8,
   "metadata": {},
   "outputs": [],
   "source": [
    "# import the necessary packages\n",
    "from keras.models import Sequential\n",
    "from keras.layers.normalization import BatchNormalization\n",
    "from keras.layers.convolutional import Conv2D\n",
    "from keras.layers.convolutional import MaxPooling2D\n",
    "from keras.layers.core import Activation\n",
    "from keras.layers.core import Flatten\n",
    "from keras.layers.core import Dropout\n",
    "from keras.layers.core import Dense\n",
    "from keras import backend as K\n",
    " \n",
    "class MiniVGGNet:\n",
    "    @staticmethod\n",
    "    def build(width, height, depth, classes):\n",
    "        # initialize the model along with the input shape to be\n",
    "        # \"channels last\" and the channels dimension itself\n",
    "        model = Sequential()\n",
    "        inputShape = (height, width, depth)\n",
    "        chanDim = -1\n",
    "    \n",
    "        # if we are using \"channels first\", update the input shape\n",
    "        # and channels dimension\n",
    "        if K.image_data_format() == \"channels_first\":\n",
    "            inputShape = (depth, height, width)\n",
    "            chanDim = 1\n",
    "        \n",
    "        # first CONV => RELU => CONV => RELU => POOL layer set\n",
    "        model.add(Conv2D(32, (3, 3), padding=\"same\",\n",
    "            input_shape=inputShape))\n",
    "        model.add(Activation(\"relu\"))\n",
    "        model.add(BatchNormalization(axis=chanDim))\n",
    "        model.add(Conv2D(32, (3, 3), padding=\"same\"))\n",
    "        model.add(Activation(\"relu\"))\n",
    "        model.add(BatchNormalization(axis=chanDim))\n",
    "        model.add(MaxPooling2D(pool_size=(2, 2)))\n",
    "        model.add(Dropout(0.25))\n",
    "    \n",
    "        # second CONV => RELU => CONV => RELU => POOL layer set\n",
    "        model.add(Conv2D(64, (3, 3), padding=\"same\"))\n",
    "        model.add(Activation(\"relu\"))\n",
    "        model.add(BatchNormalization(axis=chanDim))\n",
    "        model.add(Conv2D(64, (3, 3), padding=\"same\"))\n",
    "        model.add(Activation(\"relu\"))\n",
    "        model.add(BatchNormalization(axis=chanDim))\n",
    "        model.add(MaxPooling2D(pool_size=(2, 2)))\n",
    "        model.add(Dropout(0.25))\n",
    "    \n",
    "        # first (and only) set of FC => RELU layers\n",
    "        model.add(Flatten())\n",
    "        model.add(Dense(512))\n",
    "        model.add(Activation(\"relu\"))\n",
    "        model.add(BatchNormalization())\n",
    "        model.add(Dropout(0.5))\n",
    "    \n",
    "        # softmax classifier\n",
    "        model.add(Dense(classes))\n",
    "        model.add(Activation(\"softmax\"))\n",
    "    \n",
    "        # return the constructed network architecture\n",
    "        return model"
   ]
  },
  {
   "cell_type": "code",
   "execution_count": 4,
   "metadata": {},
   "outputs": [],
   "source": [
    "# set the matplotlib backend so figures can be saved in the background\n",
    "import matplotlib\n",
    "matplotlib.use(\"Agg\")\n",
    " \n",
    "# import the necessary packages\n",
    "from pyimagesearch.minivggnet import MiniVGGNet\n",
    "from sklearn.metrics import classification_report\n",
    "from keras.optimizers import SGD\n",
    "from keras.datasets import fashion_mnist\n",
    "from keras.utils import np_utils\n",
    "from keras import backend as K\n",
    "from imutils import build_montages\n",
    "import matplotlib.pyplot as plt\n",
    "import numpy as np\n",
    "import cv2\n",
    " \n",
    "# initialize the number of epochs to train for, base learning rate,\n",
    "# and batch size\n",
    "NUM_EPOCHS = 25\n",
    "INIT_LR = 1e-2\n",
    "BS = 32"
   ]
  },
  {
   "cell_type": "code",
   "execution_count": 5,
   "metadata": {},
   "outputs": [
    {
     "name": "stdout",
     "output_type": "stream",
     "text": [
      "[INFO] loading Fashion MNIST...\n",
      "Downloading data from http://fashion-mnist.s3-website.eu-central-1.amazonaws.com/train-labels-idx1-ubyte.gz\n",
      "32768/29515 [=================================] - 0s 5us/step\n",
      "Downloading data from http://fashion-mnist.s3-website.eu-central-1.amazonaws.com/train-images-idx3-ubyte.gz\n",
      "26427392/26421880 [==============================] - 4s 0us/step\n",
      "Downloading data from http://fashion-mnist.s3-website.eu-central-1.amazonaws.com/t10k-labels-idx1-ubyte.gz\n",
      "8192/5148 [===============================================] - 0s 0us/step\n",
      "Downloading data from http://fashion-mnist.s3-website.eu-central-1.amazonaws.com/t10k-images-idx3-ubyte.gz\n",
      "4423680/4422102 [==============================] - 2s 0us/step\n"
     ]
    }
   ],
   "source": [
    "# grab the Fashion MNIST dataset (if this is your first time running\n",
    "# this the dataset will be automatically downloaded)\n",
    "print(\"[INFO] loading Fashion MNIST...\")\n",
    "((trainX, trainY), (testX, testY)) = fashion_mnist.load_data()\n",
    " \n",
    "# if we are using \"channels first\" ordering, then reshape the design\n",
    "# matrix such that the matrix is:\n",
    "# num_samples x depth x rows x columns\n",
    "if K.image_data_format() == \"channels_first\":\n",
    "    trainX = trainX.reshape((trainX.shape[0], 1, 28, 28))\n",
    "    testX = testX.reshape((testX.shape[0], 1, 28, 28))\n",
    " \n",
    "# otherwise, we are using \"channels last\" ordering, so the design\n",
    "# matrix shape should be: num_samples x rows x columns x depth\n",
    "else:\n",
    "    trainX = trainX.reshape((trainX.shape[0], 28, 28, 1))\n",
    "    testX = testX.reshape((testX.shape[0], 28, 28, 1))"
   ]
  },
  {
   "cell_type": "code",
   "execution_count": 6,
   "metadata": {},
   "outputs": [],
   "source": [
    "# scale data to the range of [0, 1]\n",
    "trainX = trainX.astype(\"float32\") / 255.0\n",
    "testX = testX.astype(\"float32\") / 255.0\n",
    " \n",
    "# one-hot encode the training and testing labels\n",
    "trainY = np_utils.to_categorical(trainY, 10)\n",
    "testY = np_utils.to_categorical(testY, 10)\n",
    " \n",
    "# initialize the label names\n",
    "labelNames = [\"top\", \"trouser\", \"pullover\", \"dress\", \"coat\", \"sandal\", \"shirt\", \"sneaker\", \"bag\", \"ankle boot\"]"
   ]
  },
  {
   "cell_type": "code",
   "execution_count": 10,
   "metadata": {},
   "outputs": [
    {
     "name": "stdout",
     "output_type": "stream",
     "text": [
      "[INFO] compiling model...\n",
      "WARNING:tensorflow:From /anaconda3/envs/datax/lib/python3.6/site-packages/tensorflow/python/framework/op_def_library.py:263: colocate_with (from tensorflow.python.framework.ops) is deprecated and will be removed in a future version.\n",
      "Instructions for updating:\n",
      "Colocations handled automatically by placer.\n",
      "WARNING:tensorflow:From /anaconda3/envs/datax/lib/python3.6/site-packages/keras/backend/tensorflow_backend.py:3445: calling dropout (from tensorflow.python.ops.nn_ops) with keep_prob is deprecated and will be removed in a future version.\n",
      "Instructions for updating:\n",
      "Please use `rate` instead of `keep_prob`. Rate should be set to `rate = 1 - keep_prob`.\n",
      "[INFO] training model...\n",
      "WARNING:tensorflow:From /anaconda3/envs/datax/lib/python3.6/site-packages/tensorflow/python/ops/math_ops.py:3066: to_int32 (from tensorflow.python.ops.math_ops) is deprecated and will be removed in a future version.\n",
      "Instructions for updating:\n",
      "Use tf.cast instead.\n",
      "Train on 60000 samples, validate on 10000 samples\n",
      "Epoch 1/25\n",
      "60000/60000 [==============================] - 333s 6ms/step - loss: 0.5525 - acc: 0.8139 - val_loss: 0.3217 - val_acc: 0.8853\n",
      "Epoch 2/25\n",
      "60000/60000 [==============================] - 333s 6ms/step - loss: 0.3479 - acc: 0.8757 - val_loss: 0.2817 - val_acc: 0.8969\n",
      "Epoch 3/25\n",
      "60000/60000 [==============================] - 335s 6ms/step - loss: 0.2979 - acc: 0.8927 - val_loss: 0.2509 - val_acc: 0.9070\n",
      "Epoch 4/25\n",
      "60000/60000 [==============================] - 336s 6ms/step - loss: 0.2731 - acc: 0.9022 - val_loss: 0.2390 - val_acc: 0.9103\n",
      "Epoch 5/25\n",
      "60000/60000 [==============================] - 332s 6ms/step - loss: 0.2572 - acc: 0.9064 - val_loss: 0.2249 - val_acc: 0.9161\n",
      "Epoch 6/25\n",
      "60000/60000 [==============================] - 335s 6ms/step - loss: 0.2448 - acc: 0.9109 - val_loss: 0.2224 - val_acc: 0.9165\n",
      "Epoch 7/25\n",
      "60000/60000 [==============================] - 336s 6ms/step - loss: 0.2372 - acc: 0.9137 - val_loss: 0.2174 - val_acc: 0.9199\n",
      "Epoch 8/25\n",
      "60000/60000 [==============================] - 336s 6ms/step - loss: 0.2284 - acc: 0.9162 - val_loss: 0.2132 - val_acc: 0.9224\n",
      "Epoch 9/25\n",
      "60000/60000 [==============================] - 335s 6ms/step - loss: 0.2213 - acc: 0.9205 - val_loss: 0.2102 - val_acc: 0.9224\n",
      "Epoch 10/25\n",
      "60000/60000 [==============================] - 334s 6ms/step - loss: 0.2193 - acc: 0.9206 - val_loss: 0.2106 - val_acc: 0.9224\n",
      "Epoch 11/25\n",
      "60000/60000 [==============================] - 325s 5ms/step - loss: 0.2108 - acc: 0.9230 - val_loss: 0.2095 - val_acc: 0.9232\n",
      "Epoch 12/25\n",
      "60000/60000 [==============================] - 324s 5ms/step - loss: 0.2081 - acc: 0.9242 - val_loss: 0.2047 - val_acc: 0.9241\n",
      "Epoch 13/25\n",
      "60000/60000 [==============================] - 331s 6ms/step - loss: 0.2029 - acc: 0.9263 - val_loss: 0.2039 - val_acc: 0.9262\n",
      "Epoch 14/25\n",
      "60000/60000 [==============================] - 345s 6ms/step - loss: 0.2012 - acc: 0.9269 - val_loss: 0.1983 - val_acc: 0.9276\n",
      "Epoch 15/25\n",
      "60000/60000 [==============================] - 341s 6ms/step - loss: 0.1983 - acc: 0.9284 - val_loss: 0.1980 - val_acc: 0.9266\n",
      "Epoch 16/25\n",
      "60000/60000 [==============================] - 340s 6ms/step - loss: 0.1936 - acc: 0.9293 - val_loss: 0.1942 - val_acc: 0.9297\n",
      "Epoch 17/25\n",
      "60000/60000 [==============================] - 343s 6ms/step - loss: 0.1900 - acc: 0.9305 - val_loss: 0.1937 - val_acc: 0.9295\n",
      "Epoch 18/25\n",
      "60000/60000 [==============================] - 344s 6ms/step - loss: 0.1901 - acc: 0.9296 - val_loss: 0.1935 - val_acc: 0.9282\n",
      "Epoch 19/25\n",
      "60000/60000 [==============================] - 344s 6ms/step - loss: 0.1855 - acc: 0.9315 - val_loss: 0.1919 - val_acc: 0.9303\n",
      "Epoch 20/25\n",
      "60000/60000 [==============================] - 339s 6ms/step - loss: 0.1846 - acc: 0.9330 - val_loss: 0.1921 - val_acc: 0.9301\n",
      "Epoch 21/25\n",
      "60000/60000 [==============================] - 340s 6ms/step - loss: 0.1823 - acc: 0.9331 - val_loss: 0.1919 - val_acc: 0.9301\n",
      "Epoch 22/25\n",
      "60000/60000 [==============================] - 337s 6ms/step - loss: 0.1811 - acc: 0.9332 - val_loss: 0.1877 - val_acc: 0.9305\n",
      "Epoch 23/25\n",
      "60000/60000 [==============================] - 336s 6ms/step - loss: 0.1793 - acc: 0.9356 - val_loss: 0.1888 - val_acc: 0.9314\n",
      "Epoch 24/25\n",
      "60000/60000 [==============================] - 337s 6ms/step - loss: 0.1772 - acc: 0.9346 - val_loss: 0.1894 - val_acc: 0.9304\n",
      "Epoch 25/25\n",
      "60000/60000 [==============================] - 337s 6ms/step - loss: 0.1761 - acc: 0.9345 - val_loss: 0.1891 - val_acc: 0.9303\n"
     ]
    }
   ],
   "source": [
    "# initialize the optimizer and model\n",
    "print(\"[INFO] compiling model...\")\n",
    "opt = SGD(lr=INIT_LR, momentum=0.9, decay=INIT_LR / NUM_EPOCHS)\n",
    "model = MiniVGGNet.build(width=28, height=28, depth=1, classes=10)\n",
    "model.compile(loss=\"categorical_crossentropy\", optimizer=opt, metrics=[\"accuracy\"])\n",
    " \n",
    "# train the network\n",
    "print(\"[INFO] training model...\")\n",
    "H = model.fit(trainX, trainY, validation_data=(testX, testY), batch_size=BS, epochs=NUM_EPOCHS)"
   ]
  },
  {
   "cell_type": "code",
   "execution_count": 11,
   "metadata": {},
   "outputs": [
    {
     "name": "stdout",
     "output_type": "stream",
     "text": [
      "[INFO] evaluating network...\n",
      "              precision    recall  f1-score   support\n",
      "\n",
      "         top       0.90      0.87      0.88      1000\n",
      "     trouser       0.99      0.99      0.99      1000\n",
      "    pullover       0.90      0.91      0.90      1000\n",
      "       dress       0.93      0.94      0.93      1000\n",
      "        coat       0.88      0.91      0.89      1000\n",
      "      sandal       0.99      0.98      0.99      1000\n",
      "       shirt       0.80      0.78      0.79      1000\n",
      "     sneaker       0.96      0.98      0.97      1000\n",
      "         bag       0.99      0.99      0.99      1000\n",
      "  ankle boot       0.98      0.96      0.97      1000\n",
      "\n",
      "   micro avg       0.93      0.93      0.93     10000\n",
      "   macro avg       0.93      0.93      0.93     10000\n",
      "weighted avg       0.93      0.93      0.93     10000\n",
      "\n"
     ]
    }
   ],
   "source": [
    "# make predictions on the test set\n",
    "preds = model.predict(testX)\n",
    " \n",
    "# show a nicely formatted classification report\n",
    "print(\"[INFO] evaluating network...\")\n",
    "print(classification_report(testY.argmax(axis=1), preds.argmax(axis=1), target_names=labelNames))\n",
    " \n",
    "# plot the training loss and accuracy\n",
    "N = NUM_EPOCHS\n",
    "plt.style.use(\"ggplot\")\n",
    "plt.figure()\n",
    "plt.plot(np.arange(0, N), H.history[\"loss\"], label=\"train_loss\")\n",
    "plt.plot(np.arange(0, N), H.history[\"val_loss\"], label=\"val_loss\")\n",
    "plt.plot(np.arange(0, N), H.history[\"acc\"], label=\"train_acc\")\n",
    "plt.plot(np.arange(0, N), H.history[\"val_acc\"], label=\"val_acc\")\n",
    "plt.title(\"Training Loss and Accuracy on Dataset\")\n",
    "plt.xlabel(\"Epoch #\")\n",
    "plt.ylabel(\"Loss/Accuracy\")\n",
    "plt.legend(loc=\"lower left\")\n",
    "plt.savefig(\"plot.png\")"
   ]
  },
  {
   "cell_type": "code",
   "execution_count": null,
   "metadata": {},
   "outputs": [],
   "source": []
  }
 ],
 "metadata": {
  "kernelspec": {
   "display_name": "Python 3",
   "language": "python",
   "name": "python3"
  },
  "language_info": {
   "codemirror_mode": {
    "name": "ipython",
    "version": 3
   },
   "file_extension": ".py",
   "mimetype": "text/x-python",
   "name": "python",
   "nbconvert_exporter": "python",
   "pygments_lexer": "ipython3",
   "version": "3.6.7"
  }
 },
 "nbformat": 4,
 "nbformat_minor": 4
}
