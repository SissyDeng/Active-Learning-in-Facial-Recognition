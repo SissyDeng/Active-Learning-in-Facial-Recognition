{
 "cells": [
  {
   "cell_type": "code",
   "execution_count": null,
   "metadata": {},
   "outputs": [],
   "source": [
    "import os\n",
    "import numpy\n",
    "import random, shutil\n",
    "\n",
    "def moveSomeFileToNewDir(fileDir, tarDir):\n",
    "    allDir = os.listdir(fileDir)  \n",
    "    for dir in allDir:  \n",
    "        sonDirName = os.path.join(fileDir, dir)  \n",
    "        if os.path.isdir(sonDirName):\n",
    "            pathDir = os.listdir(sonDirName)  \n",
    "            filenumber = len(pathDir)\n",
    "            rate = 0.3  \n",
    "            picknumber = int(filenumber * rate)  \n",
    "            sample = random.sample(pathDir, picknumber)  \n",
    "            for name in sample:\n",
    "                oldDir = sonDirName +'//'+ name\n",
    "                newDir = tarDir + '//' + dir\n",
    "                isExists = os.path.exists(newDir)\n",
    "                if not isExists:\n",
    "                    os.makedirs(newDir)\n",
    "                newTarDir = tarDir +'//'+dir +'//'+ name\n",
    "\n",
    "                shutil.move(oldDir, newDir)\n",
    "\n",
    "fileDir = r\"./lfw\"      \n",
    "valDir = r\"./val\"    \n",
    "moveSomeFileToNewDir(fileDir, valDir)\n",
    "# testDir = r'C:\\Users\\sissy\\Documents\\Capstone Proj\\FR\\Data\\test_data'    \n",
    "# moveSomeFileToNewDir(fileDir, testDir)"
   ]
  }
 ],
 "metadata": {
  "kernelspec": {
   "display_name": "Python 3",
   "language": "python",
   "name": "python3"
  },
  "language_info": {
   "codemirror_mode": {
    "name": "ipython",
    "version": 3
   },
   "file_extension": ".py",
   "mimetype": "text/x-python",
   "name": "python",
   "nbconvert_exporter": "python",
   "pygments_lexer": "ipython3",
   "version": "3.6.6"
  }
 },
 "nbformat": 4,
 "nbformat_minor": 2
}
