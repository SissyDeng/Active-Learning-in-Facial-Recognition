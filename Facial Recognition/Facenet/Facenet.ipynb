{
 "cells": [
  {
   "cell_type": "markdown",
   "metadata": {},
   "source": [
    "###### The code below is for the SubSampler Class, which we will use to train the model using only a fraction of the data.\n"
   ]
  },
  {
   "cell_type": "code",
   "execution_count": 1,
   "metadata": {},
   "outputs": [],
   "source": [
    "import torch.utils.data.sampler as samplers\n",
    "\n",
    "class SubsetSampler(samplers.Sampler):\n",
    "\n",
    "    def __init__(self, indices):\n",
    "        self.indices = indices\n",
    "\n",
    "    def __iter__(self):\n",
    "        return (self.indices[i] for i in range(len(self.indices)))\n",
    "\n",
    "    def __len__(self):\n",
    "        return len(self.indices)"
   ]
  },
  {
   "cell_type": "markdown",
   "metadata": {
    "colab_type": "text",
    "id": "9Bke87ExY8UB"
   },
   "source": [
    "# Models"
   ]
  },
  {
   "cell_type": "code",
   "execution_count": 2,
   "metadata": {
    "colab": {},
    "colab_type": "code",
    "id": "ovOy2wavxmgV"
   },
   "outputs": [],
   "source": [
    "import numpy as np\n",
    "import torch\n",
    "import torch.nn as nn\n",
    "from torchvision.models import resnet34\n",
    "\n",
    "\n",
    "class FaceNetModel(nn.Module):\n",
    "    def __init__(self, embedding_size, num_classes, pretrained=False):\n",
    "        super (FaceNetModel, self).__init__()\n",
    "        \n",
    "        self.model = resnet34(pretrained)\n",
    "        self.embedding_size = embedding_size\n",
    "        self.model.fc = nn.Linear(8192, self.embedding_size)\n",
    "        self.model.classifier = nn.Linear(self.embedding_size, num_classes)\n",
    "    \n",
    "    \n",
    "    def l2_norm(self, input):\n",
    "        input_size = input.size()\n",
    "        buffer = torch.pow(input, 2)\n",
    "        normp = torch.sum(buffer, 1).add_(1e-10)\n",
    "        norm = torch.sqrt(normp)\n",
    "        _output = torch.div(input, norm.view(-1, 1).expand_as(input))\n",
    "        output = _output.view(input_size)\n",
    "    \n",
    "        return output\n",
    "    \n",
    "    \n",
    "    def forward(self, x):\n",
    "        x = self.model.conv1(x)\n",
    "        x = self.model.bn1(x)\n",
    "        x = self.model.relu(x)\n",
    "        x = self.model.maxpool(x)\n",
    "        x = self.model.layer1(x)\n",
    "        x = self.model.layer2(x)\n",
    "        x = self.model.layer3(x)\n",
    "        x = self.model.layer4(x)\n",
    "        x = x.view(x.size(0), -1)\n",
    "        x = self.model.fc(x)\n",
    "        \n",
    "        self.features = self.l2_norm(x)\n",
    "        # Multiply by alpha = 10 as suggested in https://arxiv.org/pdf/1703.09507.pdf\n",
    "        alpha         = 10\n",
    "        self.features = self.features*alpha\n",
    "        \n",
    "        return self.features\n",
    "    \n",
    "    \n",
    "    def forward_classifier(self, x):\n",
    "        features = self.forward(x)\n",
    "        res      = self.model.classifier(features)\n",
    "        \n",
    "        return res"
   ]
  },
  {
   "cell_type": "markdown",
   "metadata": {
    "colab_type": "text",
    "id": "7DhykJaEbsZg"
   },
   "source": [
    "# Training function"
   ]
  },
  {
   "cell_type": "code",
   "execution_count": 3,
   "metadata": {
    "colab": {},
    "colab_type": "code",
    "id": "YxhzZMQEn7FN"
   },
   "outputs": [],
   "source": [
    "def train_valid(model, optimizer, scheduler, epoch, dataloaders, data_size, margin):\n",
    "    \n",
    "    for phase in ['train', 'valid']:\n",
    "\n",
    "        labels, distances = [], []\n",
    "        triplet_loss_sum  = 0.0\n",
    "\n",
    "        if phase == 'train':\n",
    "            optimizer.zero_grad()\n",
    "            optimizer.step()\n",
    "            scheduler.step()\n",
    "            model.train()\n",
    "        else:\n",
    "            model.eval()\n",
    "                        \n",
    "        batch_idx_past = 0\n",
    "        \n",
    "        for batch_idx, batch_sample in enumerate(dataloaders[phase]):\n",
    "            \n",
    "            anc_img = batch_sample['anc_img'].to(device)\n",
    "            pos_img = batch_sample['pos_img'].to(device)\n",
    "            neg_img = batch_sample['neg_img'].to(device)\n",
    "        \n",
    "            pos_cls = batch_sample['pos_class'].to(device)\n",
    "            neg_cls = batch_sample['neg_class'].to(device)\n",
    "                            \n",
    "            with torch.set_grad_enabled(phase == 'train'):\n",
    "            \n",
    "                # anc_embed, pos_embed and neg_embed are encoding(embedding) of image\n",
    "                anc_embed, pos_embed, neg_embed = model(anc_img), model(pos_img), model(neg_img)\n",
    "            \n",
    "                # choose the hard negatives only for \"training\"\n",
    "                pos_dist = l2_dist.forward(anc_embed, pos_embed)\n",
    "                neg_dist = l2_dist.forward(anc_embed, neg_embed)\n",
    "            \n",
    "                all = (neg_dist - pos_dist < margin).cpu().numpy().flatten()\n",
    "                if phase == 'train':\n",
    "                    hard_triplets = np.where(all == 1)\n",
    "                    if len(hard_triplets[0]) == 0:\n",
    "                        continue\n",
    "                else:\n",
    "                    hard_triplets = np.where(all >= 0)\n",
    "                \n",
    "                anc_hard_embed = anc_embed[hard_triplets].to(device)\n",
    "                pos_hard_embed = pos_embed[hard_triplets].to(device)\n",
    "                neg_hard_embed = neg_embed[hard_triplets].to(device)\n",
    "            \n",
    "                anc_hard_img  = anc_img[hard_triplets].to(device)\n",
    "                pos_hard_img  = pos_img[hard_triplets].to(device)\n",
    "                neg_hard_img  = neg_img[hard_triplets].to(device)\n",
    "            \n",
    "                pos_hard_cls  = pos_cls[hard_triplets].to(device)\n",
    "                neg_hard_cls  = neg_cls[hard_triplets].to(device)\n",
    "            \n",
    "                anc_img_pred  = model.forward_classifier(anc_hard_img).to(device)\n",
    "                pos_img_pred  = model.forward_classifier(pos_hard_img).to(device)\n",
    "                neg_img_pred  = model.forward_classifier(neg_hard_img).to(device)\n",
    "            \n",
    "                triplet_loss  = TripletLoss(margin).forward(anc_hard_embed, pos_hard_embed, neg_hard_embed).to(device)\n",
    "        \n",
    "                if phase == 'train':\n",
    "                    optimizer.zero_grad()\n",
    "                    triplet_loss.backward()\n",
    "                    optimizer.step()\n",
    "            \n",
    "                dists = l2_dist.forward(anc_embed, pos_embed)\n",
    "                distances.append(dists.data.cpu().numpy())\n",
    "                labels.append(np.ones(dists.size(0))) \n",
    "\n",
    "                dists = l2_dist.forward(anc_embed, neg_embed)\n",
    "                distances.append(dists.data.cpu().numpy())\n",
    "                labels.append(np.zeros(dists.size(0)))\n",
    "                \n",
    "                loss_sum_batch = triplet_loss.item()\n",
    "                triplet_loss_sum += triplet_loss.item()\n",
    "\n",
    "                if batch_idx % 10 == 9:    \n",
    "                    print('[%d, %5d] loss: %.8f' %\n",
    "                            (epoch + 1, batch_size * (batch_idx + 1), loss_sum_batch / batch_size))\n",
    "                          \n",
    "        avg_triplet_loss = triplet_loss_sum / data_size[phase]\n",
    "        labels = np.array([sublabel for label in labels for sublabel in label])\n",
    "        distances = np.array([subdist for dist in distances for subdist in dist])\n",
    "    \n",
    "        tpr, fpr, accuracy, val, val_std, far = evaluate(distances, labels)\n",
    "        print('{} set - Triplet Loss = {:.8f}'.format(phase, avg_triplet_loss))\n",
    "        print('{} set - Accuracy     = {:.8f}'.format(phase, np.mean(accuracy)))\n",
    "   \n",
    "        with open(train_root_dir+'log/{}_log_epoch{}.txt'.format(phase, epoch), 'w') as f:\n",
    "            f.write(str(epoch) + '\\t' +\n",
    "                str(np.mean(accuracy)) + '\\t' +\n",
    "                str(avg_triplet_loss))\n",
    "            \n",
    "        if phase == 'train':\n",
    "            torch.save({'epoch': epoch,\n",
    "                  'state_dict': model.state_dict()},\n",
    "                  train_root_dir+'log/checkpoint_epoch{}.pth'.format(epoch))\n",
    "        else:\n",
    "            plot_roc(fpr, tpr, figure_name = train_root_dir+'log/roc_valid_epoch_{}.jpg'.format(epoch))"
   ]
  },
  {
   "cell_type": "markdown",
   "metadata": {
    "colab_type": "text",
    "id": "2EsrDVIPb0xf"
   },
   "source": [
    "# Data loader"
   ]
  },
  {
   "cell_type": "code",
   "execution_count": 17,
   "metadata": {
    "colab": {},
    "colab_type": "code",
    "id": "5yWX4JA0b3As"
   },
   "outputs": [],
   "source": [
    "import os\n",
    "import numpy as np\n",
    "import pandas as pd\n",
    "from skimage import io\n",
    "import torch\n",
    "from torchvision import transforms\n",
    "from torch.utils.data import Dataset\n",
    "\n",
    "\n",
    "class TripletFaceDataset(Dataset):\n",
    "\n",
    "    def __init__(self, root_dir, csv_name, num_triplets, transform = None):\n",
    "        \n",
    "        self.root_dir = root_dir\n",
    "        self.df = pd.read_csv(csv_name)\n",
    "        self.num_triplets = num_triplets\n",
    "        self.transform = transform\n",
    "        self.training_triplets = self.generate_triplets(self.df, self.num_triplets)\n",
    "    \n",
    "    \n",
    "    @staticmethod\n",
    "    def generate_triplets(df, num_triplets):\n",
    "        \n",
    "        def make_dictionary_for_face_class(df):\n",
    "\n",
    "            '''\n",
    "              - face_classes = {'class0': [class0_id0, ...], 'class1': [class1_id0, ...], ...}\n",
    "            '''\n",
    "            face_classes = dict()\n",
    "            for idx, label in enumerate(df['class']):\n",
    "                if label not in face_classes:\n",
    "                    face_classes[label] = []\n",
    "                face_classes[label].append(df.iloc[idx, 0])\n",
    "            return face_classes\n",
    "        \n",
    "        triplets = []\n",
    "        classes = df['class'].unique()\n",
    "        face_classes = make_dictionary_for_face_class(df)\n",
    "         \n",
    "        for _ in range(num_triplets):\n",
    "\n",
    "            '''\n",
    "              - randomly choose anchor, positive and negative images for triplet loss\n",
    "              - anchor and positive images in pos_class\n",
    "              - negative image in neg_class\n",
    "              - at least, two images needed for anchor and positive images in pos_class\n",
    "              - negative image should have different class as anchor and positive images by definition\n",
    "            '''\n",
    "        \n",
    "            pos_class = np.random.choice(classes)\n",
    "            neg_class = np.random.choice(classes)\n",
    "            while len(face_classes[pos_class]) < 2:\n",
    "                pos_class = np.random.choice(classes)\n",
    "            while pos_class == neg_class:\n",
    "                neg_class = np.random.choice(classes)\n",
    "            \n",
    "            pos_name = df.loc[df['class'] == pos_class, 'name'].values[0]\n",
    "            neg_name = df.loc[df['class'] == neg_class, 'name'].values[0]\n",
    "\n",
    "            if len(face_classes[pos_class]) == 2:\n",
    "                ianc, ipos = np.random.choice(2, size = 2, replace = False)\n",
    "            else:\n",
    "                ianc = np.random.randint(0, len(face_classes[pos_class]))\n",
    "                ipos = np.random.randint(0, len(face_classes[pos_class]))\n",
    "                while ianc == ipos:\n",
    "                    ipos = np.random.randint(0, len(face_classes[pos_class]))\n",
    "            ineg = np.random.randint(0, len(face_classes[neg_class]))\n",
    "            \n",
    "            triplets.append([face_classes[pos_class][ianc], face_classes[pos_class][ipos], face_classes[neg_class][ineg], \n",
    "                             pos_class, neg_class, pos_name, neg_name])\n",
    "        \n",
    "        return triplets\n",
    "    \n",
    "    \n",
    "    def __getitem__(self, idx):\n",
    "        \n",
    "        anc_id, pos_id, neg_id, pos_class, neg_class, pos_name, neg_name = self.training_triplets[idx]\n",
    "        \n",
    "        anc_img   = os.path.join(self.root_dir, str(pos_name), str(anc_id) + '.jpg')\n",
    "        pos_img   = os.path.join(self.root_dir, str(pos_name), str(pos_id) + '.jpg')\n",
    "        neg_img   = os.path.join(self.root_dir, str(neg_name), str(neg_id) + '.jpg')\n",
    "        \n",
    "        anc_img   = io.imread(anc_img)\n",
    "        pos_img   = io.imread(pos_img)\n",
    "        neg_img   = io.imread(neg_img)\n",
    "\n",
    "        pos_class = torch.from_numpy(np.array([pos_class]).astype('long'))\n",
    "        neg_class = torch.from_numpy(np.array([neg_class]).astype('long'))\n",
    "        \n",
    "        sample = {'anc_img': anc_img, 'pos_img': pos_img, 'neg_img': neg_img, 'pos_class': pos_class, 'neg_class': neg_class}\n",
    "\n",
    "        if self.transform:\n",
    "            sample['anc_img'] = self.transform(sample['anc_img'])\n",
    "            sample['pos_img'] = self.transform(sample['pos_img'])\n",
    "            sample['neg_img'] = self.transform(sample['neg_img'])\n",
    "            \n",
    "        return sample\n",
    "    \n",
    "    \n",
    "    def __len__(self):\n",
    "        \n",
    "        return len(self.training_triplets)\n",
    "    \n",
    "\n",
    "def get_dataloader(train_root_dir,     valid_root_dir, \n",
    "          train_csv_name,     valid_csv_name, \n",
    "          num_train_triplets, num_valid_triplets\n",
    "          batch_size,       num_workers):\n",
    "    \n",
    "    data_transforms = {\n",
    "        'train': transforms.Compose([\n",
    "            transforms.ToPILImage(),\n",
    "            transforms.RandomHorizontalFlip(),\n",
    "            transforms.ToTensor(),\n",
    "            transforms.Normalize(mean = [0.5, 0.5, 0.5], std = [0.5, 0.5, 0.5])]),\n",
    "        'valid': transforms.Compose([\n",
    "            transforms.ToPILImage(),\n",
    "            transforms.ToTensor(),\n",
    "            transforms.Normalize(mean = [0.5, 0.5, 0.5], std = [0.5, 0.5, 0.5])])}\n",
    "\n",
    "    face_dataset = {\n",
    "        'train' : TripletFaceDataset(root_dir     = train_root_dir,\n",
    "                                  csv_name = train_csv_name,\n",
    "                                  num_triplets = num_train_triplets,\n",
    "                                  transform = data_transforms['train']),\n",
    "        'valid' : TripletFaceDataset(root_dir     = valid_root_dir,\n",
    "                                  csv_name = valid_csv_name,\n",
    "                                  num_triplets = num_valid_triplets,\n",
    "                                  transform = data_transforms['valid'])}\n",
    "\n",
    "    dataloaders = {\n",
    "        x: torch.utils.data.DataLoader(face_dataset[x], \n",
    "                                       batch_size = batch_size, \n",
    "                                       shuffle = False,\n",
    "                                       num_workers = num_workers)\n",
    "        for x in ['train', 'valid']}\n",
    "    \n",
    "    data_size = {x: len(face_dataset[x]) for x in ['train', 'valid']}\n",
    "\n",
    "    return dataloaders, data_size"
   ]
  },
  {
   "cell_type": "markdown",
   "metadata": {
    "colab_type": "text",
    "id": "8EvI-dw0cA0c"
   },
   "source": [
    "# Utils"
   ]
  },
  {
   "cell_type": "code",
   "execution_count": 6,
   "metadata": {
    "colab": {},
    "colab_type": "code",
    "id": "OBlfNoBtcFrd"
   },
   "outputs": [],
   "source": [
    "import torch\n",
    "from torch.autograd import Function\n",
    "from torch.nn.modules.distance import PairwiseDistance\n",
    "\n",
    "\n",
    "class TripletLoss(Function):\n",
    "    \n",
    "    def __init__(self, margin):\n",
    "        super(TripletLoss, self).__init__()\n",
    "        self.margin = margin\n",
    "        self.pdist  = PairwiseDistance(2)\n",
    "        \n",
    "    def forward(self, anchor, positive, negative):\n",
    "        pos_dist = self.pdist.forward(anchor, positive)\n",
    "        neg_dist = self.pdist.forward(anchor, negative)\n",
    "        \n",
    "        hinge_dist = torch.clamp(self.margin + pos_dist - neg_dist, min = 0.0)\n",
    "        loss = torch.mean(hinge_dist)\n",
    "        return loss"
   ]
  },
  {
   "cell_type": "markdown",
   "metadata": {
    "colab_type": "text",
    "id": "nsdil8R4cNjR"
   },
   "source": [
    "# Evaluation metrics"
   ]
  },
  {
   "cell_type": "code",
   "execution_count": 7,
   "metadata": {
    "colab": {},
    "colab_type": "code",
    "id": "ry3RP7hHcRro"
   },
   "outputs": [],
   "source": [
    "import operator\n",
    "import numpy as np\n",
    "from sklearn.model_selection import KFold\n",
    "from scipy import interpolate\n",
    "\n",
    "\n",
    "def evaluate(distances, labels, nrof_folds=10):\n",
    "    # Calculate evaluation metrics\n",
    "    thresholds = np.arange(0, 30, 0.01)\n",
    "    tpr, fpr, accuracy = calculate_roc(thresholds, distances,\n",
    "        labels, nrof_folds=nrof_folds)\n",
    "    thresholds = np.arange(0, 30, 0.001)\n",
    "    val, val_std, far = calculate_val(thresholds, distances,\n",
    "        labels, 1e-3, nrof_folds=nrof_folds)\n",
    "    return tpr, fpr, accuracy, val, val_std, far\n",
    "\n",
    "\n",
    "def calculate_roc(thresholds, distances, labels, nrof_folds=10):\n",
    "\n",
    "    nrof_pairs = min(len(labels), len(distances))\n",
    "    nrof_thresholds = len(thresholds)\n",
    "    k_fold = KFold(n_splits=nrof_folds, shuffle=False)\n",
    "\n",
    "    tprs = np.zeros((nrof_folds,nrof_thresholds))\n",
    "    fprs = np.zeros((nrof_folds,nrof_thresholds))\n",
    "    accuracy = np.zeros((nrof_folds))\n",
    "\n",
    "    indices = np.arange(nrof_pairs)\n",
    "\n",
    "    for fold_idx, (train_set, test_set) in enumerate(k_fold.split(indices)):\n",
    "\n",
    "        # Find the best threshold for the fold\n",
    "        acc_train = np.zeros((nrof_thresholds))\n",
    "        for threshold_idx, threshold in enumerate(thresholds):\n",
    "            _, _, acc_train[threshold_idx] = calculate_accuracy(threshold, distances[train_set], labels[train_set])\n",
    "        best_threshold_index = np.argmax(acc_train)\n",
    "        for threshold_idx, threshold in enumerate(thresholds):\n",
    "            tprs[fold_idx,threshold_idx], fprs[fold_idx,threshold_idx], _ = calculate_accuracy(threshold, distances[test_set], labels[test_set])\n",
    "        _, _, accuracy[fold_idx] = calculate_accuracy(thresholds[best_threshold_index], distances[test_set], labels[test_set])\n",
    "\n",
    "        tpr = np.mean(tprs,0)\n",
    "        fpr = np.mean(fprs,0)\n",
    "    return tpr, fpr, accuracy\n",
    "\n",
    "\n",
    "def calculate_accuracy(threshold, dist, actual_issame):\n",
    "    predict_issame = np.less(dist, threshold)\n",
    "    tp = np.sum(np.logical_and(predict_issame, actual_issame))\n",
    "    fp = np.sum(np.logical_and(predict_issame, np.logical_not(actual_issame)))\n",
    "    tn = np.sum(np.logical_and(np.logical_not(predict_issame), np.logical_not(actual_issame)))\n",
    "    fn = np.sum(np.logical_and(np.logical_not(predict_issame), actual_issame))\n",
    "\n",
    "    tpr = 0 if (tp+fn==0) else float(tp) / float(tp+fn)\n",
    "    fpr = 0 if (fp+tn==0) else float(fp) / float(fp+tn)\n",
    "    acc = float(tp+tn)/dist.size\n",
    "    return tpr, fpr, acc\n",
    "\n",
    "\n",
    "def calculate_val(thresholds, distances, labels, far_target=1e-3, nrof_folds=10):\n",
    "    nrof_pairs = min(len(labels), len(distances))\n",
    "    nrof_thresholds = len(thresholds)\n",
    "    k_fold = KFold(n_splits=nrof_folds, shuffle=False)\n",
    "\n",
    "    val = np.zeros(nrof_folds)\n",
    "    far = np.zeros(nrof_folds)\n",
    "\n",
    "    indices = np.arange(nrof_pairs)\n",
    "\n",
    "    for fold_idx, (train_set, test_set) in enumerate(k_fold.split(indices)):\n",
    "\n",
    "        # Find the threshold that gives FAR = far_target\n",
    "        far_train = np.zeros(nrof_thresholds)\n",
    "        for threshold_idx, threshold in enumerate(thresholds):\n",
    "            _, far_train[threshold_idx] = calculate_val_far(threshold, distances[train_set], labels[train_set])\n",
    "        if np.max(far_train)>=far_target:\n",
    "            f = interpolate.interp1d(far_train, thresholds, kind='slinear')\n",
    "            threshold = f(far_target)\n",
    "        else:\n",
    "            threshold = 0.0\n",
    "\n",
    "        val[fold_idx], far[fold_idx] = calculate_val_far(threshold, distances[test_set], labels[test_set])\n",
    "\n",
    "    val_mean = np.mean(val)\n",
    "    far_mean = np.mean(far)\n",
    "    val_std = np.std(val)\n",
    "    return val_mean, val_std, far_mean\n",
    "\n",
    "\n",
    "def calculate_val_far(threshold, dist, actual_issame):\n",
    "    predict_issame = np.less(dist, threshold)\n",
    "    true_accept = np.sum(np.logical_and(predict_issame, actual_issame))\n",
    "    false_accept = np.sum(np.logical_and(predict_issame, np.logical_not(actual_issame)))\n",
    "    n_same = np.sum(actual_issame)\n",
    "    n_diff = np.sum(np.logical_not(actual_issame))\n",
    "    if n_diff == 0:\n",
    "        n_diff = 1\n",
    "    if n_same == 0:\n",
    "        return 0,0\n",
    "    val = float(true_accept) / float(n_same)\n",
    "    far = float(false_accept) / float(n_diff)\n",
    "    return val, far\n",
    "\n",
    "\n",
    "def plot_roc(fpr,tpr,figure_name=\"roc.png\"):\n",
    "    import matplotlib.pyplot as plt\n",
    "    plt.switch_backend('Agg')\n",
    "\n",
    "    from sklearn.metrics import roc_curve, auc\n",
    "    roc_auc = auc(fpr, tpr)\n",
    "    fig = plt.figure()\n",
    "    lw = 2\n",
    "    plt.plot(fpr, tpr, color='red',\n",
    "             lw=lw, label='ROC curve (area = %0.2f)' % roc_auc)\n",
    "    plt.plot([0, 1], [0, 1], color='blue', lw=lw, linestyle='--')\n",
    "    plt.xlim([0.0, 1.0])\n",
    "    plt.ylim([0.0, 1.05])\n",
    "    plt.xlabel('False Positive Rate')\n",
    "    plt.ylabel('True Positive Rate')\n",
    "    plt.title('Receiver operating characteristic')\n",
    "    plt.legend(loc=\"lower right\")\n",
    "    fig.savefig(figure_name, dpi=fig.dpi)"
   ]
  },
  {
   "cell_type": "markdown",
   "metadata": {
    "colab_type": "text",
    "id": "bLh7PqKGamax"
   },
   "source": [
    "# Training process"
   ]
  },
  {
   "cell_type": "code",
   "execution_count": 8,
   "metadata": {
    "colab": {},
    "colab_type": "code",
    "id": "tz5VDUQ0gq4E"
   },
   "outputs": [],
   "source": [
    "import numpy as np\n",
    "import argparse\n",
    "import torch\n",
    "import torch.nn as nn\n",
    "import torch.optim as optim\n",
    "from torch.optim import lr_scheduler\n",
    "from torch.nn.modules.distance import PairwiseDistance\n",
    "import torchvision\n",
    "from torchvision import transforms"
   ]
  },
  {
   "cell_type": "code",
   "execution_count": 24,
   "metadata": {
    "colab": {},
    "colab_type": "code",
    "id": "3HD0W028hVQ3"
   },
   "outputs": [],
   "source": [
    "start_epoch = 0\n",
    "num_epochs = 2\n",
    "num_classes = 5760\n",
    "num_train_triplets = 5760\n",
    "num_valid_triplets = 5760\n",
    "embedding_size = 128\n",
    "batch_size = 64 \n",
    "num_workers = 4\n",
    "learning_rate = 0.001\n",
    "margin = 0.5\n",
    "train_root_dir = './train/'\n",
    "valid_root_dir = './val/'\n",
    "train_csv_name = './train/lfw_train.csv'\n",
    "valid_csv_name = './val/lfw_valid.csv'"
   ]
  },
  {
   "cell_type": "code",
   "execution_count": 22,
   "metadata": {
    "colab": {},
    "colab_type": "code",
    "id": "-WlxKvpcn0Uo"
   },
   "outputs": [],
   "source": [
    "device  = torch.device('cuda:0' if torch.cuda.is_available() else 'cpu')\n",
    "l2_dist = PairwiseDistance(2)"
   ]
  },
  {
   "cell_type": "code",
   "execution_count": 25,
   "metadata": {
    "colab": {},
    "colab_type": "code",
    "id": "Etj5OYrIoA74"
   },
   "outputs": [
    {
     "name": "stdout",
     "output_type": "stream",
     "text": [
      "================================================================================\n",
      "Epoch [0/1]\n",
      "[1,   640] loss: 0.00729657\n",
      "[1,  1280] loss: 0.00745805\n",
      "[1,  1920] loss: 0.00790976\n",
      "[1,  2560] loss: 0.00707583\n",
      "[1,  3200] loss: 0.01027036\n",
      "[1,  3840] loss: 0.00787548\n",
      "[1,  4480] loss: 0.00744568\n",
      "[1,  5120] loss: 0.00839846\n",
      "[1,  5760] loss: 0.00799824\n",
      "train set - Triplet Loss = 0.00813346\n",
      "train set - Accuracy     = 0.63767361\n",
      "[1,   640] loss: 0.00375600\n",
      "[1,  1280] loss: 0.00499585\n",
      "[1,  1920] loss: 0.00480763\n",
      "[1,  2560] loss: 0.00504186\n",
      "[1,  3200] loss: 0.00458017\n",
      "[1,  3840] loss: 0.00402626\n",
      "[1,  4480] loss: 0.00551893\n",
      "[1,  5120] loss: 0.00345824\n",
      "[1,  5760] loss: 0.00501642\n",
      "valid set - Triplet Loss = 0.00472327\n",
      "valid set - Accuracy     = 0.67899306\n",
      "================================================================================\n",
      "Epoch [1/1]\n",
      "[2,   640] loss: 0.00691827\n",
      "[2,  1280] loss: 0.00631866\n",
      "[2,  1920] loss: 0.00752111\n",
      "[2,  2560] loss: 0.00795413\n",
      "[2,  3200] loss: 0.00936439\n",
      "[2,  3840] loss: 0.00896156\n",
      "[2,  4480] loss: 0.00874978\n",
      "[2,  5120] loss: 0.00882837\n",
      "[2,  5760] loss: 0.00590835\n",
      "train set - Triplet Loss = 0.00787645\n",
      "train set - Accuracy     = 0.71328125\n",
      "[2,   640] loss: 0.00302451\n",
      "[2,  1280] loss: 0.00310748\n",
      "[2,  1920] loss: 0.00369838\n",
      "[2,  2560] loss: 0.00360624\n",
      "[2,  3200] loss: 0.00320495\n",
      "[2,  3840] loss: 0.00299513\n",
      "[2,  4480] loss: 0.00387288\n",
      "[2,  5120] loss: 0.00283783\n",
      "[2,  5760] loss: 0.00376622\n",
      "valid set - Triplet Loss = 0.00366775\n",
      "valid set - Accuracy     = 0.72144097\n"
     ]
    },
    {
     "data": {
      "image/png": "[encoded data removed]",
      "text/plain": [
       "<Figure size 432x288 with 1 Axes>"
      ]
     },
     "metadata": {},
     "output_type": "display_data"
    }
   ],
   "source": [
    "model     = FaceNetModel(embedding_size = embedding_size, num_classes = num_classes).to(device)\n",
    "optimizer = optim.Adam(model.parameters(), lr = learning_rate)\n",
    "scheduler = lr_scheduler.StepLR(optimizer, step_size = 50, gamma = 0.1)\n",
    "\n",
    "if start_epoch != 0:\n",
    "    checkpoint = torch.load('./log/checkpoint_epoch{}.pth'.format(start_epoch-1))\n",
    "    model.load_state_dict(checkpoint['state_dict'])      \n",
    "    \n",
    "for epoch in range(start_epoch, num_epochs + start_epoch):\n",
    "\n",
    "    print(80 * '=')\n",
    "    print('Epoch [{}/{}]'.format(epoch, num_epochs + start_epoch - 1))\n",
    "    \n",
    "    data_loaders, data_size = get_dataloader(train_root_dir,     valid_root_dir,\n",
    "                                             train_csv_name,     valid_csv_name,\n",
    "                                             num_train_triplets,   num_valid_triplets,   \n",
    "                                             batch_size,       num_workers)\n",
    "\n",
    "    train_valid(model, optimizer, scheduler, epoch, data_loaders, data_size, margin)"
   ]
  },
  {
   "cell_type": "code",
   "execution_count": 21,
   "metadata": {
    "colab": {},
    "colab_type": "code",
    "id": "4bw3Y6uUF9OC"
   },
   "outputs": [
    {
     "name": "stderr",
     "output_type": "stream",
     "text": [
      "/home/ubuntu/anaconda3/lib/python3.6/site-packages/sklearn/externals/joblib/__init__.py:15: DeprecationWarning: sklearn.externals.joblib is deprecated in 0.21 and will be removed in 0.23. Please import this functionality directly from joblib, which can be installed with: pip install joblib. If this warning is raised when loading pickled models, you may need to re-serialize those models with scikit-learn 0.21+.\n",
      "  warnings.warn(msg, category=DeprecationWarning)\n"
     ]
    },
    {
     "data": {
      "text/plain": [
       "['./facenet.pkl']"
      ]
     },
     "execution_count": 21,
     "metadata": {},
     "output_type": "execute_result"
    }
   ],
   "source": [
    "# save trained model\n",
    "from sklearn.externals import joblib\n",
    "joblib.dump(model, './facenet.pkl')"
   ]
  },
  {
   "cell_type": "markdown",
   "metadata": {
    "colab_type": "text",
    "id": "T7UX4pMMiJjv"
   },
   "source": [
    "# Plot Results"
   ]
  },
  {
   "cell_type": "code",
   "execution_count": 20,
   "metadata": {},
   "outputs": [
    {
     "data": {
      "image/png": "[encoded data removed]",
      "text/plain": [
       "<Figure size 432x288 with 1 Axes>"
      ]
     },
     "metadata": {},
     "output_type": "display_data"
    },
    {
     "data": {
      "image/png": "[encoded data removed]",
      "text/plain": [
       "<Figure size 432x288 with 1 Axes>"
      ]
     },
     "metadata": {},
     "output_type": "display_data"
    }
   ],
   "source": [
    "import numpy as np\n",
    "import csv\n",
    "import matplotlib.pyplot as plt\n",
    "\n",
    "fig = plt.figure()\n",
    "\n",
    "for phase in ['train', 'valid']:\n",
    "\n",
    "    list_epoch    = []\n",
    "    list_loss     = []\n",
    "\n",
    "    for epoch in range(num_epochs):\n",
    "        with open('./train/log/{}_log_epoch{}.txt'.format(phase, epoch), 'r') as f:\n",
    "            reader = csv.reader(f, delimiter = '\\t')\n",
    "            d = list(reader)\n",
    "            list_epoch.append(float(d[0][0]))\n",
    "            list_loss.append(float(d[0][2]))\n",
    "        \n",
    "    if phase == 'train':\n",
    "        plt.plot(list_epoch, list_loss, color = 'red', label = 'Train')\n",
    "    else:\n",
    "        plt.plot(list_epoch, list_loss, color = 'blue', label = 'Valid')\n",
    "\n",
    "    plt.xlabel('Epoch', fontsize = 15)\n",
    "    plt.ylabel('Loss', fontsize = 15)\n",
    "    plt.ylim(0, 0.01)\n",
    "\n",
    "plt.legend()    \n",
    "plt.show()\n",
    "plt.savefig('./train/log/loss.jpg', dpi = fig.dpi)\n",
    "\n",
    "fig = plt.figure()\n",
    "for phase in ['train', 'valid']:\n",
    "\n",
    "    list_epoch    = []\n",
    "    list_accuracy = []\n",
    "\n",
    "    for epoch in range(num_epochs):\n",
    "        with open('./train/log/{}_log_epoch{}.txt'.format(phase, epoch), 'r') as f:\n",
    "            reader = csv.reader(f, delimiter = '\\t')\n",
    "            d = list(reader)\n",
    "            list_epoch.append(float(d[0][0]))\n",
    "            list_accuracy.append(float(d[0][1]))\n",
    "        \n",
    "    if phase == 'train':\n",
    "        plt.plot(list_epoch, list_accuracy, color = 'red', label = 'Train')\n",
    "    else:\n",
    "        plt.plot(list_epoch, list_accuracy, color = 'blue', label = 'Valid')\n",
    "\n",
    "    plt.xlabel('Epoch', fontsize = 15)\n",
    "    plt.ylabel('Accuracy', fontsize = 14)\n",
    "    plt.ylim(0.55, 1)\n",
    "    \n",
    "plt.legend(loc='upper left')\n",
    "plt.show()\n",
    "plt.savefig('./train/log/accuracy.jpg', dpi = fig.dpi)"
   ]
  },
  {
   "cell_type": "markdown",
   "metadata": {
    "colab_type": "text",
    "id": "qN_p4F_BBaH7"
   },
   "source": [
    "### Let us show some of the training images."
   ]
  },
  {
   "cell_type": "code",
   "execution_count": 18,
   "metadata": {},
   "outputs": [
    {
     "data": {
      "image/png": "[encoded data removed]",
      "text/plain": [
       "<Figure size 432x288 with 1 Axes>"
      ]
     },
     "metadata": {},
     "output_type": "display_data"
    },
    {
     "name": "stdout",
     "output_type": "stream",
     "text": [
      "Vincent_Brooks Junichiro_Koizumi Donald_Rumsfeld Sergio_Vieira_De_Mello\n"
     ]
    }
   ],
   "source": [
    "import matplotlib.pyplot as plt\n",
    "import numpy as np\n",
    "dataloaders, size = get_dataloader(train_root_dir,     valid_root_dir, \n",
    "                                   train_csv_name,     valid_csv_name, \n",
    "                                   num_train_triplets, num_valid_triplets, \n",
    "                                   batch_size,       num_workers)\n",
    "\n",
    "df = pd.read_csv(valid_csv_name) \n",
    "classes = tuple(sorted(set(df['name']),key=list(df['name']).index))\n",
    "\n",
    "# functions to show an image\n",
    "def imshow(img):\n",
    "    img = img / 2 + 0.5     # unnormalize\n",
    "    npimg = img.numpy()\n",
    "    plt.imshow(np.transpose(npimg, (1, 2, 0)))\n",
    "    plt.show()\n",
    "\n",
    "\n",
    "# get some random training images\n",
    "mydataiter = iter(dataloaders['valid'])\n",
    "mydata = mydataiter.next()\n",
    "myimages, mylabels = mydata['anc_img'], mydata['pos_class']\n",
    "myimage, mylabel = myimages[0:4], mylabels[0:4]\n",
    "# show images\n",
    "imshow(torchvision.utils.make_grid(myimage))\n",
    "# print labels\n",
    "print(' '.join('%5s' % classes[mylabel[j]] for j in range(4)))"
   ]
  }
 ],
 "metadata": {
  "accelerator": "GPU",
  "colab": {
   "collapsed_sections": [],
   "name": "Facial Recognition.ipynb",
   "provenance": [
    {
     "file_id": "1-4fpY8lZJ1h9vW3WpJIDf9D2lJ8rWg3P",
     "timestamp": 1580608510738
    },
    {
     "file_id": "1erC_ve9xYZhb-8da2Wpbme3DDBkQ-Ijj",
     "timestamp": 1580447624509
    }
   ],
   "toc_visible": true
  },
  "kernelspec": {
   "display_name": "Python 3",
   "language": "python",
   "name": "python3"
  },
  "language_info": {
   "codemirror_mode": {
    "name": "ipython",
    "version": 3
   },
   "file_extension": ".py",
   "mimetype": "text/x-python",
   "name": "python",
   "nbconvert_exporter": "python",
   "pygments_lexer": "ipython3",
   "version": "3.6.6"
  }
 },
 "nbformat": 4,
 "nbformat_minor": 1
}
