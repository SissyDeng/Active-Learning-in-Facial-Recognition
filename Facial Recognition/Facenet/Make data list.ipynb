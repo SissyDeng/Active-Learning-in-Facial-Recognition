{
 "cells": [
  {
   "cell_type": "code",
   "execution_count": 1,
   "metadata": {},
   "outputs": [],
   "source": [
    "import os\n",
    "import glob\n",
    "import pandas as pd\n",
    "import time\n",
    "from PIL import Image"
   ]
  },
  {
   "cell_type": "code",
   "execution_count": null,
   "metadata": {},
   "outputs": [],
   "source": [
    "!mkdir ./train/log"
   ]
  },
  {
   "cell_type": "code",
   "execution_count": null,
   "metadata": {},
   "outputs": [],
   "source": [
    "verbosity = 1\n",
    "which_dataset = 0\n",
    "\n",
    "if   which_dataset == 0:\n",
    "    root_dir = \"./train/\"\n",
    "elif which_dataset == 1:\n",
    "    root_dir = \"./val/\"\n",
    "elif which_dataset == 2:\n",
    "    root_dir = \"./test/\"\n",
    "else:\n",
    "    root_dir = \"\""
   ]
  },
  {
   "cell_type": "code",
   "execution_count": null,
   "metadata": {},
   "outputs": [],
   "source": [
    "#print(glob.glob(root_dir+\"/*/*\"))\n",
    "files = glob.glob(root_dir+\"/*/*\")\n",
    "time0 = time.time()\n",
    "df = pd.DataFrame()\n",
    "print(\"The number of files: \", len(files))"
   ]
  },
  {
   "cell_type": "code",
   "execution_count": null,
   "metadata": {},
   "outputs": [],
   "source": [
    "for idx, file in enumerate(files):\n",
    "    if idx%10000 == 0:\n",
    "        print(\"[{}/{}]\".format(idx, len(files)-1))\n",
    "    '''    \n",
    "    try:\n",
    "        img = Image.open(file) # open the image file\n",
    "        img.verify() # verify that it is, in fact, an image\n",
    "    except (IOError, SyntaxError) as e:\n",
    "        if verbosity == 1:\n",
    "            print('Bad file:', file) # print out the names of corrupt files\n",
    "        pass\n",
    "    else:\n",
    "        face_id    = os.path.basename(file).split('.')[0]\n",
    "        face_label = os.path.basename(os.path.dirname(file))\n",
    "        df = df.append({'id': face_id, 'name': face_label}, ignore_index = True)\n",
    "    '''    \n",
    "    face_id    = os.path.basename(file).split('.')[0]\n",
    "    face_label = os.path.basename(os.path.dirname(file))\n",
    "    df = df.append({'id': face_id, 'name': face_label}, ignore_index = True)"
   ]
  },
  {
   "cell_type": "code",
   "execution_count": null,
   "metadata": {},
   "outputs": [],
   "source": [
    "df = df.sort_values(by = ['name', 'id']).reset_index(drop = True)\n",
    "df['class'] = pd.factorize(df['name'])[0]"
   ]
  },
  {
   "cell_type": "code",
   "execution_count": null,
   "metadata": {},
   "outputs": [],
   "source": [
    "if which_dataset == 0:\n",
    "    df.to_csv(\"./train/lfw_train.csv\", index = False)\n",
    "elif which_dataset == 1:\n",
    "    df.to_csv(\"./val/lfw_valid.csv\", index = False)\n",
    "elif which_dataset == 2:\n",
    "    df.to_csv(\"./test/lfw_test.csv\", index = False)\n",
    "else:\n",
    "    df.to_csv(\"my_pictures.csv\", index = False)"
   ]
  },
  {
   "cell_type": "code",
   "execution_count": null,
   "metadata": {},
   "outputs": [],
   "source": [
    "df.desc"
   ]
  }
 ],
 "metadata": {
  "kernelspec": {
   "display_name": "Python 3",
   "language": "python",
   "name": "python3"
  },
  "language_info": {
   "codemirror_mode": {
    "name": "ipython",
    "version": 3
   },
   "file_extension": ".py",
   "mimetype": "text/x-python",
   "name": "python",
   "nbconvert_exporter": "python",
   "pygments_lexer": "ipython3",
   "version": "3.6.6"
  }
 },
 "nbformat": 4,
 "nbformat_minor": 2
}
