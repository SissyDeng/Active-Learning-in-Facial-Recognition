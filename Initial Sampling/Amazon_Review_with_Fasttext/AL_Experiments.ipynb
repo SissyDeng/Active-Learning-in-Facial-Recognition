{
 "cells": [
  {
   "cell_type": "raw",
   "metadata": {},
   "source": [
    "step1 read x,y,cluster and turn it to dataframe\n",
    "step2 get the index of dataframe\n",
    "step3 write a function initial_sampling(df, mainProb, mainCluster, clusterNum, batchSize), return the selected index\n",
    "step4 split the data to train & unlabeled\n",
    "step5 train the model with train data\n",
    "step6 get the test accuracy and fscore\n",
    "step7 write a function AL_selection(unlabeled, probList, batchSize) to choose the least confident sample and split the data\n",
    "step8 get the test accuracy and fscore\n",
    "step9 do 'iters' batches and draw the learning curve"
   ]
  },
  {
   "cell_type": "code",
   "execution_count": 242,
   "metadata": {
    "ExecuteTime": {
     "end_time": "2020-03-05T04:58:42.212317Z",
     "start_time": "2020-03-05T04:58:42.178714Z"
    }
   },
   "outputs": [],
   "source": [
    "import numpy as np\n",
    "import pandas as pd\n",
    "import fasttext\n",
    "from sklearn.metrics import roc_auc_score\n",
    "import matplotlib.pyplot as plt\n",
    "\n",
    "def initial_sampling(data, mainProb, mainCluster, clusterNum, batchSize):\n",
    "    result = []\n",
    "    otherProb = (1 - mainProb) / (clusterNum - 1)\n",
    "    # set weights to clusters for sampling\n",
    "    data['weights'] = 0\n",
    "    data.loc[data['cluster'] == mainCluster,'weights'] = mainProb\n",
    "    data.loc[data['cluster'] != mainCluster,'weights'] = otherProb\n",
    "    # return the sampling index\n",
    "    return list(data.sample(n=batchSize,weights=data['weights']).index.values)\n",
    "\n",
    "def thompson_sampling(batchSize,clusterNum,data):\n",
    "    # Thompson Sampling\n",
    "    observations = batchSize\n",
    "    machines = clusterNum\n",
    "    sample_selected = []\n",
    "    machine_selected = []\n",
    "\n",
    "    rewards = [0]*machines\n",
    "    penalties = [0]*machines\n",
    "    total_reward = 0\n",
    "\n",
    "    for n in range(observations):\n",
    "        bandit = 0\n",
    "        beta_max = 0\n",
    "\n",
    "        for i in range(machines):\n",
    "            beta_d = random.betavariate(rewards[i] + 1, penalties[i] + 1)\n",
    "            if beta_d > beta_max:\n",
    "                beta_max = beta_d\n",
    "                bandit = i\n",
    "        machine_selected.append(bandit)\n",
    "        one_sample_index = data[data['cluster']=='__cluster__'+str(bandit)].sample(n=1).index.values[0]\n",
    "        sample_selected.append(one_sample_index)\n",
    "        if data.loc[one_sample_index]['label'] == '__label__2':\n",
    "            reward = 1\n",
    "        else:\n",
    "            reward = 0\n",
    "    #     reward = data.values[n,bandit]\n",
    "        if reward == 1:\n",
    "            rewards[bandit] = rewards[bandit] + 1\n",
    "        else:\n",
    "            penalties[bandit] = penalties[bandit] + 1\n",
    "        total_reward = total_reward + reward\n",
    "    return sample_selected, machine_selected, total_reward, rewards, penalties\n",
    "\n",
    "def thompson_sampling_neg(batchSize,clusterNum,data):\n",
    "    # Thompson Sampling\n",
    "    observations = batchSize\n",
    "    machines = clusterNum\n",
    "    sample_selected = []\n",
    "    machine_selected = []\n",
    "\n",
    "    rewards = [0]*machines\n",
    "    penalties = [0]*machines\n",
    "    total_reward = 0\n",
    "\n",
    "    for n in range(observations):\n",
    "        bandit = 0\n",
    "        beta_min = 999999\n",
    "\n",
    "        for i in range(machines):\n",
    "            beta_d = random.betavariate(penalties[i] + 1, rewards[i] + 1)\n",
    "            if beta_d < beta_min:\n",
    "                beta_min = beta_d\n",
    "                bandit = i\n",
    "        machine_selected.append(bandit)\n",
    "        one_sample_index = data[data['cluster']=='__cluster__'+str(bandit)].sample(n=1).index.values[0]\n",
    "        sample_selected.append(one_sample_index)\n",
    "        if data.loc[one_sample_index]['label'] == '__label__1':\n",
    "            reward = 1\n",
    "        else:\n",
    "            reward = 0\n",
    "    #     reward = data.values[n,bandit]\n",
    "\n",
    "        if reward == 1:\n",
    "            rewards[bandit] = rewards[bandit] + 1\n",
    "        else:\n",
    "            penalties[bandit] = penalties[bandit] + 1\n",
    "        total_reward = total_reward + reward\n",
    "    return sample_selected, machine_selected, total_reward, rewards, penalties\n",
    "\n",
    "def AL_selection(unlabeled, batchSize):\n",
    "    # select the most representative data by index\n",
    "    return list(unlabeled.sort_values(by ='prob')[:batchSize].index.values)\n",
    "\n",
    "def split_train_unlabeled(sample_index,unlabeled):\n",
    "    train = data.loc[sample_index]\n",
    "    unlabel = unlabeled.drop(sample_index)\n",
    "    train[['label','x']].to_csv('ALtrain.txt',sep = ' ',header = False,index = False)\n",
    "    return train,unlabel\n",
    "\n",
    "def test(model):\n",
    "    test = open(\"./test.ft.txt\",'r')\n",
    "    test = test.readlines()\n",
    "    print(len(test), 'number of records in the test set') \n",
    "\n",
    "    # To run the predict function, we need to remove the __label__1 and __label__2 from the testset.  \n",
    "    new = [w.replace('__label__2 ', '') for w in test]\n",
    "    new = [w.replace('__label__1 ', '') for w in new]\n",
    "    new = [w.replace('\\n', '') for w in new]\n",
    "\n",
    "    # Use the predict function \n",
    "    pred = model.predict(new)\n",
    "    \n",
    "    # Lets recode the actual targets to 1's and 0's from both the test set and the actual predictions  \n",
    "    labels = [0 if x.split(' ')[0] == '__label__1' else 1 for x in test]\n",
    "    pred_labels = [0 if x == ['__label__1'] else 1 for x in pred[0]]\n",
    "\n",
    "    # run the accuracy measure. \n",
    "    return roc_auc_score(labels, pred_labels)"
   ]
  },
  {
   "cell_type": "code",
   "execution_count": null,
   "metadata": {
    "ExecuteTime": {
     "start_time": "2020-03-05T21:34:56.482Z"
    }
   },
   "outputs": [
    {
     "name": "stdout",
     "output_type": "stream",
     "text": [
      "400000 number of records in the test set\n",
      "400000 number of records in the test set\n",
      "400000 number of records in the test set\n",
      "400000 number of records in the test set\n",
      "400000 number of records in the test set\n",
      "400000 number of records in the test set\n",
      "400000 number of records in the test set\n",
      "400000 number of records in the test set\n",
      "400000 number of records in the test set\n",
      "400000 number of records in the test set\n",
      "400000 number of records in the test set\n",
      "400000 number of records in the test set\n",
      "400000 number of records in the test set\n",
      "400000 number of records in the test set\n",
      "400000 number of records in the test set\n",
      "400000 number of records in the test set\n"
     ]
    }
   ],
   "source": [
    "# Random_sampling with different batch sizes\n",
    "if __name__ == \"__main__\":\n",
    "    with open('train_woLabel.txt','r') as f:\n",
    "        x = pd.Series([i.strip() for i in f.readlines()])\n",
    "    with open('label.txt','r') as f:\n",
    "        y = pd.Series([i.strip() for i in f.readlines()])\n",
    "    with open('cluster_label.txt','r') as f:\n",
    "        cluster = pd.Series([i.strip() for i in f.readlines()])\n",
    "    frame = { 'x': x, 'label': y, 'cluster': cluster }\n",
    "    data =  pd.DataFrame(frame)\n",
    "    \n",
    "    \n",
    "    clusterNum = 6\n",
    "    mainProb = 1 / clusterNum\n",
    "    batchSize = 1800\n",
    "    batchNum = 10\n",
    "    mainCluster = '__cluster__2'\n",
    "    for initialSize in [i*600 for i in range(1,7)]:\n",
    "        test_acc_list = []\n",
    "        sample_index = []\n",
    "        sample_index = sample_index + initial_sampling(data, mainProb, mainCluster, clusterNum, initialSize)\n",
    "        train,unlabeled = split_train_unlabeled(sample_index,data)\n",
    "\n",
    "        # train & test the model\n",
    "        model = fasttext.train_supervised('ALtrain.txt',label_prefix='__label__', thread=1, epoch = 10, pretrainedVectors='model.vec')\n",
    "        test_acc_list.append(test(model))\n",
    "\n",
    "        for i in range(batchNum-1):\n",
    "            # AL selection\n",
    "            unlabeled['prob']=0\n",
    "            unlabeled['prob'] = model.predict(unlabeled['x'].tolist())[1]\n",
    "            sample_index = sample_index + AL_selection(unlabeled, batchSize)\n",
    "            train,unlabeled = split_train_unlabeled(sample_index,data)\n",
    "            # train & test the model\n",
    "            model = fasttext.train_supervised('ALtrain.txt',label_prefix='__label__', thread=1, epoch = 10, pretrainedVectors='model.vec')\n",
    "            test_acc_list.append(test(model))\n",
    "        with open('test_acc_initial_size'+str(initialSize)+'.txt','w') as f:\n",
    "            f.writelines(str(test_acc_list))"
   ]
  },
  {
   "cell_type": "code",
   "execution_count": null,
   "metadata": {},
   "outputs": [],
   "source": [
    "# Single Cluster Concentration Method\n",
    "if __name__ == \"__main__\":\n",
    "    with open('train_woLabel.txt','r') as f:\n",
    "        x = pd.Series([i.strip() for i in f.readlines()])\n",
    "    with open('label.txt','r') as f:\n",
    "        y = pd.Series([i.strip() for i in f.readlines()])\n",
    "    with open('cluster_label.txt','r') as f:\n",
    "        cluster = pd.Series([i.strip() for i in f.readlines()])\n",
    "    frame = { 'x': x, 'label': y, 'cluster': cluster }\n",
    "    data =  pd.DataFrame(frame)\n",
    "    \n",
    "    \n",
    "    clusterNum = 6\n",
    "    mainProb = 0.8\n",
    "    batchSize = 7200\n",
    "    batchNum = 10\n",
    "    for mainCluster in ['__cluster__'+str(i) for i in range(6)]:\n",
    "        test_acc_list = []\n",
    "        sample_index = []\n",
    "        sample_index = sample_index + initial_sampling(data, mainProb, mainCluster, clusterNum, batchSize)\n",
    "        train,unlabeled = split_train_unlabeled(sample_index,data)\n",
    "\n",
    "        # train & test the model\n",
    "        model = fasttext.train_supervised('ALtrain.txt',label_prefix='__label__', thread=1, epoch = 10, pretrainedVectors='model.vec')\n",
    "        test_acc_list.append(test(model))\n",
    "\n",
    "        for i in range(batchNum-1):\n",
    "            # AL selection\n",
    "            unlabeled['prob']=0\n",
    "            unlabeled['prob'] = model.predict(unlabeled['x'].tolist())[1]\n",
    "            sample_index = sample_index + AL_selection(unlabeled, batchSize)\n",
    "            train,unlabeled = split_train_unlabeled(sample_index,data)\n",
    "            # train & test the model\n",
    "            model = fasttext.train_supervised('ALtrain.txt',label_prefix='__label__', thread=1, epoch = 10, pretrainedVectors='model.vec')\n",
    "            test_acc_list.append(test(model))\n",
    "        with open('test_acc_initial_size'+str(initialSize)+'.txt','w') as f:\n",
    "            f.writelines(str(test_acc_list))"
   ]
  },
  {
   "cell_type": "code",
   "execution_count": 244,
   "metadata": {
    "ExecuteTime": {
     "end_time": "2020-03-05T05:05:47.892781Z",
     "start_time": "2020-03-05T04:59:22.394393Z"
    }
   },
   "outputs": [
    {
     "name": "stdout",
     "output_type": "stream",
     "text": [
      "400000 number of records in the test set\n",
      "400000 number of records in the test set\n",
      "400000 number of records in the test set\n",
      "400000 number of records in the test set\n",
      "400000 number of records in the test set\n",
      "400000 number of records in the test set\n",
      "400000 number of records in the test set\n",
      "400000 number of records in the test set\n",
      "400000 number of records in the test set\n",
      "400000 number of records in the test set\n"
     ]
    }
   ],
   "source": [
    "# Thompson Sampling Method\n",
    "if __name__ == \"__main__\":\n",
    "    with open('train_woLabel.txt','r') as f:\n",
    "        x = pd.Series([i.strip() for i in f.readlines()])\n",
    "    with open('label.txt','r') as f:\n",
    "        y = pd.Series([i.strip() for i in f.readlines()])\n",
    "    with open('cluster_label.txt','r') as f:\n",
    "        cluster = pd.Series([i.strip() for i in f.readlines()])\n",
    "    frame = { 'x': x, 'label': y, 'cluster': cluster }\n",
    "    data =  pd.DataFrame(frame)\n",
    "    \n",
    "#     mainProb = 0.8\n",
    "#     mainCluster = '__cluster__4'\n",
    "    clusterNum = 6\n",
    "    batchSize = 7200\n",
    "    batchNum = 10\n",
    "    test_acc_list = []\n",
    "\n",
    "    sample_index = []\n",
    "    sample_selected, machine_selected, total_reward, rewards, penalties = thompson_sampling(int(batchSize/2),clusterNum,data)\n",
    "    sample_index = sample_index + sample_selected\n",
    "    train,unlabeled = split_train_unlabeled(sample_index,data)·\n",
    "    sample_selected, machine_selected, total_reward, rewards, penalties = thompson_sampling_neg(batchSize-int(batchSize/2),clusterNum,unlabeled)\n",
    "    sample_index = sample_index + sample_selected\n",
    "    train,unlabeled = split_train_unlabeled(sample_index,data)\n",
    "\n",
    "    # train & test the model\n",
    "    model = fasttext.train_supervised('ALtrain.txt',label_prefix='__label__', thread=1, epoch = 10, pretrainedVectors='model.vec')\n",
    "    test_acc_list.append(test(model))\n",
    "\n",
    "    for i in range(batchNum-1):\n",
    "        # AL selection\n",
    "        unlabeled['prob']=0\n",
    "        unlabeled['prob'] = model.predict(unlabeled['x'].tolist())[1]\n",
    "        sample_index = sample_index + AL_selection(unlabeled, batchSize)\n",
    "        train,unlabeled = split_train_unlabeled(sample_index,data)\n",
    "        # train & test the model\n",
    "        model = fasttext.train_supervised('ALtrain.txt',label_prefix='__label__', thread=1, epoch = 10, pretrainedVectors='model.vec')\n",
    "        test_acc_list.append(test(model))\n",
    "    with open('test_acc_thompson_sampling.txt','w') as f:\n",
    "        f.writelines(str(test_acc_list))"
   ]
  },
  {
   "cell_type": "code",
   "execution_count": 235,
   "metadata": {
    "ExecuteTime": {
     "end_time": "2020-03-05T03:28:24.003360Z",
     "start_time": "2020-03-05T03:28:23.751682Z"
    }
   },
   "outputs": [
    {
     "data": {
      "image/png": "[encoded data removed]",
      "text/plain": [
       "<Figure size 432x288 with 1 Axes>"
      ]
     },
     "metadata": {
      "needs_background": "light"
     },
     "output_type": "display_data"
    }
   ],
   "source": [
    "from matplotlib import pyplot as plt\n",
    "plt.scatter(range(2000),machine_selected)\n",
    "plt.title('Which pos cluster to choose via Thompson Sampling')\n",
    "plt.xlabel('Number of samples selected')\n",
    "plt.ylabel('Cluster Number')\n",
    "plt.show()"
   ]
  },
  {
   "cell_type": "code",
   "execution_count": 197,
   "metadata": {
    "ExecuteTime": {
     "end_time": "2020-03-05T02:10:55.521673Z",
     "start_time": "2020-03-05T02:10:55.255175Z"
    }
   },
   "outputs": [
    {
     "name": "stdout",
     "output_type": "stream",
     "text": [
      "\n",
      "\n",
      "Rewards By Machine =  [8, 0, 10, 14, 8, 9]\n",
      "\n",
      "Total Rewards Obtained With Thompson Sampling =  49\n",
      "\n",
      "Machine Selected At Each Round By Thompson Sampling : \n",
      " [124366, 144637, 39343, 68822, 117214, 129872, 16896, 120267, 12010, 106313, 131116, 9467, 15468, 57053, 124497, 15421, 175096, 8751, 91616, 82954, 122099, 117100, 57395, 78162, 145336, 179168, 40829, 37499, 28610, 21989, 30919, 58879, 15876, 161150, 94339, 110471, 23357, 99160, 132396, 131047, 50860, 37268, 95124, 148360, 140823, 151525, 29358, 36369, 114460, 168285, 170975, 50398, 137112, 82086, 105809, 72658, 137187, 138465, 165184, 138704, 177179, 49572, 126761, 275, 28348, 67776, 61579, 95541, 163125, 150220, 135971, 122367, 115883, 107974, 76265, 17046, 147700, 116516, 133383, 47113, 105485, 75327, 148661, 77975, 92488, 26913, 38433, 131743, 32214, 90254, 158374, 146303, 49798, 146265, 62512, 149787, 6549, 18414, 30640, 10547]\n"
     ]
    },
    {
     "data": {
      "text/plain": [
       "<Figure size 640x480 with 1 Axes>"
      ]
     },
     "metadata": {},
     "output_type": "display_data"
    }
   ],
   "source": [
    "from matplotlib import pyplot as plt\n",
    "print(\"\\n\\nRewards By Machine = \", rewards)\n",
    "print(\"\\nTotal Rewards Obtained With Thompson Sampling = \", total_reward)\n",
    "print(\"\\nMachine Selected At Each Round By Thompson Sampling : \\n\", sample_selected)\n",
    "\n",
    "#Visualizing the rewards of each machine\n",
    "plt.bar(['B1','B2','B3','B4','B5','B6'],rewards)\n",
    "plt.title('MABP')\n",
    "plt.xlabel('Bandits')\n",
    "plt.ylabel('Rewards By Each Machine')\n",
    "plt.show()\n"
   ]
  },
  {
   "cell_type": "code",
   "execution_count": 200,
   "metadata": {
    "ExecuteTime": {
     "end_time": "2020-03-05T02:11:37.867906Z",
     "start_time": "2020-03-05T02:11:37.500680Z"
    }
   },
   "outputs": [
    {
     "name": "stdout",
     "output_type": "stream",
     "text": [
      "\n",
      "\n",
      "Number Of Times Each Machine Was Selected By the Thompson Sampling Algorithm : \n",
      " {124366: 1, 144637: 1, 39343: 1, 68822: 1, 117214: 1, 129872: 1, 16896: 1, 120267: 1, 12010: 1, 106313: 1, 131116: 1, 9467: 1, 15468: 1, 57053: 1, 124497: 1, 15421: 1, 175096: 1, 8751: 1, 91616: 1, 82954: 1, 122099: 1, 117100: 1, 57395: 1, 78162: 1, 145336: 1, 179168: 1, 40829: 1, 37499: 1, 28610: 1, 21989: 1, 30919: 1, 58879: 1, 15876: 1, 161150: 1, 94339: 1, 110471: 1, 23357: 1, 99160: 1, 132396: 1, 131047: 1, 50860: 1, 37268: 1, 95124: 1, 148360: 1, 140823: 1, 151525: 1, 29358: 1, 36369: 1, 114460: 1, 168285: 1, 170975: 1, 50398: 1, 137112: 1, 82086: 1, 105809: 1, 72658: 1, 137187: 1, 138465: 1, 165184: 1, 138704: 1, 177179: 1, 49572: 1, 126761: 1, 275: 1, 28348: 1, 67776: 1, 61579: 1, 95541: 1, 163125: 1, 150220: 1, 135971: 1, 122367: 1, 115883: 1, 107974: 1, 76265: 1, 17046: 1, 147700: 1, 116516: 1, 133383: 1, 47113: 1, 105485: 1, 75327: 1, 148661: 1, 77975: 1, 92488: 1, 26913: 1, 38433: 1, 131743: 1, 32214: 1, 90254: 1, 158374: 1, 146303: 1, 49798: 1, 146265: 1, 62512: 1, 149787: 1, 6549: 1, 18414: 1, 30640: 1, 10547: 1}\n"
     ]
    },
    {
     "data": {
      "text/plain": [
       "<function matplotlib.pyplot.show(*args, **kw)>"
      ]
     },
     "execution_count": 200,
     "metadata": {},
     "output_type": "execute_result"
    },
    {
     "data": {
      "image/png": "[encoded data removed]",
      "text/plain": [
       "<Figure size 432x288 with 1 Axes>"
      ]
     },
     "metadata": {
      "needs_background": "light"
     },
     "output_type": "display_data"
    }
   ],
   "source": [
    "from collections import Counter\n",
    "print(\"\\n\\nNumber Of Times Each Machine Was Selected By the Thompson Sampling Algorithm : \\n\",dict(Counter(sample_selected)))\n",
    "plt.hist(sample_selected)\n",
    "plt.title('Histogram of machines selected')\n",
    "plt.xlabel('Bandits')\n",
    "plt.xticks(range(0,6))\n",
    "plt.ylabel('Number Of Times Each Bandit Was Selected To Play')\n",
    "plt.show"
   ]
  }
 ],
 "metadata": {
  "kernelspec": {
   "display_name": "Python 3",
   "language": "python",
   "name": "python3"
  },
  "language_info": {
   "codemirror_mode": {
    "name": "ipython",
    "version": 3
   },
   "file_extension": ".py",
   "mimetype": "text/x-python",
   "name": "python",
   "nbconvert_exporter": "python",
   "pygments_lexer": "ipython3",
   "version": "3.7.4"
  },
  "toc": {
   "base_numbering": 1,
   "nav_menu": {},
   "number_sections": true,
   "sideBar": true,
   "skip_h1_title": false,
   "title_cell": "Table of Contents",
   "title_sidebar": "Contents",
   "toc_cell": false,
   "toc_position": {},
   "toc_section_display": true,
   "toc_window_display": false
  }
 },
 "nbformat": 4,
 "nbformat_minor": 2
}
