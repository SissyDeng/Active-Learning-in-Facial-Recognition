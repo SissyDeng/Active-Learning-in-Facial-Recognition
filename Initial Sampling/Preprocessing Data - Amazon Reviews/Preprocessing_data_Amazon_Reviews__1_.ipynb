{
 "cells": [
  {
   "cell_type": "code",
   "execution_count": 0,
   "metadata": {
    "colab": {
     "base_uri": "https://localhost:8080/",
     "height": 195
    },
    "colab_type": "code",
    "id": "aGsis-YyZS55",
    "outputId": "bec62ac5-b929-4d12-cda4-b3105a7c9743"
   },
   "outputs": [
    {
     "name": "stdout",
     "output_type": "stream",
     "text": [
      "Collecting ipython-autotime\n",
      "  Downloading https://files.pythonhosted.org/packages/e6/f9/0626bbdb322e3a078d968e87e3b01341e7890544de891d0cb613641220e6/ipython-autotime-0.1.tar.bz2\n",
      "Building wheels for collected packages: ipython-autotime\n",
      "  Building wheel for ipython-autotime (setup.py) ... \u001b[?25l\u001b[?25hdone\n",
      "  Created wheel for ipython-autotime: filename=ipython_autotime-0.1-cp36-none-any.whl size=1832 sha256=a5d40f7e57ee8fd852b408190bfa0ace72008bd3ca115ee65e877f0f7a0ca523\n",
      "  Stored in directory: /root/.cache/pip/wheels/d2/df/81/2db1e54bc91002cec40334629bc39cfa86dff540b304ebcd6e\n",
      "Successfully built ipython-autotime\n",
      "Installing collected packages: ipython-autotime\n",
      "Successfully installed ipython-autotime-0.1\n"
     ]
    }
   ],
   "source": [
    "!pip install ipython-autotime\n",
    "%load_ext autotime"
   ]
  },
  {
   "cell_type": "code",
   "execution_count": 0,
   "metadata": {
    "colab": {
     "base_uri": "https://localhost:8080/",
     "height": 34
    },
    "colab_type": "code",
    "id": "4TkDMP4VZT3C",
    "outputId": "556f9f71-4288-4044-b04a-85c1d49dee7c"
   },
   "outputs": [
    {
     "name": "stdout",
     "output_type": "stream",
     "text": [
      "time: 1.99 ms\n"
     ]
    }
   ],
   "source": [
    "import pandas as pd\n",
    "import numpy as np\n",
    "import matplotlib.pyplot as plt\n",
    "import bz2\n",
    "import os"
   ]
  },
  {
   "cell_type": "code",
   "execution_count": 0,
   "metadata": {
    "colab": {
     "base_uri": "https://localhost:8080/",
     "height": 142
    },
    "colab_type": "code",
    "id": "X5Qv2ouDZgYc",
    "outputId": "3a50c04f-9f44-4155-dbde-0af81c607a40"
   },
   "outputs": [
    {
     "name": "stdout",
     "output_type": "stream",
     "text": [
      "Go to this URL in a browser: https://accounts.google.com/o/oauth2/auth?client_id=947318989803-6bn6qk8qdgf4n4g3pfee6491hc0brc4i.apps.googleusercontent.com&redirect_uri=urn%3aietf%3awg%3aoauth%3a2.0%3aoob&response_type=code&scope=email%20https%3a%2f%2fwww.googleapis.com%2fauth%2fdocs.test%20https%3a%2f%2fwww.googleapis.com%2fauth%2fdrive%20https%3a%2f%2fwww.googleapis.com%2fauth%2fdrive.photos.readonly%20https%3a%2f%2fwww.googleapis.com%2fauth%2fpeopleapi.readonly\n",
      "\n",
      "Enter your authorization code:\n",
      "··········\n",
      "Mounted at /content/drive\n",
      "time: 23.7 s\n"
     ]
    }
   ],
   "source": [
    "from google.colab import drive\n",
    "drive.mount('/content/drive')"
   ]
  },
  {
   "cell_type": "code",
   "execution_count": 0,
   "metadata": {
    "colab": {
     "base_uri": "https://localhost:8080/",
     "height": 34
    },
    "colab_type": "code",
    "id": "FsN_ApWoZaDp",
    "outputId": "3101e08c-30ee-479c-9789-81daf64e2f7b"
   },
   "outputs": [
    {
     "name": "stdout",
     "output_type": "stream",
     "text": [
      "time: 3min 33s\n"
     ]
    }
   ],
   "source": [
    "from google.colab import files,drive\n",
    "import io\n",
    "def get_labels_and_texts(file):\n",
    "    labels = []\n",
    "    texts = [] \n",
    "    for line in bz2.BZ2File(file):\n",
    "        x = line.decode(\"utf-8\")\n",
    "        labels.append(int(x[9]) - 1)\n",
    "        texts.append(x[10:].strip())\n",
    "    return np.array(labels), texts\n",
    "\n",
    "# # When First Loading Data From PC\n",
    "# train_labels, train_texts = get_labels_and_texts(io.BytesIO('/content/train.ft.txt.bz2'))\n",
    "# test_labels, test_texts = get_labels_and_texts(io.BytesIO('/content/test.ft.txt.bz2'))\n",
    "\n",
    "# When loading data from Drive\n",
    "train_file = open('/content/drive/My Drive/Colab Notebooks/train.ft.txt.bz2','rb')\n",
    "test_file = open('/content/drive/My Drive/Colab Notebooks/test.ft.txt.bz2','rb')\n",
    "\n",
    "train_labels, train_texts = get_labels_and_texts(io.BytesIO(train_file.read()))\n",
    "test_labels, test_texts = get_labels_and_texts(io.BytesIO(test_file.read()))\n"
   ]
  },
  {
   "cell_type": "code",
   "execution_count": 0,
   "metadata": {
    "colab": {
     "base_uri": "https://localhost:8080/",
     "height": 34
    },
    "colab_type": "code",
    "id": "ZYfkO06UZ5tl",
    "outputId": "8b898bd8-8ccf-4457-9d2e-bdd7a242056b"
   },
   "outputs": [
    {
     "name": "stdout",
     "output_type": "stream",
     "text": [
      "time: 2min\n"
     ]
    }
   ],
   "source": [
    "import re\n",
    "NON_ALPHANUM = re.compile(r'[\\W]')\n",
    "NON_ASCII = re.compile(r'[^a-z0-1\\s]')\n",
    "def normalize_texts(texts):\n",
    "    normalized_texts = []\n",
    "    for text in texts:\n",
    "        lower = text.lower()\n",
    "        no_punctuation = NON_ALPHANUM.sub(r' ', lower)\n",
    "        no_non_ascii = NON_ASCII.sub(r'', no_punctuation)\n",
    "        normalized_texts.append(no_non_ascii)\n",
    "    return normalized_texts\n",
    "        \n",
    "train_texts = normalize_texts(train_texts)\n",
    "test_texts = normalize_texts(test_texts)"
   ]
  },
  {
   "cell_type": "code",
   "execution_count": 0,
   "metadata": {
    "colab": {
     "base_uri": "https://localhost:8080/",
     "height": 70
    },
    "colab_type": "code",
    "id": "j1DNqiAJaA52",
    "outputId": "44d96b3d-7a82-4f78-a26f-ca118856ce7d"
   },
   "outputs": [
    {
     "name": "stdout",
     "output_type": "stream",
     "text": [
      "[nltk_data] Downloading package stopwords to /root/nltk_data...\n",
      "[nltk_data]   Unzipping corpora/stopwords.zip.\n",
      "time: 8min 56s\n"
     ]
    }
   ],
   "source": [
    "import nltk\n",
    "nltk.download('stopwords')\n",
    "from nltk.corpus import stopwords\n",
    "\n",
    "english_stop_words = stopwords.words('english')\n",
    "\n",
    "def remove_stop_words(corpus):\n",
    "    removed_stop_words = []\n",
    "    for review in corpus:\n",
    "        removed_stop_words.append(\n",
    "            ' '.join([word for word in review.split() \n",
    "                      if word not in english_stop_words])\n",
    "        )\n",
    "    return removed_stop_words\n",
    "\n",
    "train_texts = remove_stop_words(train_texts)\n",
    "test_texts = remove_stop_words(test_texts)"
   ]
  },
  {
   "cell_type": "markdown",
   "metadata": {
    "colab_type": "text",
    "id": "jZw0OM6gdjpe"
   },
   "source": [
    "First Round of Saving"
   ]
  },
  {
   "cell_type": "code",
   "execution_count": 0,
   "metadata": {
    "colab": {
     "base_uri": "https://localhost:8080/",
     "height": 34
    },
    "colab_type": "code",
    "id": "Qe2K0wDraA-K",
    "outputId": "b00af484-0c81-43f1-a732-6a0b773afb4c"
   },
   "outputs": [
    {
     "name": "stdout",
     "output_type": "stream",
     "text": [
      "time: 9.53 s\n"
     ]
    }
   ],
   "source": [
    "import pickle\n",
    "\n",
    "# Saving the objects:\n",
    "with open('/content/drive/My Drive/Colab Notebooks/objs.pkl', 'wb') as f:  # Python 3: open(..., 'wb')\n",
    "    pickle.dump([train_texts, train_labels, test_texts, test_labels], f) #, train_texts_vec, test_texts_vec], f)"
   ]
  },
  {
   "cell_type": "code",
   "execution_count": 0,
   "metadata": {
    "colab": {},
    "colab_type": "code",
    "id": "d5htcsJSaBEO"
   },
   "outputs": [],
   "source": [
    "# Right now stop words have been successfully removed\n",
    "\n",
    "import pickle\n",
    "# Getting back the objects:\n",
    "with open('/content/drive/My Drive/Colab Notebooks/objs.pkl', 'rb') as f:  # Python 3: open(..., 'rb')\n",
    "    train_texts, train_labels, test_texts, test_labels = pickle.load(f) #, train_texts_vec, test_texts_vec = pickle.load(f)"
   ]
  },
  {
   "cell_type": "code",
   "execution_count": 0,
   "metadata": {
    "colab": {},
    "colab_type": "code",
    "id": "lcYFI6sfdoDr"
   },
   "outputs": [],
   "source": [
    "N"
   ]
  },
  {
   "cell_type": "code",
   "execution_count": 0,
   "metadata": {
    "colab": {
     "base_uri": "https://localhost:8080/",
     "height": 34
    },
    "colab_type": "code",
    "id": "fCBrN__KaBIG",
    "outputId": "d3160c50-6063-4a06-c374-34f74dd83c81"
   },
   "outputs": [
    {
     "name": "stdout",
     "output_type": "stream",
     "text": [
      "time: 5min 1s\n"
     ]
    }
   ],
   "source": [
    "from sklearn.feature_extraction.text import CountVectorizer\n",
    "from sklearn.svm import LinearSVC\n",
    "from sklearn.metrics import accuracy_score\n",
    "\n",
    "ngram_vectorizer = CountVectorizer(binary=False)\n",
    "ngram_vectorizer.fit(train_texts)\n",
    "train_texts_vec = ngram_vectorizer.transform(train_texts)\n",
    "test_texts_vec = ngram_vectorizer.transform(test_texts)"
   ]
  },
  {
   "cell_type": "markdown",
   "metadata": {
    "colab_type": "text",
    "id": "O0wD7xJQamHw"
   },
   "source": [
    "Second round of saving"
   ]
  },
  {
   "cell_type": "code",
   "execution_count": 0,
   "metadata": {
    "colab": {
     "base_uri": "https://localhost:8080/",
     "height": 34
    },
    "colab_type": "code",
    "id": "_hKx-y5laZOB",
    "outputId": "893a2a07-7bcd-41c8-8bff-5e157d9610ad"
   },
   "outputs": [
    {
     "name": "stdout",
     "output_type": "stream",
     "text": [
      "time: 35.6 s\n"
     ]
    }
   ],
   "source": [
    "import pickle\n",
    "\n",
    "# Saving the objects:\n",
    "with open('/content/drive/My Drive/Colab Notebooks/objs2.pkl', 'wb') as f:  # Python 3: open(..., 'wb')\n",
    "    pickle.dump([train_texts, train_labels, test_texts, test_labels, train_texts_vec, test_texts_vec], f)"
   ]
  },
  {
   "cell_type": "code",
   "execution_count": 0,
   "metadata": {
    "colab": {},
    "colab_type": "code",
    "id": "C5hJpM5UaZor"
   },
   "outputs": [],
   "source": [
    "# Right now text has been vectorised\n",
    "\n",
    "import pickle\n",
    "# Getting back the objects:\n",
    "with open('/content/drive/My Drive/Colab Notebooks/objs2.pkl', 'rb') as f:  # Python 3: open(..., 'rb')\n",
    "    train_texts, train_labels, test_texts, test_labels, train_texts_vec, test_texts_vec = pickle.load(f)"
   ]
  },
  {
   "cell_type": "code",
   "execution_count": 0,
   "metadata": {
    "colab": {
     "base_uri": "https://localhost:8080/",
     "height": 34
    },
    "colab_type": "code",
    "id": "h0Pn85n6aBLm",
    "outputId": "98391afd-0af5-4134-b8f0-3a866fcc208d"
   },
   "outputs": [
    {
     "name": "stdout",
     "output_type": "stream",
     "text": [
      "time: 19 ms\n"
     ]
    }
   ],
   "source": [
    "RANDOM_STATE_SEED = 123\n",
    "np.random.seed(RANDOM_STATE_SEED)\n",
    "\n",
    "n_initial = 5000\n",
    "n_labeled_examples = train_texts_vec.shape[0]\n",
    "\n",
    "training_indices = np.random.randint(low=0, high = n_labeled_examples, size=n_initial)\n",
    "# May not need this\n",
    "X_training, y_training = train_texts_vec[training_indices], train_labels[training_indices]"
   ]
  },
  {
   "cell_type": "markdown",
   "metadata": {
    "colab_type": "text",
    "id": "TmajpR_Eg5SU"
   },
   "source": [
    "K-Means on Small Subset"
   ]
  },
  {
   "cell_type": "code",
   "execution_count": 0,
   "metadata": {
    "colab": {
     "base_uri": "https://localhost:8080/",
     "height": 34
    },
    "colab_type": "code",
    "id": "VV12WptwaBQo",
    "outputId": "584fb777-740b-4593-a745-dbfc9b75b92a"
   },
   "outputs": [
    {
     "data": {
      "text/plain": [
       "array([3, 5, 5, ..., 3, 5, 3], dtype=int32)"
      ]
     },
     "execution_count": 18,
     "metadata": {
      "tags": []
     },
     "output_type": "execute_result"
    },
    {
     "name": "stdout",
     "output_type": "stream",
     "text": [
      "time: 1min 16s\n"
     ]
    }
   ],
   "source": [
    "from sklearn.cluster import KMeans\n",
    "\n",
    "kmeans = KMeans(n_clusters=6, init='k-means++', max_iter=300, n_init=10, random_state=0)\n",
    "pred_y = kmeans.fit_predict(X_training)\n",
    "pred_y"
   ]
  }
 ],
 "metadata": {
  "colab": {
   "collapsed_sections": [],
   "name": "Preprocessing data Amazon Reviews.ipynb",
   "provenance": []
  },
  "kernelspec": {
   "display_name": "Python 3",
   "language": "python",
   "name": "python3"
  },
  "language_info": {
   "codemirror_mode": {
    "name": "ipython",
    "version": 3
   },
   "file_extension": ".py",
   "mimetype": "text/x-python",
   "name": "python",
   "nbconvert_exporter": "python",
   "pygments_lexer": "ipython3",
   "version": "3.7.4"
  }
 },
 "nbformat": 4,
 "nbformat_minor": 1
}
