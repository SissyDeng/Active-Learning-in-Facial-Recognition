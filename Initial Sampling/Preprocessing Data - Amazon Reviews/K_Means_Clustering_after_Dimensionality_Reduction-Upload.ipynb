{
 "cells": [
  {
   "cell_type": "markdown",
   "metadata": {
    "colab_type": "text",
    "id": "3SIzfm7q9iDJ"
   },
   "source": [
    "# K-means Clustering on the TruncatedSVD (50 Dimensional) data\n",
    "\n",
    "We will run a min-batch k-means algorithm for 6 clusters and upload the same to drive"
   ]
  },
  {
   "cell_type": "code",
   "execution_count": 0,
   "metadata": {
    "colab": {
     "base_uri": "https://localhost:8080/",
     "height": 175
    },
    "colab_type": "code",
    "id": "CCkUp6yR-GDX",
    "outputId": "8fc65767-cea1-4c22-a6a7-aa209007afdd"
   },
   "outputs": [
    {
     "name": "stdout",
     "output_type": "stream",
     "text": [
      "Collecting ipython-autotime\n",
      "  Downloading https://files.pythonhosted.org/packages/e6/f9/0626bbdb322e3a078d968e87e3b01341e7890544de891d0cb613641220e6/ipython-autotime-0.1.tar.bz2\n",
      "Building wheels for collected packages: ipython-autotime\n",
      "  Building wheel for ipython-autotime (setup.py) ... \u001b[?25l\u001b[?25hdone\n",
      "  Created wheel for ipython-autotime: filename=ipython_autotime-0.1-cp36-none-any.whl size=1832 sha256=eb964ce02031feaeb7b4ceb42da38861033f7a55327b417a73b1b57c35550725\n",
      "  Stored in directory: /root/.cache/pip/wheels/d2/df/81/2db1e54bc91002cec40334629bc39cfa86dff540b304ebcd6e\n",
      "Successfully built ipython-autotime\n",
      "Installing collected packages: ipython-autotime\n",
      "Successfully installed ipython-autotime-0.1\n"
     ]
    }
   ],
   "source": [
    "!pip install ipython-autotime\n",
    "%load_ext autotime"
   ]
  },
  {
   "cell_type": "code",
   "execution_count": 0,
   "metadata": {
    "colab": {
     "base_uri": "https://localhost:8080/",
     "height": 142
    },
    "colab_type": "code",
    "id": "DhJAZSFn-JHJ",
    "outputId": "d2e266f5-2c21-4668-9a6f-a8916fdacf92"
   },
   "outputs": [
    {
     "name": "stdout",
     "output_type": "stream",
     "text": [
      "Go to this URL in a browser: https://accounts.google.com/o/oauth2/auth?client_id=947318989803-6bn6qk8qdgf4n4g3pfee6491hc0brc4i.apps.googleusercontent.com&redirect_uri=urn%3aietf%3awg%3aoauth%3a2.0%3aoob&response_type=code&scope=email%20https%3a%2f%2fwww.googleapis.com%2fauth%2fdocs.test%20https%3a%2f%2fwww.googleapis.com%2fauth%2fdrive%20https%3a%2f%2fwww.googleapis.com%2fauth%2fdrive.photos.readonly%20https%3a%2f%2fwww.googleapis.com%2fauth%2fpeopleapi.readonly\n",
      "\n",
      "Enter your authorization code:\n",
      "··········\n",
      "Mounted at /content/drive\n",
      "time: 22.2 s\n"
     ]
    }
   ],
   "source": [
    "from google.colab import drive\n",
    "drive.mount('/content/drive')"
   ]
  },
  {
   "cell_type": "code",
   "execution_count": 0,
   "metadata": {
    "colab": {
     "base_uri": "https://localhost:8080/",
     "height": 34
    },
    "colab_type": "code",
    "id": "FHgGyUft-NcY",
    "outputId": "ca49967d-1a6c-45fa-b92c-638443af04e9"
   },
   "outputs": [
    {
     "name": "stdout",
     "output_type": "stream",
     "text": [
      "time: 1.46 ms\n"
     ]
    }
   ],
   "source": [
    "import pandas as pd\n",
    "import numpy as np\n",
    "import matplotlib.pyplot as plt\n",
    "import bz2\n",
    "import os"
   ]
  },
  {
   "cell_type": "markdown",
   "metadata": {
    "colab_type": "text",
    "id": "bSdJO124-WOs"
   },
   "source": [
    "### Loading the data from a pickle file"
   ]
  },
  {
   "cell_type": "code",
   "execution_count": 0,
   "metadata": {
    "colab": {
     "base_uri": "https://localhost:8080/",
     "height": 34
    },
    "colab_type": "code",
    "id": "S4ecvMMg7zwe",
    "outputId": "a7baaac0-bd6c-4038-9771-f7e02f3c1f42"
   },
   "outputs": [
    {
     "name": "stdout",
     "output_type": "stream",
     "text": [
      "time: 22.9 s\n"
     ]
    }
   ],
   "source": [
    "import pickle\n",
    "# Getting back the objects:\n",
    "with open('/content/drive/My Drive/Colab Notebooks/objs_svd1.pkl', 'rb') as f:  # Python 3: open(..., 'rb')\n",
    "    train_texts_50dim = pickle.load(f)"
   ]
  },
  {
   "cell_type": "code",
   "execution_count": 0,
   "metadata": {
    "colab": {
     "base_uri": "https://localhost:8080/",
     "height": 34
    },
    "colab_type": "code",
    "id": "hrSpjBGI9KMD",
    "outputId": "8276b0d7-cc3a-46fe-c435-e89989a9dd79"
   },
   "outputs": [
    {
     "name": "stdout",
     "output_type": "stream",
     "text": [
      "time: 480 ms\n"
     ]
    }
   ],
   "source": [
    "## Fixing the dimensionality of the data\n",
    "\n",
    "mat = np.array(train_texts_50dim)\n",
    "mat2 = mat.reshape(3600000,50)\n",
    "mat2 = pd.DataFrame(mat2)"
   ]
  },
  {
   "cell_type": "markdown",
   "metadata": {
    "colab_type": "text",
    "id": "TUO_Trr0-e0r"
   },
   "source": [
    "### Min-Batch K-Means Clustering on the 50-dimensional data\n"
   ]
  },
  {
   "cell_type": "code",
   "execution_count": 0,
   "metadata": {
    "colab": {
     "base_uri": "https://localhost:8080/",
     "height": 52
    },
    "colab_type": "code",
    "id": "dDtx8H7Z-VUS",
    "outputId": "0dcbcda6-9b35-4847-cda0-d0052ea31ba6"
   },
   "outputs": [
    {
     "name": "stdout",
     "output_type": "stream",
     "text": [
      "[4 2 2 ... 4 4 1]\n",
      "time: 16.9 s\n"
     ]
    }
   ],
   "source": [
    "from sklearn.cluster import MiniBatchKMeans\n",
    "\n",
    "kmeans_50dim = MiniBatchKMeans(n_clusters=6, init='k-means++', batch_size = 100000, max_iter=300, n_init=10, random_state=0)\n",
    "pred_train_clusters_50dim = kmeans_50dim.fit_predict(mat2)\n",
    "print(pred_train_clusters_50dim)\n",
    "\n",
    "## Saving the newest objects\n",
    "import pickle\n",
    "\n",
    "# Saving the objects: \n",
    "with open('/content/drive/My Drive/Colab Notebooks/objs_50dim_kmeans.pkl', 'wb') as f:  # Python 3: open(..., 'wb')\n",
    "    pickle.dump([kmeans_50dim,pred_train_clusters_50dim], f)\n"
   ]
  },
  {
   "cell_type": "markdown",
   "metadata": {},
   "source": [
    "### If you want to get the k-means object and predicted clusters from the file, please use the following code"
   ]
  },
  {
   "cell_type": "code",
   "execution_count": null,
   "metadata": {},
   "outputs": [],
   "source": [
    "with open('/content/drive/My Drive/Colab Notebooks/objs_50dim_kmeans.pkl', 'rb') as f:  # Python 3: open(..., 'rb')\n",
    "    kmeans_50dim, pred_train_clusters_50dim = pickle.load(f)"
   ]
  }
 ],
 "metadata": {
  "colab": {
   "collapsed_sections": [],
   "name": "K-Means Clustering after Dimensionality Reduction.ipynb",
   "provenance": []
  },
  "kernelspec": {
   "display_name": "Python 3",
   "language": "python",
   "name": "python3"
  },
  "language_info": {
   "codemirror_mode": {
    "name": "ipython",
    "version": 3
   },
   "file_extension": ".py",
   "mimetype": "text/x-python",
   "name": "python",
   "nbconvert_exporter": "python",
   "pygments_lexer": "ipython3",
   "version": "3.7.4"
  }
 },
 "nbformat": 4,
 "nbformat_minor": 1
}
