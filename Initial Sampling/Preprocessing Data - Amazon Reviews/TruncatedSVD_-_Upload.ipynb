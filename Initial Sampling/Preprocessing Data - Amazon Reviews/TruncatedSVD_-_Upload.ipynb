{
 "cells": [
  {
   "cell_type": "markdown",
   "metadata": {
    "colab_type": "text",
    "id": "89A92um3eKpW"
   },
   "source": [
    "## Using TruncatedSVD and t-SNE to perform dimensionality reduction on the Amazon Reviews Dataset\n"
   ]
  },
  {
   "cell_type": "code",
   "execution_count": 1,
   "metadata": {
    "colab": {
     "base_uri": "https://localhost:8080/",
     "height": 34
    },
    "colab_type": "code",
    "id": "-yx3qKLBrVhQ",
    "outputId": "794cacad-12cb-41bd-fb18-4a01a388b1e7"
   },
   "outputs": [
    {
     "name": "stdout",
     "output_type": "stream",
     "text": [
      "Requirement already satisfied: ipython-autotime in /usr/local/lib/python3.6/dist-packages (0.1)\n"
     ]
    }
   ],
   "source": [
    "!pip install ipython-autotime\n",
    "%load_ext autotime"
   ]
  },
  {
   "cell_type": "code",
   "execution_count": 2,
   "metadata": {
    "colab": {
     "base_uri": "https://localhost:8080/",
     "height": 52
    },
    "colab_type": "code",
    "id": "yliVY80uU7F8",
    "outputId": "49d9f26f-26cb-42d1-b94e-de545c931bcf"
   },
   "outputs": [
    {
     "name": "stdout",
     "output_type": "stream",
     "text": [
      "Drive already mounted at /content/drive; to attempt to forcibly remount, call drive.mount(\"/content/drive\", force_remount=True).\n",
      "time: 3.06 ms\n"
     ]
    }
   ],
   "source": [
    "from google.colab import drive\n",
    "drive.mount('/content/drive')"
   ]
  },
  {
   "cell_type": "code",
   "execution_count": 3,
   "metadata": {
    "colab": {
     "base_uri": "https://localhost:8080/",
     "height": 34
    },
    "colab_type": "code",
    "id": "uxy7gjskUmak",
    "outputId": "b99802e8-0ae1-4a70-e83c-b072c6919202"
   },
   "outputs": [
    {
     "name": "stdout",
     "output_type": "stream",
     "text": [
      "time: 2.36 ms\n"
     ]
    }
   ],
   "source": [
    "import pandas as pd\n",
    "import numpy as np\n",
    "import matplotlib.pyplot as plt\n",
    "import bz2\n",
    "import os"
   ]
  },
  {
   "cell_type": "code",
   "execution_count": 0,
   "metadata": {
    "colab": {
     "base_uri": "https://localhost:8080/",
     "height": 34
    },
    "colab_type": "code",
    "id": "QGVUTGiEVl8E",
    "outputId": "dc4d4c59-cf53-4a2a-eb82-5baaa173360c"
   },
   "outputs": [
    {
     "name": "stdout",
     "output_type": "stream",
     "text": [
      "time: 27.9 s\n"
     ]
    }
   ],
   "source": [
    "# Right now stop words have been successfully removed\n",
    "\n",
    "import pickle\n",
    "# Getting back the objects:\n",
    "with open('/content/drive/My Drive/Colab Notebooks/objs2.pkl', 'rb') as f:  # Python 3: open(..., 'rb')\n",
    "    train_texts, train_labels, test_texts, test_labels, train_texts_vec, test_texts_vec = pickle.load(f)"
   ]
  },
  {
   "cell_type": "markdown",
   "metadata": {
    "colab_type": "text",
    "id": "D1icf2CdV2cY"
   },
   "source": [
    "### We will be using the Truncated SVD (instead of PCA) in order to do dimensionality reduction as PCA does not support sparse matrices.\n",
    "\n",
    "Also, since t-SNE scales quadratically with number of features, the official documentation recommends that we first use another dimensionality reduction technique to reduce the number of features to 50 and then apply t-SNE\n",
    "\n",
    "Thus, we will be applying two approaches:\n",
    "1. Using TruncatedSVD (equivalent to PCA) to reduce dimensions to 50, and then using k-means on this dataset.\n",
    "\n",
    "2. Using TruncatedSVD to reduce dimensions to 50, and then usisng t-SNE to reduce dimensions to 10, and then applying k-means to the dataset.\n",
    "\n",
    "This notebook only focuses on the reduction of dimensions, the k-means will be done in another notebook.\n",
    "\n"
   ]
  },
  {
   "cell_type": "code",
   "execution_count": 0,
   "metadata": {
    "colab": {
     "base_uri": "https://localhost:8080/",
     "height": 34
    },
    "colab_type": "code",
    "id": "z_jjrpXUVpBN",
    "outputId": "13416b13-57eb-460f-e126-9489eab5e6ca"
   },
   "outputs": [
    {
     "name": "stdout",
     "output_type": "stream",
     "text": [
      "time: 6min 12s\n"
     ]
    }
   ],
   "source": [
    "from sklearn.decomposition import TruncatedSVD\n",
    "\n",
    "svd = TruncatedSVD(n_components=50, n_iter=7, random_state=42)\n",
    "train_texts_50dim = svd.fit_transform(train_texts_vec)\n",
    "\n",
    "## Saving the new objects\n",
    "import pickle\n",
    "\n",
    "# Saving the objects:\n",
    "with open('/content/drive/My Drive/Colab Notebooks/objs_svd1.pkl', 'wb') as f:  # Python 3: open(..., 'wb')\n",
    "    pickle.dump([train_texts_50dim], f)"
   ]
  },
  {
   "cell_type": "markdown",
   "metadata": {
    "colab_type": "text",
    "id": "WUDsi-AkajLZ"
   },
   "source": [
    "Here, from SVD to TSNE, I am choosing to reduce the dimensions to 2 dimensions arbitrarily, and this number can be varied for different outputs."
   ]
  },
  {
   "cell_type": "code",
   "execution_count": 5,
   "metadata": {
    "colab": {
     "base_uri": "https://localhost:8080/",
     "height": 34
    },
    "colab_type": "code",
    "id": "FKY4fwbw8UKe",
    "outputId": "ff90be1e-1a16-4690-97b0-d99920c8b6c2"
   },
   "outputs": [
    {
     "name": "stdout",
     "output_type": "stream",
     "text": [
      "time: 475 ms\n"
     ]
    }
   ],
   "source": [
    "# This code can be used to convert the output of the TruncatedSVD algorithm \n",
    "#    so that it can be manipulated as a dataframe of the correct dimensions.\n",
    "\n",
    "mat = np.array(train_texts_50dim)\n",
    "mat2 = mat.reshape(3600000,50)\n",
    "mat2 = pd.DataFrame(mat2)"
   ]
  },
  {
   "cell_type": "markdown",
   "metadata": {},
   "source": [
    "### TSNE to reduce dimensionality further\n",
    "\n",
    "Here I **tried** to reduce the number of dimensions to two, however the code didn't run because of the time complexity of the TSNE algorithm. I will try to implement a different version of TSNE to reslove this issue"
   ]
  },
  {
   "cell_type": "code",
   "execution_count": 0,
   "metadata": {
    "colab": {},
    "colab_type": "code",
    "id": "LExlvQzbVpFV"
   },
   "outputs": [],
   "source": [
    "from sklearn.manifold import TSNE\n",
    "\n",
    "train_texts_tsne = TSNE(n_components = 2, learning_rate = 1000).fit_transform(mat2)\n",
    "\n",
    "## Saving the newest objects\n",
    "import pickle\n",
    "\n",
    "# Saving the objects: \n",
    "with open('/content/drive/My Drive/Colab Notebooks/objs_tsne1.pkl', 'wb') as f:  # Python 3: open(..., 'wb')\n",
    "    pickle.dump([train_texts_50dim, train_texts_tsne], f)\n"
   ]
  },
  {
   "cell_type": "markdown",
   "metadata": {
    "colab_type": "text",
    "id": "o_WK_O8Wdp3W"
   },
   "source": [
    "Thus, we have successfully reduced the dimensions of the training data into 50 using the TruncatedSVD algorithm and 2 dimensions using the t-SNE algorithm.\n",
    "\n",
    "This dimensionally reduced data can now be used to perform k-means or some other clustering technique to find out the clusters."
   ]
  },
  {
   "cell_type": "markdown",
   "metadata": {},
   "source": [
    "### In case you want to do different number of dimensions for TSNE, you can import the objects back using the following code"
   ]
  },
  {
   "cell_type": "code",
   "execution_count": 4,
   "metadata": {
    "colab": {
     "base_uri": "https://localhost:8080/",
     "height": 34
    },
    "colab_type": "code",
    "id": "CHQpCN99VpHq",
    "outputId": "f3773e36-9125-462e-bd60-e11316b79574"
   },
   "outputs": [
    {
     "name": "stdout",
     "output_type": "stream",
     "text": [
      "time: 11.1 s\n"
     ]
    }
   ],
   "source": [
    "import pickle\n",
    "# Getting back the objects:\n",
    "with open('/content/drive/My Drive/Colab Notebooks/objs_svd1.pkl', 'rb') as f:  # Python 3: open(..., 'rb')\n",
    "    train_texts_50dim = pickle.load(f)"
   ]
  },
  {
   "cell_type": "code",
   "execution_count": 0,
   "metadata": {
    "colab": {},
    "colab_type": "code",
    "id": "BnTkVanp77bo"
   },
   "outputs": [],
   "source": []
  }
 ],
 "metadata": {
  "colab": {
   "collapsed_sections": [],
   "name": "TruncatedSVD and t-SNE.ipynb",
   "provenance": []
  },
  "kernelspec": {
   "display_name": "Python 3",
   "language": "python",
   "name": "python3"
  },
  "language_info": {
   "codemirror_mode": {
    "name": "ipython",
    "version": 3
   },
   "file_extension": ".py",
   "mimetype": "text/x-python",
   "name": "python",
   "nbconvert_exporter": "python",
   "pygments_lexer": "ipython3",
   "version": "3.7.4"
  }
 },
 "nbformat": 4,
 "nbformat_minor": 1
}
