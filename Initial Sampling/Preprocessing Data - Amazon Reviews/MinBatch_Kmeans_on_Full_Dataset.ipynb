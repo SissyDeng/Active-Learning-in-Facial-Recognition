{
 "cells": [
  {
   "cell_type": "code",
   "execution_count": 0,
   "metadata": {
    "colab": {
     "base_uri": "https://localhost:8080/",
     "height": 125
    },
    "colab_type": "code",
    "id": "Ou-PyinW1u3b",
    "outputId": "2176a5b3-9716-4367-d4f3-50556e1c4561"
   },
   "outputs": [
    {
     "name": "stdout",
     "output_type": "stream",
     "text": [
      "Go to this URL in a browser: https://accounts.google.com/o/oauth2/auth?client_id=947318989803-6bn6qk8qdgf4n4g3pfee6491hc0brc4i.apps.googleusercontent.com&redirect_uri=urn%3aietf%3awg%3aoauth%3a2.0%3aoob&response_type=code&scope=email%20https%3a%2f%2fwww.googleapis.com%2fauth%2fdocs.test%20https%3a%2f%2fwww.googleapis.com%2fauth%2fdrive%20https%3a%2f%2fwww.googleapis.com%2fauth%2fdrive.photos.readonly%20https%3a%2f%2fwww.googleapis.com%2fauth%2fpeopleapi.readonly\n",
      "\n",
      "Enter your authorization code:\n",
      "··········\n",
      "Mounted at /content/drive\n"
     ]
    }
   ],
   "source": [
    "from google.colab import drive\n",
    "drive.mount('/content/drive')"
   ]
  },
  {
   "cell_type": "markdown",
   "metadata": {},
   "source": [
    "## Loading data into notebook"
   ]
  },
  {
   "cell_type": "code",
   "execution_count": 0,
   "metadata": {
    "colab": {},
    "colab_type": "code",
    "id": "TzzBO_th1ly4"
   },
   "outputs": [],
   "source": [
    "# Importing the Vectorised data from the pickle object\n",
    "\n",
    "import pickle\n",
    "# Getting back the objects:\n",
    "with open('/content/drive/My Drive/Colab Notebooks/objs2.pkl', 'rb') as f:  # Python 3: open(..., 'rb')\n",
    "    train_texts, train_labels, test_texts, test_labels, train_texts_vec, test_texts_vec = pickle.load(f)"
   ]
  },
  {
   "cell_type": "markdown",
   "metadata": {},
   "source": [
    "## MinBatch K-means Algorithm (6 clusters)"
   ]
  },
  {
   "cell_type": "code",
   "execution_count": 0,
   "metadata": {
    "colab": {
     "base_uri": "https://localhost:8080/",
     "height": 34
    },
    "colab_type": "code",
    "id": "UVknMcdO1px3",
    "outputId": "c8f01f52-3340-4882-deb2-6471757f07c3"
   },
   "outputs": [
    {
     "name": "stdout",
     "output_type": "stream",
     "text": [
      "[2 0 0 ... 0 3 1]\n"
     ]
    }
   ],
   "source": [
    "from sklearn.cluster import MiniBatchKMeans\n",
    "\n",
    "kmeans = MiniBatchKMeans(n_clusters=6, init='k-means++', batch_size = 100000, max_iter=300, n_init=10, random_state=0)\n",
    "pred_train_clusters = kmeans.fit_predict(train_texts_vec)\n",
    "print(pred_train_clusters)\n"
   ]
  },
  {
   "cell_type": "code",
   "execution_count": 0,
   "metadata": {
    "colab": {},
    "colab_type": "code",
    "id": "U53l8BAR15MB"
   },
   "outputs": [],
   "source": [
    "for i in range(200):\n",
    "  print(pred_train_clusters[i]) "
   ]
  },
  {
   "cell_type": "code",
   "execution_count": 0,
   "metadata": {
    "colab": {},
    "colab_type": "code",
    "id": "Yk7G_5hb9Onj"
   },
   "outputs": [],
   "source": [
    "pred_test_clusters = kmeans.predict(test_texts_vec)\n",
    "for i in range(200):\n",
    "  print(pred_test_clusters[i]) "
   ]
  },
  {
   "cell_type": "code",
   "execution_count": 0,
   "metadata": {
    "colab": {},
    "colab_type": "code",
    "id": "caw0bKco9Oh4"
   },
   "outputs": [],
   "source": []
  },
  {
   "cell_type": "markdown",
   "metadata": {
    "colab": {},
    "colab_type": "code",
    "id": "a1GUumrQ9OP7"
   },
   "source": [
    "## Saving the predictions in a pickle file"
   ]
  },
  {
   "cell_type": "code",
   "execution_count": 0,
   "metadata": {
    "colab": {},
    "colab_type": "code",
    "id": "OZmI198g15PR"
   },
   "outputs": [],
   "source": [
    "import pickle\n",
    "\n",
    "# Saving the objects:\n",
    "with open('/content/drive/My Drive/Colab Notebooks/objs4.pkl', 'wb') as f:  # Python 3: open(..., 'wb')\n",
    "    pickle.dump([kmeans, pred_train_clusters, pred_test_clusters], f)"
   ]
  },
  {
   "cell_type": "markdown",
   "metadata": {},
   "source": [
    "### Use the following code to import the data from the pickle objects if you want to use the predictions"
   ]
  },
  {
   "cell_type": "code",
   "execution_count": 0,
   "metadata": {
    "colab": {},
    "colab_type": "code",
    "id": "K8k8hTPv15Un"
   },
   "outputs": [],
   "source": [
    "\n",
    "import pickle\n",
    "# Getting back the objects:\n",
    "with open('/content/drive/My Drive/Colab Notebooks/objs4.pkl', 'rb') as f:  # Python 3: open(..., 'rb')\n",
    "    kmeans, pred_train_clusters, pred_test_clusters = pickle.load(f)"
   ]
  },
  {
   "cell_type": "code",
   "execution_count": 0,
   "metadata": {
    "colab": {},
    "colab_type": "code",
    "id": "FBTfsOSQ15YB"
   },
   "outputs": [],
   "source": []
  },
  {
   "cell_type": "code",
   "execution_count": 0,
   "metadata": {
    "colab": {},
    "colab_type": "code",
    "id": "pXnKHvme15bR"
   },
   "outputs": [],
   "source": []
  }
 ],
 "metadata": {
  "colab": {
   "name": "MinBatch Kmeans on Full Dataset ",
   "provenance": []
  },
  "kernelspec": {
   "display_name": "Python 3",
   "language": "python",
   "name": "python3"
  },
  "language_info": {
   "codemirror_mode": {
    "name": "ipython",
    "version": 3
   },
   "file_extension": ".py",
   "mimetype": "text/x-python",
   "name": "python",
   "nbconvert_exporter": "python",
   "pygments_lexer": "ipython3",
   "version": "3.7.4"
  }
 },
 "nbformat": 4,
 "nbformat_minor": 1
}
