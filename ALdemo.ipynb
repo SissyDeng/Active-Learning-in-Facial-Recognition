{
 "cells": [
  {
   "cell_type": "code",
   "execution_count": 8,
   "metadata": {},
   "outputs": [],
   "source": [
    "%matplotlib inline"
   ]
  },
  {
   "cell_type": "markdown",
   "metadata": {},
   "source": [
    "\n",
    "SET-UP: Training a Classifier with PyTorch\n",
    "==================================\n",
    "\n",
    "What about data?\n",
    "----------------\n",
    "\n",
    "Generally, when you have to deal with image, text, audio or video data,\n",
    "you can use standard python packages that load data into a numpy array.\n",
    "Then you can convert this array into a ``torch.*Tensor``.\n",
    "\n",
    "-  For images, packages such as Pillow, OpenCV are useful\n",
    "-  For audio, packages such as scipy and librosa\n",
    "-  For text, either raw Python or Cython based loading, or NLTK and\n",
    "   SpaCy are useful\n",
    "\n",
    "Specifically for vision, we have created a package called\n",
    "``torchvision``, that has data loaders for common datasets such as\n",
    "Imagenet, CIFAR10, MNIST, etc. and data transformers for images, viz.,\n",
    "``torchvision.datasets`` and ``torch.utils.data.DataLoader``.\n",
    "\n",
    "This provides a huge convenience and avoids writing boilerplate code.\n",
    "\n",
    "For this tutorial, we will use the CIFAR10 dataset.\n",
    "It has the classes: ‘airplane’, ‘automobile’, ‘bird’, ‘cat’, ‘deer’,\n",
    "‘dog’, ‘frog’, ‘horse’, ‘ship’, ‘truck’. The images in CIFAR-10 are of\n",
    "size 3x32x32, i.e. 3-channel color images of 32x32 pixels in size.\n",
    "\n",
    ".. figure:: /_static/img/cifar10.png\n",
    "   :alt: cifar10\n",
    "\n",
    "   cifar10\n",
    "\n",
    "\n",
    "Training an image classifier\n",
    "----------------------------\n",
    "\n",
    "We will do the following steps in order:\n",
    "\n",
    "1. Load and normalizing the CIFAR10 training and test datasets using\n",
    "   ``torchvision``\n",
    "2. Define a Convolutional Neural Network\n",
    "3. Define a loss function\n",
    "4. Train the network on the training data\n",
    "5. Test the network on the test data\n",
    "\n",
    "1. Loading and normalizing CIFAR10\n",
    "^^^^^^^^^^^^^^^^^^^^^^^^^^^^^^^^^^\n",
    "\n",
    "Using ``torchvision``, it’s extremely easy to load CIFAR10."
   ]
  },
  {
   "cell_type": "code",
   "execution_count": 9,
   "metadata": {},
   "outputs": [],
   "source": [
    "import torch\n",
    "import torchvision\n",
    "import torchvision.transforms as transforms"
   ]
  },
  {
   "cell_type": "markdown",
   "metadata": {},
   "source": [
    "The output of torchvision datasets are PILImage images of range [0, 1].\n",
    "We transform them to Tensors of normalized range [-1, 1].\n",
    "\n"
   ]
  },
  {
   "cell_type": "code",
   "execution_count": 10,
   "metadata": {},
   "outputs": [
    {
     "name": "stdout",
     "output_type": "stream",
     "text": [
      "Files already downloaded and verified\n",
      "Files already downloaded and verified\n"
     ]
    }
   ],
   "source": [
    "transform = transforms.Compose(\n",
    "    [transforms.ToTensor(),\n",
    "     transforms.Normalize((0.5, 0.5, 0.5), (0.5, 0.5, 0.5))])\n",
    "\n",
    "trainset = torchvision.datasets.CIFAR10(root='./data', train=True,\n",
    "                                        download=True, transform=transform)\n",
    "mytrainloader = torch.utils.data.DataLoader(trainset, batch_size=4,\n",
    "                                          shuffle=True, num_workers=2)\n",
    "\n",
    "testset = torchvision.datasets.CIFAR10(root='./data', train=False,\n",
    "                                       download=True, transform=transform)\n",
    "mytestloader = torch.utils.data.DataLoader(testset, batch_size=4,\n",
    "                                         shuffle=False, num_workers=2)\n",
    "\n",
    "classes = ('plane', 'car', 'bird', 'cat', 'deer', \n",
    "           'dog', 'frog', 'horse', 'ship', 'truck')"
   ]
  },
  {
   "cell_type": "markdown",
   "metadata": {},
   "source": [
    "Let us show some of the training images, for fun.\n",
    "\n"
   ]
  },
  {
   "cell_type": "code",
   "execution_count": 11,
   "metadata": {},
   "outputs": [
    {
     "data": {
      "text/plain": [
       "[tensor([[[[ 0.9216,  0.8824,  0.8824,  ...,  0.6784,  0.6000,  0.4353],\n",
       "           [ 0.8196,  0.8118,  0.8275,  ...,  0.4275,  0.3333,  0.2471],\n",
       "           [ 0.7255,  0.7412,  0.7725,  ...,  0.2157,  0.1137, -0.0353],\n",
       "           ...,\n",
       "           [ 0.9686,  0.9608,  0.9608,  ...,  0.8196,  0.6235,  0.3882],\n",
       "           [ 0.9529,  0.9843,  0.9686,  ...,  0.8980,  0.7412,  0.5059],\n",
       "           [ 0.8980,  0.7412,  0.8039,  ...,  0.8824,  0.2314,  0.1294]],\n",
       " \n",
       "          [[ 0.6000,  0.5686,  0.5608,  ...,  0.3961,  0.3255,  0.1686],\n",
       "           [ 0.5059,  0.4980,  0.5137,  ...,  0.2157,  0.1216,  0.0275],\n",
       "           [ 0.4275,  0.4510,  0.4824,  ...,  0.0745, -0.0353, -0.1843],\n",
       "           ...,\n",
       "           [ 0.7176,  0.7490,  0.7961,  ...,  0.5608,  0.4039,  0.1686],\n",
       "           [ 0.6941,  0.7725,  0.7961,  ...,  0.6392,  0.5137,  0.2784],\n",
       "           [ 0.6157,  0.5137,  0.5922,  ...,  0.5922, -0.0039, -0.1059]],\n",
       " \n",
       "          [[ 0.1843,  0.1451,  0.1373,  ...,  0.0353, -0.0353, -0.1843],\n",
       "           [ 0.0980,  0.0902,  0.1059,  ..., -0.1608, -0.2078, -0.2706],\n",
       "           [ 0.0196,  0.0431,  0.0745,  ..., -0.3176, -0.3333, -0.4431],\n",
       "           ...,\n",
       "           [ 0.2863,  0.3255,  0.3804,  ...,  0.1608,  0.0667, -0.1608],\n",
       "           [ 0.2627,  0.3490,  0.3804,  ...,  0.2314,  0.1843, -0.0431],\n",
       "           [ 0.1451,  0.0745,  0.1686,  ...,  0.1529, -0.3725, -0.4588]]],\n",
       " \n",
       " \n",
       "         [[[-0.6000, -0.5216, -0.4745,  ..., -0.4745, -0.4902, -0.4588],\n",
       "           [-0.5294, -0.5216, -0.5137,  ..., -0.4118, -0.4902, -0.5529],\n",
       "           [-0.5686, -0.5529, -0.5137,  ..., -0.3882, -0.3804, -0.3647],\n",
       "           ...,\n",
       "           [-0.7412, -0.7725, -0.8039,  ..., -0.3490, -0.4980, -0.5216],\n",
       "           [-0.7412, -0.7804, -0.8275,  ..., -0.4667, -0.5294, -0.5529],\n",
       "           [-0.7725, -0.7804, -0.8118,  ..., -0.5294, -0.5451, -0.5686]],\n",
       " \n",
       "          [[-0.0039,  0.0588,  0.1059,  ...,  0.1373,  0.1137,  0.0745],\n",
       "           [ 0.0588,  0.0510,  0.0667,  ...,  0.2000,  0.1451,  0.1294],\n",
       "           [ 0.0196,  0.0275,  0.0745,  ...,  0.2235,  0.2000,  0.1922],\n",
       "           ...,\n",
       "           [-0.1529, -0.2471, -0.3804,  ...,  0.2157,  0.1608,  0.1373],\n",
       "           [-0.1765, -0.2235, -0.3412,  ...,  0.1686,  0.1294,  0.0902],\n",
       "           [-0.2000, -0.2000, -0.2941,  ...,  0.1294,  0.0980,  0.0431]],\n",
       " \n",
       "          [[-0.4902, -0.4196, -0.3804,  ..., -0.3490, -0.3569, -0.3569],\n",
       "           [-0.4275, -0.4196, -0.4118,  ..., -0.2863, -0.3412, -0.3569],\n",
       "           [-0.4667, -0.4510, -0.4118,  ..., -0.2627, -0.2941, -0.3255],\n",
       "           ...,\n",
       "           [-0.6000, -0.6706, -0.7647,  ..., -0.3176, -0.2706, -0.3255],\n",
       "           [-0.6157, -0.6627, -0.7490,  ..., -0.3333, -0.3098, -0.3569],\n",
       "           [-0.6471, -0.6471, -0.7176,  ..., -0.3412, -0.3569, -0.3882]]],\n",
       " \n",
       " \n",
       "         [[[-0.5608, -0.5529, -0.3412,  ..., -0.2784, -0.2706, -0.4275],\n",
       "           [-0.3882, -0.4431, -0.3333,  ..., -0.2549, -0.1608, -0.4667],\n",
       "           [-0.2392, -0.2471, -0.2627,  ..., -0.2471, -0.1294, -0.4588],\n",
       "           ...,\n",
       "           [-0.2627, -0.4353, -0.3882,  ..., -0.7882, -0.7647, -0.6000],\n",
       "           [-0.3490, -0.4353, -0.3647,  ..., -0.7255, -0.7020, -0.6078],\n",
       "           [-0.2706, -0.3333, -0.2627,  ..., -0.6549, -0.6549, -0.6314]],\n",
       " \n",
       "          [[-0.6000, -0.6235, -0.4196,  ..., -0.3569, -0.3647, -0.5373],\n",
       "           [-0.4431, -0.5216, -0.4118,  ..., -0.3020, -0.2157, -0.5529],\n",
       "           [-0.3333, -0.3333, -0.3412,  ..., -0.2549, -0.1529, -0.5059],\n",
       "           ...,\n",
       "           [-0.3569, -0.4353, -0.3804,  ..., -0.8275, -0.7804, -0.6000],\n",
       "           [-0.4824, -0.5059, -0.4353,  ..., -0.7725, -0.7176, -0.5922],\n",
       "           [-0.3882, -0.4275, -0.3647,  ..., -0.6784, -0.6627, -0.6157]],\n",
       " \n",
       "          [[-0.6784, -0.7255, -0.6392,  ..., -0.3647, -0.4039, -0.6314],\n",
       "           [-0.5529, -0.6471, -0.6157,  ..., -0.3412, -0.2941, -0.6784],\n",
       "           [-0.4745, -0.4980, -0.5373,  ..., -0.3098, -0.2471, -0.6471],\n",
       "           ...,\n",
       "           [-0.4824, -0.5216, -0.4824,  ..., -0.7255, -0.7098, -0.5608],\n",
       "           [-0.6157, -0.6314, -0.6078,  ..., -0.7176, -0.7020, -0.5922],\n",
       "           [-0.5373, -0.5765, -0.5529,  ..., -0.6627, -0.6706, -0.6314]]],\n",
       " \n",
       " \n",
       "         [[[ 0.5608,  0.6000,  0.6627,  ...,  0.8510,  0.8118,  0.7569],\n",
       "           [ 0.6235,  0.6627,  0.7255,  ...,  0.8980,  0.8745,  0.8353],\n",
       "           [ 0.6706,  0.7176,  0.7804,  ...,  0.9686,  0.9529,  0.9294],\n",
       "           ...,\n",
       "           [-0.3490, -0.3020, -0.2471,  ..., -0.3098, -0.3882, -0.4353],\n",
       "           [-0.3804, -0.3569, -0.2863,  ..., -0.3333, -0.4039, -0.4588],\n",
       "           [-0.1686, -0.1765, -0.1216,  ..., -0.3490, -0.4196, -0.5059]],\n",
       " \n",
       "          [[ 0.6627,  0.6784,  0.7176,  ...,  0.8588,  0.8196,  0.8039],\n",
       "           [ 0.7020,  0.7176,  0.7647,  ...,  0.9059,  0.8824,  0.8745],\n",
       "           [ 0.7412,  0.7569,  0.7961,  ...,  0.9765,  0.9608,  0.9451],\n",
       "           ...,\n",
       "           [-0.4039, -0.3569, -0.2863,  ..., -0.4118, -0.4902, -0.5373],\n",
       "           [-0.4353, -0.4039, -0.3333,  ..., -0.4510, -0.5216, -0.5765],\n",
       "           [-0.2235, -0.2235, -0.1686,  ..., -0.4667, -0.5373, -0.6078]],\n",
       " \n",
       "          [[ 0.6706,  0.6627,  0.6941,  ...,  0.8196,  0.7882,  0.7804],\n",
       "           [ 0.7176,  0.7176,  0.7412,  ...,  0.8667,  0.8431,  0.8431],\n",
       "           [ 0.7647,  0.7569,  0.7804,  ...,  0.9373,  0.9216,  0.9137],\n",
       "           ...,\n",
       "           [-0.4667, -0.4510, -0.4118,  ..., -0.5922, -0.6706, -0.7412],\n",
       "           [-0.5137, -0.5137, -0.4667,  ..., -0.6392, -0.7098, -0.7725],\n",
       "           [-0.2941, -0.3176, -0.2863,  ..., -0.6392, -0.7098, -0.7882]]]]),\n",
       " tensor([0, 0, 6, 9])]"
      ]
     },
     "execution_count": 11,
     "metadata": {},
     "output_type": "execute_result"
    }
   ],
   "source": [
    "iter(mytrainloader).next()"
   ]
  },
  {
   "cell_type": "code",
   "execution_count": 12,
   "metadata": {},
   "outputs": [
    {
     "data": {
      "image/png": "[encoded data removed]",
      "text/plain": [
       "<Figure size 432x288 with 1 Axes>"
      ]
     },
     "metadata": {},
     "output_type": "display_data"
    },
    {
     "name": "stdout",
     "output_type": "stream",
     "text": [
      " deer truck plane  frog\n"
     ]
    }
   ],
   "source": [
    "import matplotlib.pyplot as plt\n",
    "import numpy as np\n",
    "\n",
    "# functions to show an image\n",
    "def imshow(img):\n",
    "    img = img / 2 + 0.5     # unnormalize\n",
    "    npimg = img.numpy()\n",
    "    plt.imshow(np.transpose(npimg, (1, 2, 0)))\n",
    "    plt.show()\n",
    "\n",
    "\n",
    "# get some random training images\n",
    "mydataiter = iter(mytrainloader)\n",
    "myimages, mylabels = mydataiter.next()\n",
    "\n",
    "# show images\n",
    "imshow(torchvision.utils.make_grid(myimages))\n",
    "# print labels\n",
    "print(' '.join('%5s' % classes[mylabels[j]] for j in range(4)))"
   ]
  },
  {
   "cell_type": "markdown",
   "metadata": {},
   "source": [
    "2. Define a Convolutional Neural Network\n",
    "^^^^^^^^^^^^^^^^^^^^^^^^^^^^^^^^^^^^^^\n",
    "Copy the neural network from the Neural Networks section before and modify it to\n",
    "take 3-channel images (instead of 1-channel images as it was defined).\n",
    "\n"
   ]
  },
  {
   "cell_type": "code",
   "execution_count": 13,
   "metadata": {},
   "outputs": [],
   "source": [
    "import torch\n",
    "import torch.nn as nn\n",
    "from torchvision.models import resnet34\n",
    "import torch.nn.functional as F\n",
    "\n",
    "\n",
    "class Net(nn.Module):\n",
    "    def __init__(self):\n",
    "        super(Net, self).__init__()\n",
    "        self.conv1 = nn.Conv2d(3, 6, 5)\n",
    "        self.pool = nn.MaxPool2d(2, 2)\n",
    "        self.conv2 = nn.Conv2d(6, 16, 5)\n",
    "        self.fc1 = nn.Linear(16 * 5 * 5, 120)\n",
    "        self.fc2 = nn.Linear(120, 84)\n",
    "        self.fc3 = nn.Linear(84, 10)\n",
    "\n",
    "    def forward(self, x):\n",
    "        x = self.pool(F.relu(self.conv1(x)))\n",
    "        x = self.pool(F.relu(self.conv2(x)))\n",
    "        x = x.view(-1, 16 * 5 * 5)\n",
    "        x = F.relu(self.fc1(x))\n",
    "        x = F.relu(self.fc2(x))\n",
    "        x = self.fc3(x)\n",
    "        return x\n",
    "\n",
    "\n",
    "mynet = Net()"
   ]
  },
  {
   "cell_type": "markdown",
   "metadata": {},
   "source": [
    "3. Define a Loss function and optimizer\n",
    "^^^^^^^^^^^^^^^^^^^^^^^^^^^^^^^^^^^^^^^\n",
    "Let's use a Classification Cross-Entropy loss and SGD with momentum.\n",
    "\n"
   ]
  },
  {
   "cell_type": "code",
   "execution_count": 14,
   "metadata": {},
   "outputs": [],
   "source": [
    "import torch.optim as optim\n",
    "\n",
    "mycriterion = nn.CrossEntropyLoss()\n",
    "myoptimizer = optim.SGD(mynet.parameters(), lr=0.001, momentum=0.9)"
   ]
  },
  {
   "cell_type": "markdown",
   "metadata": {},
   "source": [
    "4. Train the network\n",
    "^^^^^^^^^^^^^^^^^^^^\n",
    "\n",
    "This is when things start to get interesting.\n",
    "We simply have to loop over our data iterator, and feed the inputs to the\n",
    "network and optimize.\n",
    "\n"
   ]
  },
  {
   "cell_type": "code",
   "execution_count": 15,
   "metadata": {},
   "outputs": [
    {
     "name": "stdout",
     "output_type": "stream",
     "text": [
      "[1,  2000] loss: 2.169\n",
      "[1,  4000] loss: 1.836\n",
      "[1,  6000] loss: 1.670\n",
      "[1,  8000] loss: 1.571\n",
      "[1, 10000] loss: 1.492\n",
      "[1, 12000] loss: 1.445\n",
      "[2,  2000] loss: 1.399\n",
      "[2,  4000] loss: 1.360\n",
      "[2,  6000] loss: 1.349\n",
      "[2,  8000] loss: 1.330\n",
      "[2, 10000] loss: 1.314\n",
      "[2, 12000] loss: 1.293\n",
      "Finished Training\n",
      "CPU times: user 5min 8s, sys: 16.4 s, total: 5min 24s\n",
      "Wall time: 2min 18s\n"
     ]
    }
   ],
   "source": [
    "%%time\n",
    "\n",
    "def train(trainloader):\n",
    "\n",
    "    for epoch in range(2):  # loop over the dataset multiple times\n",
    "\n",
    "        running_loss = 0.0\n",
    "        for i, data in enumerate(trainloader, 0):\n",
    "            # get the inputs\n",
    "            inputs, labels = data\n",
    "\n",
    "            # zero the parameter gradients\n",
    "            myoptimizer.zero_grad()\n",
    "\n",
    "            # forward + backward + optimize\n",
    "            outputs = mynet(inputs)\n",
    "            loss = mycriterion(outputs, labels)\n",
    "            loss.backward()\n",
    "            myoptimizer.step()\n",
    "\n",
    "            # print statistics\n",
    "            running_loss += loss.item()\n",
    "            if i % 2000 == 1999:    # print every 2000 mini-batches\n",
    "                print('[%d, %5d] loss: %.3f' %\n",
    "                      (epoch + 1, i + 1, running_loss / 2000))\n",
    "                running_loss = 0.0\n",
    "\n",
    "    print('Finished Training')\n",
    "    \n",
    "    return outputs\n",
    "\n",
    "myoutputs = train(mytrainloader)"
   ]
  },
  {
   "cell_type": "code",
   "execution_count": 16,
   "metadata": {},
   "outputs": [
    {
     "data": {
      "text/plain": [
       "tensor([[ 2.7019e+00,  7.9799e+00, -1.8078e+00, -2.5281e+00, -1.2554e+00,\n",
       "         -3.3541e+00, -2.1181e+00, -3.9752e+00,  3.3686e-01,  4.5768e+00],\n",
       "        [-2.1709e+00, -3.5117e+00,  2.0542e+00,  2.9601e+00,  3.6718e+00,\n",
       "          2.9448e+00,  3.0338e+00,  1.6017e+00, -4.5641e+00, -4.0991e+00],\n",
       "        [ 2.8837e-03,  2.7481e-01,  9.2177e-01,  4.1888e-01,  9.3850e-01,\n",
       "          1.7630e-01, -7.3045e-01,  1.1680e+00, -1.5500e+00, -3.3855e-01],\n",
       "        [-5.2057e-01, -1.8753e+00,  1.6234e+00,  8.3775e-01,  7.7711e-01,\n",
       "          4.0697e-01,  2.1147e-01, -4.7989e-01,  1.3926e-01, -2.3924e-02]],\n",
       "       grad_fn=<AddmmBackward>)"
      ]
     },
     "execution_count": 16,
     "metadata": {},
     "output_type": "execute_result"
    }
   ],
   "source": [
    "myoutputs"
   ]
  },
  {
   "cell_type": "markdown",
   "metadata": {},
   "source": [
    "5. Test the network on the test data\n",
    "^^^^^^^^^^^^^^^^^^^^^^^^^^^^^^^^^^^^\n",
    "\n",
    "We have trained the network for 2 passes over the training dataset.\n",
    "But we need to check if the network has learnt anything at all.\n",
    "\n",
    "We will check this by predicting the class label that the neural network\n",
    "outputs, and checking it against the ground-truth. If the prediction is\n",
    "correct, we add the sample to the list of correct predictions.\n",
    "\n",
    "Okay, first step. Let us display an image from the testset and compare the predictions to the ground truth.\n"
   ]
  },
  {
   "cell_type": "code",
   "execution_count": 17,
   "metadata": {},
   "outputs": [
    {
     "data": {
      "image/png": "[encoded data removed]",
      "text/plain": [
       "<Figure size 432x288 with 1 Axes>"
      ]
     },
     "metadata": {},
     "output_type": "display_data"
    },
    {
     "name": "stdout",
     "output_type": "stream",
     "text": [
      "GroundTruth:    cat  ship  ship plane\n",
      "Predicted  :    cat   car   car plane\n"
     ]
    }
   ],
   "source": [
    "mydataiter = iter(mytestloader)\n",
    "myimages, mylabels = mydataiter.next()\n",
    "myoutputs = mynet(myimages)\n",
    "_, mypredicted = torch.max(myoutputs, 1)\n",
    "\n",
    "# print images\n",
    "imshow(torchvision.utils.make_grid(myimages))\n",
    "print('GroundTruth: ', ' '.join('%5s' % classes[mylabels[j]] for j in range(4)))\n",
    "print('Predicted  : ', ' '.join('%5s' % classes[mypredicted[j]] for j in range(4)))"
   ]
  },
  {
   "cell_type": "markdown",
   "metadata": {},
   "source": [
    "The outputs are energies for the 10 classes.\n",
    "The higher the energy for a class, the more the network\n",
    "thinks that the image is of the particular class.\n",
    "So, let's get the index of the highest energy:\n",
    "\n"
   ]
  },
  {
   "cell_type": "markdown",
   "metadata": {},
   "source": [
    "Now, let's look at how the network performs on the entire dataset."
   ]
  },
  {
   "cell_type": "code",
   "execution_count": 18,
   "metadata": {},
   "outputs": [
    {
     "name": "stdout",
     "output_type": "stream",
     "text": [
      "Accuracy of the network on the 10000 test images: 54 %\n",
      "CPU times: user 10.8 s, sys: 944 ms, total: 11.8 s\n",
      "Wall time: 7.13 s\n"
     ]
    }
   ],
   "source": [
    "%%time\n",
    "\n",
    "def getAccuracy(testloader):\n",
    "\n",
    "    correct = 0\n",
    "    total = 0\n",
    "    with torch.no_grad():\n",
    "        for data in testloader:\n",
    "            images, labels = data\n",
    "            outputs = mynet(images)\n",
    "            _, predicted = torch.max(outputs.data, 1)\n",
    "            total += labels.size(0)\n",
    "            correct += (predicted == labels).sum().item()\n",
    "\n",
    "    print('Accuracy of the network on the 10000 test images: %d %%' % (\n",
    "        correct / total * 100.))\n",
    "    return correct / total * 100.\n",
    "    \n",
    "myaccuracy = getAccuracy(mytestloader)"
   ]
  },
  {
   "cell_type": "markdown",
   "metadata": {},
   "source": [
    "While those results are far from perfect (we will try to make them better in the next exercises), they still look better than random chance, which is 10% accuracy (randomly picking a class out of 10 classes).\n",
    "It looks like the network learnt something.\n",
    "\n",
    "Hmmm, what are the classes that performed well, and the classes that did\n",
    "not perform well:\n",
    "\n"
   ]
  },
  {
   "cell_type": "code",
   "execution_count": 19,
   "metadata": {},
   "outputs": [
    {
     "name": "stdout",
     "output_type": "stream",
     "text": [
      "Accuracy of plane : 51 %\n",
      "Accuracy of   car : 72 %\n",
      "Accuracy of  bird : 44 %\n",
      "Accuracy of   cat : 32 %\n",
      "Accuracy of  deer : 48 %\n",
      "Accuracy of   dog : 55 %\n",
      "Accuracy of  frog : 70 %\n",
      "Accuracy of horse : 54 %\n",
      "Accuracy of  ship : 52 %\n",
      "Accuracy of truck : 59 %\n",
      "CPU times: user 10.1 s, sys: 864 ms, total: 11 s\n",
      "Wall time: 5.71 s\n"
     ]
    }
   ],
   "source": [
    "%%time\n",
    "\n",
    "class_correct = list(0. for i in range(10))\n",
    "class_total = list(0. for i in range(10))\n",
    "\n",
    "with torch.no_grad():\n",
    "    for data in mytestloader:\n",
    "        images, labels = data\n",
    "        outputs = mynet(images)\n",
    "        _, predicted = torch.max(outputs, 1)\n",
    "        c = (predicted == labels).squeeze()\n",
    "        for i in range(4):\n",
    "            label = labels[i]\n",
    "            class_correct[label] += c[i].item()\n",
    "            class_total[label] += 1\n",
    "\n",
    "for i in range(10):\n",
    "    print('Accuracy of %5s : %2d %%' % (\n",
    "        classes[i], 100 * class_correct[i] / class_total[i]))"
   ]
  },
  {
   "cell_type": "markdown",
   "metadata": {},
   "source": [
    "EXERCISE 1: Supervised Learning & Learning Curves\n",
    "===========================================\n",
    "\n",
    "Now, let's build a first learning curve to see how the classifier's accuracy improves with the amount of data that is used to train it. To do that, we will add data progressively, batch after after, and plot the distribution of the accuracy vs. the number of records used for training. "
   ]
  },
  {
   "cell_type": "code",
   "execution_count": 20,
   "metadata": {},
   "outputs": [],
   "source": [
    "%run ActiveLearningClass.ipynb"
   ]
  },
  {
   "cell_type": "code",
   "execution_count": 21,
   "metadata": {},
   "outputs": [
    {
     "name": "stdout",
     "output_type": "stream",
     "text": [
      "Network's weights reinitialized\n",
      "Training for 2000 samples:\n",
      "Finished Training\n",
      "GroundTruth:    cat\n",
      "Predicted:    dog\n",
      "Accuracy of the network on the 10000 test images: 30.56%\n",
      "Network's weights reinitialized\n",
      "Training for 4000 samples:\n",
      "Finished Training\n",
      "GroundTruth:    cat\n",
      "Predicted:   frog\n",
      "Accuracy of the network on the 10000 test images: 33.46%\n",
      "Network's weights reinitialized\n",
      "Training for 6000 samples:\n",
      "Finished Training\n",
      "GroundTruth:    cat\n",
      "Predicted:    cat\n",
      "Accuracy of the network on the 10000 test images: 37.35%\n",
      "Network's weights reinitialized\n",
      "Training for 8000 samples:\n",
      "Finished Training\n",
      "GroundTruth:    cat\n",
      "Predicted:    dog\n",
      "Accuracy of the network on the 10000 test images: 36.5%\n",
      "Network's weights reinitialized\n",
      "Training for 10000 samples:\n",
      "Finished Training\n",
      "GroundTruth:    cat\n",
      "Predicted:   bird\n",
      "Accuracy of the network on the 10000 test images: 34.43%\n"
     ]
    },
    {
     "data": {
      "image/png": "[encoded data removed]",
      "text/plain": [
       "<Figure size 432x288 with 1 Axes>"
      ]
     },
     "metadata": {},
     "output_type": "display_data"
    },
    {
     "name": "stdout",
     "output_type": "stream",
     "text": [
      "CPU times: user 19min 17s, sys: 1min 33s, total: 20min 50s\n",
      "Wall time: 11min 53s\n"
     ]
    }
   ],
   "source": [
    "%%time\n",
    "\n",
    "num_steps = 5     # <---- Play with those values. CIFAR-10 has 50,000 records for training, and 10,000 for testing\n",
    "maximum = 10000   # <----\n",
    "nps = int(maximum / num_steps)\n",
    "\n",
    "myActiveStrategy = ActiveStrategy(mynet, nsteps=num_steps)\n",
    "\n",
    "myActiveStrategy.verbose = False\n",
    "\n",
    "myActiveStrategy.init_loaders()\n",
    "myActiveStrategy.incremental_supervised()\n",
    "mySupervised = myActiveStrategy.run_experiment(num_steps, maximum)\n",
    "    \n",
    "plt.plot([nps*i for i in range(1, num_steps + 1)], mySupervised, '--b', marker=\"o\")\n",
    "plt.show()"
   ]
  },
  {
   "cell_type": "markdown",
   "metadata": {},
   "source": [
    "As expected, the accuracy increases (overall) when more training data is added to train the model. \n",
    "\n",
    "QUESTION: What additional experiment(s) would you run to gain more understanding of the training set? What is the purpose of running such an experiment?\n",
    "* Different samples to generate a band of accuracy per training sample size; gives you an idea of what the confidence interval is per sample size.\n",
    "\n",
    "The question now is, can we do better? That's the question that Active Learning is trying to address...\n",
    "\n",
    "In the next exercise, we will start with the easiest, most intuitive Active Learning strategy: confidence-level.\n",
    "\n",
    "\n",
    "EXERCISE 2: Uncertainty-Based Strategies\n",
    "===================================\n",
    "\n",
    "Pooling Approach with Uncertainty-Based Strategy\n",
    "------------------------------------------------------------\n",
    "\n",
    "Let's start with the very first loop. We will select go through the following steps: \n",
    "1. We will select the first training set randomly.\n",
    "2. We will train the model with that sample.\n",
    "3. We will use the trained model for inferrence on the rest of the dataset.\n",
    "4. We will select the 'nps' records with the lowest confidence and retrain the model with it.\n",
    "\n",
    "Below, we perfect step 1. and 2.:"
   ]
  },
  {
   "cell_type": "code",
   "execution_count": 23,
   "metadata": {},
   "outputs": [
    {
     "name": "stdout",
     "output_type": "stream",
     "text": [
      "Network's weights reinitialized\n",
      "Training for 2000 records:\n",
      "Finished Training\n",
      "GroundTruth:    cat\n",
      "Predicted:    dog\n",
      "Accuracy of the network on the 10000 test images: 25.36%\n",
      "CPU times: user 1min 56s, sys: 8.26 s, total: 2min 4s\n",
      "Wall time: 1min\n"
     ]
    }
   ],
   "source": [
    "%%time\n",
    "import random\n",
    "\n",
    "unlabeled = [i for i in range(len(trainset))]\n",
    "labeled   = []\n",
    "\n",
    "to_be_labeled = random.sample(unlabeled, nps) # generate a random sample of the data, size nps (defined previously)\n",
    "to_be_labeled_set = set(to_be_labeled)\n",
    "\n",
    "unlabeled = list(filter(lambda x: x not in to_be_labeled_set, unlabeled)) # update the unlabeled array once you defined to_be_labeled\n",
    "\n",
    "myActiveStrategy.run_one(to_be_labeled)"
   ]
  },
  {
   "cell_type": "code",
   "execution_count": 33,
   "metadata": {},
   "outputs": [
    {
     "name": "stdout",
     "output_type": "stream",
     "text": [
      "4000\n",
      "46000\n"
     ]
    }
   ],
   "source": [
    "print(len(to_be_labeled))\n",
    "print(len(unlabeled))"
   ]
  },
  {
   "cell_type": "markdown",
   "metadata": {},
   "source": [
    "Let's start with the very first loop. We will select go through the following steps: \n",
    "1. We will select the first training set randomly.\n",
    "2. We will train the model with that sample.\n",
    "3. We will use the train model for inferrence on the rest of the dataset.\n",
    "\n",
    "We just trained the model using a random sample of size 'nps' (the size we choose for each step), to initialize our Active Learning process.\n",
    "\n",
    "Now, let's move on to step 3. and 4.:"
   ]
  },
  {
   "cell_type": "code",
   "execution_count": 26,
   "metadata": {},
   "outputs": [
    {
     "name": "stdout",
     "output_type": "stream",
     "text": [
      "Network's weights reinitialized\n",
      "Training for 4000 records:\n",
      "Finished Training\n",
      "GroundTruth:    cat\n",
      "Predicted:    cat\n",
      "Accuracy of the network on the 10000 test images: 25.88%\n"
     ]
    }
   ],
   "source": [
    "myResults = myActiveStrategy.infer(unlabeled)\n",
    "# myResults[:10]\n",
    "\n",
    "# Below, we update the to_be_labeled and unlabeled arrays, in preparation for the next loop...\n",
    "# the strategy is to select the records that were inferred with the lowest confidence in the previous loop...\n",
    "sorted_by_conf = sorted(myResults, key=lambda x: x[3])[:2000] # fill here; remember that the size of the array will be 'nps'\n",
    "\n",
    "# update to_be_labeled:\n",
    "to_be_labeled.extend([row[0] for row in sorted_by_conf])\n",
    "to_be_labeled_set = set(to_be_labeled)\n",
    "\n",
    "unlabeled = list(filter(lambda x: x not in to_be_labeled_set, unlabeled)) # update unlabeled\n",
    "\n",
    "# And run one more loop...\n",
    "accuracy = myActiveStrategy.run_one(to_be_labeled)"
   ]
  },
  {
   "cell_type": "code",
   "execution_count": 28,
   "metadata": {},
   "outputs": [
    {
     "data": {
      "text/plain": [
       "[[0,\n",
       "  'frog',\n",
       "  'frog',\n",
       "  tensor(0.5781),\n",
       "  array([0.00751252, 0.02203998, 0.04192598, 0.08358631, 0.09015553,\n",
       "         0.1432145 , 0.5781312 , 0.02007812, 0.00339432, 0.00996149],\n",
       "        dtype=float32)],\n",
       " [1,\n",
       "  'truck',\n",
       "  'truck',\n",
       "  tensor(0.4077),\n",
       "  array([0.09611287, 0.2513873 , 0.05105133, 0.0246595 , 0.00578742,\n",
       "         0.01846184, 0.01481133, 0.02029133, 0.10975036, 0.40768683],\n",
       "        dtype=float32)],\n",
       " [2,\n",
       "  'truck',\n",
       "  'truck',\n",
       "  tensor(0.3414),\n",
       "  array([0.04747928, 0.10403188, 0.07348592, 0.08434021, 0.05827534,\n",
       "         0.06887344, 0.06713587, 0.12380801, 0.03121658, 0.34135345],\n",
       "        dtype=float32)],\n",
       " [3,\n",
       "  'deer',\n",
       "  'frog',\n",
       "  tensor(0.4890),\n",
       "  array([0.00711665, 0.01698517, 0.07723261, 0.07661139, 0.14896092,\n",
       "         0.14664124, 0.48901328, 0.02484221, 0.00359232, 0.00900425],\n",
       "        dtype=float32)],\n",
       " [4,\n",
       "  'car',\n",
       "  'truck',\n",
       "  tensor(0.5538),\n",
       "  array([0.05610464, 0.16053149, 0.04199112, 0.02068362, 0.01706747,\n",
       "         0.02045746, 0.01192112, 0.03864058, 0.07875886, 0.55384356],\n",
       "        dtype=float32)],\n",
       " [5,\n",
       "  'car',\n",
       "  'frog',\n",
       "  tensor(0.4309),\n",
       "  array([0.00856331, 0.02243813, 0.08352181, 0.11046817, 0.10539547,\n",
       "         0.19711353, 0.43085393, 0.03057811, 0.0029522 , 0.00811531],\n",
       "        dtype=float32)],\n",
       " [6,\n",
       "  'bird',\n",
       "  'frog',\n",
       "  tensor(0.3185),\n",
       "  array([0.01524215, 0.02581391, 0.16449593, 0.08892995, 0.17013687,\n",
       "         0.14255375, 0.3185495 , 0.05846669, 0.00422611, 0.01158514],\n",
       "        dtype=float32)],\n",
       " [7,\n",
       "  'horse',\n",
       "  'dog',\n",
       "  tensor(0.3121),\n",
       "  array([0.0082687 , 0.01092036, 0.20996128, 0.15510891, 0.09554911,\n",
       "         0.3120585 , 0.14270341, 0.05578002, 0.00261035, 0.00703938],\n",
       "        dtype=float32)],\n",
       " [8,\n",
       "  'ship',\n",
       "  'ship',\n",
       "  tensor(0.3444),\n",
       "  array([0.1408432 , 0.24499819, 0.00614055, 0.00373762, 0.00066683,\n",
       "         0.00081023, 0.00046786, 0.00174624, 0.34435815, 0.25623107],\n",
       "        dtype=float32)],\n",
       " [9,\n",
       "  'cat',\n",
       "  'truck',\n",
       "  tensor(0.2096),\n",
       "  array([0.05165569, 0.12917015, 0.08102321, 0.0881935 , 0.0503234 ,\n",
       "         0.08509591, 0.07695542, 0.20131166, 0.02664762, 0.20962347],\n",
       "        dtype=float32)]]"
      ]
     },
     "execution_count": 28,
     "metadata": {},
     "output_type": "execute_result"
    }
   ],
   "source": [
    "myResults[:10]"
   ]
  },
  {
   "cell_type": "code",
   "execution_count": 18,
   "metadata": {},
   "outputs": [
    {
     "name": "stdout",
     "output_type": "stream",
     "text": [
      "2000\n"
     ]
    },
    {
     "data": {
      "text/plain": [
       "[[29247,\n",
       "  'cat',\n",
       "  'horse',\n",
       "  tensor(0.1199),\n",
       "  array([0.11331826, 0.10128255, 0.10236096, 0.10150664, 0.11639684,\n",
       "         0.07161216, 0.09667381, 0.11988647, 0.07685285, 0.1001094 ],\n",
       "        dtype=float32)],\n",
       " [15659,\n",
       "  'cat',\n",
       "  'cat',\n",
       "  tensor(0.1235),\n",
       "  array([0.12215959, 0.12140635, 0.11389454, 0.12347462, 0.05940158,\n",
       "         0.1098175 , 0.05431493, 0.10453553, 0.11236259, 0.07863272],\n",
       "        dtype=float32)],\n",
       " [5808,\n",
       "  'dog',\n",
       "  'plane',\n",
       "  tensor(0.1244),\n",
       "  array([0.12436724, 0.11198641, 0.09641605, 0.11983203, 0.08800576,\n",
       "         0.06851987, 0.08075901, 0.11359534, 0.07659027, 0.11992799],\n",
       "        dtype=float32)],\n",
       " [4832,\n",
       "  'ship',\n",
       "  'bird',\n",
       "  tensor(0.1250),\n",
       "  array([0.11327136, 0.10086782, 0.12503335, 0.123506  , 0.0848975 ,\n",
       "         0.11973836, 0.06628142, 0.07261097, 0.09344246, 0.10035075],\n",
       "        dtype=float32)],\n",
       " [49408,\n",
       "  'cat',\n",
       "  'ship',\n",
       "  tensor(0.1252),\n",
       "  array([0.11924184, 0.12165697, 0.07835262, 0.11747256, 0.05732012,\n",
       "         0.07424808, 0.06623078, 0.11588085, 0.12519677, 0.12439934],\n",
       "        dtype=float32)],\n",
       " [8189,\n",
       "  'car',\n",
       "  'cat',\n",
       "  tensor(0.1260),\n",
       "  array([0.10797821, 0.08765619, 0.09346557, 0.1260368 , 0.09642949,\n",
       "         0.08747997, 0.09512284, 0.10943178, 0.09041741, 0.10598171],\n",
       "        dtype=float32)],\n",
       " [44172,\n",
       "  'deer',\n",
       "  'plane',\n",
       "  tensor(0.1261),\n",
       "  array([0.12605974, 0.08775461, 0.08965754, 0.12126421, 0.10715023,\n",
       "         0.08285655, 0.09028732, 0.09684168, 0.10717758, 0.09095056],\n",
       "        dtype=float32)],\n",
       " [28233,\n",
       "  'truck',\n",
       "  'car',\n",
       "  tensor(0.1267),\n",
       "  array([0.11618128, 0.12674749, 0.07117461, 0.1150849 , 0.10268473,\n",
       "         0.06838247, 0.08286516, 0.10978945, 0.10217198, 0.10491791],\n",
       "        dtype=float32)],\n",
       " [24284,\n",
       "  'car',\n",
       "  'horse',\n",
       "  tensor(0.1268),\n",
       "  array([0.09576707, 0.10408695, 0.10512303, 0.11722799, 0.06117377,\n",
       "         0.10472212, 0.0673546 , 0.12676221, 0.09911864, 0.11866359],\n",
       "        dtype=float32)],\n",
       " [1273,\n",
       "  'horse',\n",
       "  'cat',\n",
       "  tensor(0.1268),\n",
       "  array([0.12177078, 0.10868458, 0.11001488, 0.12677903, 0.10869761,\n",
       "         0.07650567, 0.08483289, 0.11820524, 0.07306548, 0.07144381],\n",
       "        dtype=float32)]]"
      ]
     },
     "execution_count": 18,
     "metadata": {},
     "output_type": "execute_result"
    }
   ],
   "source": [
    "myResultsSorted = sorted(myResults, key=lambda x: x[3])[:2000]\n",
    "print(len(myResultsSorted))\n",
    "myResultsSorted[:10]"
   ]
  },
  {
   "cell_type": "markdown",
   "metadata": {},
   "source": [
    "Now, let's implement the whole process and run all the loops."
   ]
  },
  {
   "cell_type": "code",
   "execution_count": 19,
   "metadata": {},
   "outputs": [
    {
     "name": "stdout",
     "output_type": "stream",
     "text": [
      "Network's weights reinitialized\n",
      "Training for 2000 records:\n",
      "Finished Training\n",
      "GroundTruth:    cat\n",
      "Predicted:   deer\n",
      "Accuracy of the network on the 10000 test images: 27.64%\n",
      "Network's weights reinitialized\n",
      "Training for 4000 records:\n",
      "Finished Training\n",
      "GroundTruth:    cat\n",
      "Predicted:    cat\n",
      "Accuracy of the network on the 10000 test images: 30.37%\n",
      "Network's weights reinitialized\n",
      "Training for 6000 records:\n",
      "Finished Training\n",
      "GroundTruth:    cat\n",
      "Predicted:    cat\n",
      "Accuracy of the network on the 10000 test images: 28.89%\n",
      "Network's weights reinitialized\n",
      "Training for 8000 records:\n",
      "Finished Training\n",
      "GroundTruth:    cat\n",
      "Predicted:   ship\n",
      "Accuracy of the network on the 10000 test images: 35.5%\n",
      "Network's weights reinitialized\n",
      "Training for 10000 records:\n",
      "Finished Training\n",
      "GroundTruth:    cat\n",
      "Predicted:   frog\n",
      "Accuracy of the network on the 10000 test images: 33.02%\n",
      "CPU times: user 30min 47s, sys: 1min 29s, total: 32min 16s\n",
      "Wall time: 6min 29s\n"
     ]
    }
   ],
   "source": [
    "%%time\n",
    "\n",
    "def confidenceAL(nsteps, stepSize):\n",
    "    \n",
    "    results = []\n",
    "    \n",
    "    unlabeled = [i for i in range(len(trainset))]\n",
    "    labeled   = []\n",
    "    \n",
    "    to_be_labeled = random.sample(unlabeled, stepSize)\n",
    "    to_be_labeled_set = set(to_be_labeled)\n",
    "    unlabeled = list(filter(lambda x: x not in to_be_labeled_set, unlabeled))\n",
    "    \n",
    "    myres = myActiveStrategy.run_one(to_be_labeled)\n",
    "    results.append(myres)\n",
    "    \n",
    "    for n in range(1, nsteps):\n",
    "        # Fill algorithm here getting inspiration from the previous exercise\n",
    "        myResults = myActiveStrategy.infer(unlabeled)\n",
    "        sorted_by_conf = sorted(myResults, key=lambda x: x[3])[:stepSize] # fill here; remember that the size of the array will be 'nps'\n",
    "\n",
    "        # update to_be_labeled:\n",
    "        to_be_labeled.extend([row[0] for row in sorted_by_conf])\n",
    "        to_be_labeled_set = set(to_be_labeled)\n",
    "        unlabeled = list(filter(lambda x: x not in to_be_labeled_set, unlabeled)) # update unlabeled\n",
    "\n",
    "        myres = myActiveStrategy.run_one(to_be_labeled)\n",
    "        results.append(myres)\n",
    "        \n",
    "    return results\n",
    "    \n",
    "myConfidenceAL = confidenceAL(num_steps, nps)"
   ]
  },
  {
   "cell_type": "markdown",
   "metadata": {},
   "source": [
    "Aren't you curious to know how good those results are? We can now compare the learning curve that we obtain with the one we got for the supervised approach."
   ]
  },
  {
   "cell_type": "code",
   "execution_count": 20,
   "metadata": {},
   "outputs": [
    {
     "data": {
      "text/plain": [
       "[<matplotlib.lines.Line2D at 0x121f8b080>,\n",
       " <matplotlib.lines.Line2D at 0x121f8b860>]"
      ]
     },
     "execution_count": 20,
     "metadata": {},
     "output_type": "execute_result"
    },
    {
     "data": {
      "image/png": "[encoded data removed]",
      "text/plain": [
       "<Figure size 432x288 with 1 Axes>"
      ]
     },
     "metadata": {
      "needs_background": "light"
     },
     "output_type": "display_data"
    }
   ],
   "source": [
    "plt.plot([nps*i for i in range(1, num_steps + 1)], mySupervised,   '--b',\n",
    "         [nps*i for i in range(1, num_steps + 1)], myConfidenceAL, '--r',\n",
    "         marker=\"o\")"
   ]
  },
  {
   "cell_type": "markdown",
   "metadata": {},
   "source": [
    "Now, the ActiveStrategy Class already comes with a method you can use to \"onboard\" any querying strategy you would like. Here is how it works:\n",
    "\n",
    "\n",
    "Implement the confidence level based strategy using this method.\n",
    "Then, run the process; you can move on to the next exercise while training is in progress here."
   ]
  },
  {
   "cell_type": "code",
   "execution_count": 21,
   "metadata": {},
   "outputs": [
    {
     "name": "stdout",
     "output_type": "stream",
     "text": [
      "Network's weights reinitialized\n",
      "Training for 2000 records:\n",
      "Finished Training\n",
      "GroundTruth:    cat\n",
      "Predicted:   frog\n",
      "Accuracy of the network on the 10000 test images: 25.14%\n",
      "Network's weights reinitialized\n",
      "Training for 4000 records:\n",
      "Finished Training\n",
      "GroundTruth:    cat\n",
      "Predicted:    car\n",
      "Accuracy of the network on the 10000 test images: 24.42%\n",
      "Network's weights reinitialized\n",
      "Training for 6000 records:\n",
      "Finished Training\n",
      "GroundTruth:    cat\n",
      "Predicted:    cat\n",
      "Accuracy of the network on the 10000 test images: 28.95%\n",
      "Network's weights reinitialized\n",
      "Training for 8000 records:\n",
      "Finished Training\n",
      "GroundTruth:    cat\n",
      "Predicted:    cat\n",
      "Accuracy of the network on the 10000 test images: 35.88%\n",
      "Network's weights reinitialized\n",
      "Training for 10000 records:\n",
      "Finished Training\n",
      "GroundTruth:    cat\n",
      "Predicted:    cat\n",
      "Accuracy of the network on the 10000 test images: 32.12%\n",
      "CPU times: user 31min 5s, sys: 1min 30s, total: 32min 35s\n",
      "Wall time: 6min 33s\n"
     ]
    },
    {
     "data": {
      "image/png": "[encoded data removed]",
      "text/plain": [
       "<Figure size 432x288 with 1 Axes>"
      ]
     },
     "metadata": {
      "needs_background": "light"
     },
     "output_type": "display_data"
    }
   ],
   "source": [
    "%%time\n",
    "\n",
    "def update_function(inferred_res, nRec):\n",
    "    ranked = sorted(inferred_res, key=lambda x: x[3])[:nRec] # Sort and select the best nRec elements\n",
    "    selected = [rec[0] for rec in ranked]\n",
    "    \n",
    "    return selected\n",
    "    \n",
    "myConfidenceAL2 = myActiveStrategy.run_ConfidenceAL(update_function, num_steps, maximum)\n",
    "plt.plot([nps*i for i in range(1, num_steps + 1)], mySupervised,    '--b',\n",
    "         [nps*i for i in range(1, num_steps + 1)], myConfidenceAL,  '--r',\n",
    "         [nps*i for i in range(1, num_steps + 1)], myConfidenceAL2, '--g',\n",
    "         marker=\"o\")"
   ]
  },
  {
   "cell_type": "markdown",
   "metadata": {},
   "source": [
    "Now, for our strategy, we have been selecting the records for which the lowest confidence was observed in inferrence, assuming that these data points would be the ones that the model is the most confused about. While this is a sound strategy with a fairly clean dataset, in real life, it could lead to injecting more and more spam/noise into the training set.\n",
    "\n",
    "To help, let's start by drawing the distribution of the confidence level for the last inferences we ran:"
   ]
  },
  {
   "cell_type": "code",
   "execution_count": 43,
   "metadata": {},
   "outputs": [
    {
     "name": "stdout",
     "output_type": "stream",
     "text": [
      "[0.5781311988830566, 0.40768682956695557, 0.3413534462451935, 0.48901328444480896, 0.5538435578346252, 0.430853933095932, 0.3185495138168335, 0.3120585083961487, 0.3443581461906433, 0.20962347090244293]\n",
      "48000\n",
      "CPU times: user 92 ms, sys: 12 ms, total: 104 ms\n",
      "Wall time: 104 ms\n"
     ]
    },
    {
     "data": {
      "image/png": "[encoded data removed]",
      "text/plain": [
       "<Figure size 432x288 with 1 Axes>"
      ]
     },
     "metadata": {},
     "output_type": "display_data"
    }
   ],
   "source": [
    "%%time\n",
    "\n",
    "inferred_CL = [ c[3].item() for c in myResults ]\n",
    "print(inferred_CL[:10])\n",
    "print(len(inferred_CL))\n",
    "\n",
    "n, bins, patches = plt.hist(x=inferred_CL, bins=30, color='#0504aa',\n",
    "                            alpha=0.7, rwidth=0.85)\n",
    "plt.grid(axis='y', alpha=0.75)\n",
    "plt.xlabel('Confidence of Prediction')\n",
    "plt.ylabel('Frequency')\n",
    "plt.title('Confidence Level')\n",
    "maxfreq = n.max()\n",
    "\n",
    "plt.ylim(top=(np.ceil(maxfreq / 10) * 10 * 1.05) if maxfreq % 10 else (maxfreq + 10) * 1.05)"
   ]
  },
  {
   "cell_type": "markdown",
   "metadata": {},
   "source": [
    "QUESTION: Before moving on, discuss what a good choice for nps might be here (so far, we have taken that value arbitrarily). What experient would you design to automatically choose an optimal \"nps\" value. Please discuss.\n",
    "* Very low confidence level might actually capture outliers or noise.\n",
    "* You can see that there's a peak around 0.2 - 0.25, so might want to capture those first instead of starting from the very low confidence level."
   ]
  },
  {
   "cell_type": "markdown",
   "metadata": {},
   "source": [
    "A Better Confidence Level-Based Strategy\n",
    "--------------------------------------------------\n",
    "\n",
    "Implement an alternative confidence level-based strategy where very low confidence records get cut out, and where you selected the lowest confidence records from the \"medium\" confidence sample. Experiment with different cutoffs and compare the results."
   ]
  },
  {
   "cell_type": "code",
   "execution_count": 24,
   "metadata": {},
   "outputs": [
    {
     "name": "stdout",
     "output_type": "stream",
     "text": [
      "Network's weights reinitialized\n",
      "Training for 2000 records:\n",
      "Finished Training\n",
      "GroundTruth:    cat\n",
      "Predicted:    dog\n",
      "Accuracy of the network on the 10000 test images: 27.42%\n",
      "Network's weights reinitialized\n",
      "Training for 4000 records:\n",
      "Finished Training\n",
      "GroundTruth:    cat\n",
      "Predicted:   frog\n",
      "Accuracy of the network on the 10000 test images: 21.17%\n",
      "Network's weights reinitialized\n",
      "Training for 6000 records:\n",
      "Finished Training\n",
      "GroundTruth:    cat\n",
      "Predicted:   frog\n",
      "Accuracy of the network on the 10000 test images: 29.58%\n",
      "Network's weights reinitialized\n",
      "Training for 8000 records:\n",
      "Finished Training\n",
      "GroundTruth:    cat\n",
      "Predicted:    cat\n",
      "Accuracy of the network on the 10000 test images: 30.55%\n",
      "Network's weights reinitialized\n",
      "Training for 10000 records:\n",
      "Finished Training\n",
      "GroundTruth:    cat\n",
      "Predicted:   bird\n",
      "Accuracy of the network on the 10000 test images: 36.24%\n",
      "CPU times: user 31min 1s, sys: 1min 28s, total: 32min 30s\n",
      "Wall time: 6min 30s\n"
     ]
    },
    {
     "data": {
      "image/png": "[encoded data removed]",
      "text/plain": [
       "<Figure size 432x288 with 1 Axes>"
      ]
     },
     "metadata": {
      "needs_background": "light"
     },
     "output_type": "display_data"
    }
   ],
   "source": [
    "%%time\n",
    "\n",
    "def update_CL_improved(inferred_res, nRec, nFilter=500): # <--- we can play with nFilter value later\n",
    "    ranked = sorted(inferred_res, key=lambda x: x[3])[nFilter:]\n",
    "    selected = [rec[0] for rec in ranked[:nRec]]\n",
    "    \n",
    "    return selected\n",
    "\n",
    "myConfidenceAL3 = myActiveStrategy.run_ConfidenceAL(update_CL_improved, num_steps, maximum)\n",
    "plt.plot([nps*i for i in range(1, num_steps + 1)], mySupervised,    '--b',\n",
    "         [nps*i for i in range(1, num_steps + 1)], myConfidenceAL2, '--g',\n",
    "         [nps*i for i in range(1, num_steps + 1)], myConfidenceAL3, '--p',\n",
    "         marker=\"o\")"
   ]
  },
  {
   "cell_type": "markdown",
   "metadata": {},
   "source": [
    "Optional Exercise:\n",
    "----------------------\n",
    "WARNING: THIS IS VERY LONG TO RUN!!! You're invited to try it after the session, or after you are done with the other steps.\n",
    "\n",
    "Let's draw the final accuracy as a function of the 'nFilter' value:"
   ]
  },
  {
   "cell_type": "code",
   "execution_count": null,
   "metadata": {},
   "outputs": [],
   "source": [
    "%%time\n",
    "\n",
    "finalAccuracies = []\n",
    "stepValues = [500, 1000, 2000, 5000] # <-- customize this to experiment different values\n",
    "for nf in stepValues:\n",
    "    print(\">>>>> Running algorithm for {0}\".format(nf))\n",
    "    myAcc = # Fill here\n",
    "    finalAccuracies.append(myAcc)\n",
    "\n",
    "plt.plot(stepValues, [a[-1] for a in finalAccuracies] , '--b', marker=\"o\")"
   ]
  },
  {
   "cell_type": "markdown",
   "metadata": {},
   "source": [
    "QUESTION: What are the learning from the plot that you obtained? What further studies does this inspire to you?"
   ]
  },
  {
   "cell_type": "markdown",
   "metadata": {},
   "source": [
    "Streaming Approach with Uncertainty-Based Strategy\n",
    "---------------------------------------------------------------\n",
    "\n",
    "Now, instead of a pooling approach, let's use a streaming approach. Instead of using a fixed number of records at each step, you can now use a rule; for instance, instead of selecting 'n' best records, use a threshold in confidence level. What are the benefits and challenges with each methodology?\n",
    "* Benefit of selecting fixed number of records is that you are ingesting the same number of data points at each iteration, meaning you can rule out sample size from how it impacts the model performance.\n",
    "* Using confidence level allows you to choose samples more specifically but less control over how many data points to use per iteration."
   ]
  },
  {
   "cell_type": "code",
   "execution_count": 27,
   "metadata": {},
   "outputs": [
    {
     "data": {
      "text/plain": [
       "[]"
      ]
     },
     "execution_count": 27,
     "metadata": {},
     "output_type": "execute_result"
    }
   ],
   "source": [
    "sorted(x for x in inferred_CL if x < 0.1)"
   ]
  },
  {
   "cell_type": "code",
   "execution_count": 28,
   "metadata": {},
   "outputs": [
    {
     "name": "stdout",
     "output_type": "stream",
     "text": [
      "Network's weights reinitialized\n",
      "Training for 2000 records:\n",
      "Finished Training\n",
      "GroundTruth:    cat\n",
      "Predicted:    dog\n",
      "Accuracy of the network on the 10000 test images: 25.96%\n",
      "Network's weights reinitialized\n",
      "Training for 2361 records:\n",
      "Finished Training\n",
      "GroundTruth:    cat\n",
      "Predicted:   deer\n",
      "Accuracy of the network on the 10000 test images: 20.72%\n",
      "Network's weights reinitialized\n",
      "Training for 3629 records:\n",
      "Finished Training\n",
      "GroundTruth:    cat\n",
      "Predicted:    cat\n",
      "Accuracy of the network on the 10000 test images: 24.18%\n",
      "Network's weights reinitialized\n",
      "Training for 4031 records:\n",
      "Finished Training\n",
      "GroundTruth:    cat\n",
      "Predicted:   bird\n",
      "Accuracy of the network on the 10000 test images: 20.67%\n",
      "Network's weights reinitialized\n",
      "Training for 4451 records:\n",
      "Finished Training\n",
      "GroundTruth:    cat\n",
      "Predicted:    dog\n",
      "Accuracy of the network on the 10000 test images: 24.97%\n",
      "CPU times: user 23min 17s, sys: 1min 12s, total: 24min 30s\n",
      "Wall time: 5min 14s\n"
     ]
    },
    {
     "data": {
      "image/png": "[encoded data removed]",
      "text/plain": [
       "<Figure size 432x288 with 1 Axes>"
      ]
     },
     "metadata": {
      "needs_background": "light"
     },
     "output_type": "display_data"
    }
   ],
   "source": [
    "%%time\n",
    "\n",
    "def update_streaming(inferred_res, threshold=0.15):\n",
    "    next_loop = sorted(x[0] for x in inferred_res if x[3] < threshold)\n",
    "    \n",
    "    return next_loop\n",
    "    \n",
    "myStreamingAL, myStepSizes = myActiveStrategy.run_StreamingAL(update_streaming, num_steps, maximum)\n",
    "plt.plot(myStepSizes, myStreamingAL , '--b', marker=\"o\")"
   ]
  },
  {
   "cell_type": "markdown",
   "metadata": {},
   "source": [
    "Now, let's define the threshold based a certain percentile value for the inferred array (in other term, we choose what percentage of the data we keep at each step). Does that remind you of something? :-)"
   ]
  },
  {
   "cell_type": "code",
   "execution_count": 44,
   "metadata": {},
   "outputs": [
    {
     "data": {
      "text/plain": [
       "[0.5781311988830566,\n",
       " 0.40768682956695557,\n",
       " 0.3413534462451935,\n",
       " 0.48901328444480896,\n",
       " 0.5538435578346252,\n",
       " 0.430853933095932,\n",
       " 0.3185495138168335,\n",
       " 0.3120585083961487,\n",
       " 0.3443581461906433,\n",
       " 0.20962347090244293]"
      ]
     },
     "execution_count": 44,
     "metadata": {},
     "output_type": "execute_result"
    }
   ],
   "source": [
    "inferred_CL[:10]"
   ]
  },
  {
   "cell_type": "code",
   "execution_count": 30,
   "metadata": {},
   "outputs": [],
   "source": [
    "thresh = np.percentile(inferred_CL, 5)"
   ]
  },
  {
   "cell_type": "code",
   "execution_count": 45,
   "metadata": {},
   "outputs": [
    {
     "data": {
      "text/plain": [
       "0.18863599747419357"
      ]
     },
     "execution_count": 45,
     "metadata": {},
     "output_type": "execute_result"
    }
   ],
   "source": [
    "np.percentile(inferred_CL, 5)"
   ]
  },
  {
   "cell_type": "code",
   "execution_count": 31,
   "metadata": {},
   "outputs": [
    {
     "data": {
      "text/plain": [
       "[0.11988647282123566,\n",
       " 0.12347462028265,\n",
       " 0.12436723709106445,\n",
       " 0.12503334879875183,\n",
       " 0.12519676983356476,\n",
       " 0.12603679299354553,\n",
       " 0.12605974078178406,\n",
       " 0.1267474889755249,\n",
       " 0.12676221132278442,\n",
       " 0.12677903473377228]"
      ]
     },
     "execution_count": 31,
     "metadata": {},
     "output_type": "execute_result"
    }
   ],
   "source": [
    "sorted(x for x in inferred_CL if x < thresh)[:10]"
   ]
  },
  {
   "cell_type": "code",
   "execution_count": 32,
   "metadata": {},
   "outputs": [
    {
     "name": "stdout",
     "output_type": "stream",
     "text": [
      "Network's weights reinitialized\n",
      "Training for 2000 records:\n",
      "Finished Training\n",
      "GroundTruth:    cat\n",
      "Predicted:   frog\n",
      "Accuracy of the network on the 10000 test images: 22.43%\n",
      "0.13972185999155043\n",
      "Network's weights reinitialized\n",
      "Training for 4400 records:\n",
      "Finished Training\n",
      "GroundTruth:    cat\n",
      "Predicted:    cat\n",
      "Accuracy of the network on the 10000 test images: 23.47%\n",
      "0.19081770330667497\n",
      "Network's weights reinitialized\n",
      "Training for 6680 records:\n",
      "Finished Training\n",
      "GroundTruth:    cat\n",
      "Predicted:    cat\n",
      "Accuracy of the network on the 10000 test images: 27.78%\n",
      "0.18751047998666764\n",
      "Network's weights reinitialized\n",
      "Training for 8846 records:\n",
      "Finished Training\n",
      "GroundTruth:    cat\n",
      "Predicted:    cat\n",
      "Accuracy of the network on the 10000 test images: 33.21%\n",
      "0.178490037471056\n"
     ]
    },
    {
     "data": {
      "text/plain": [
       "[<matplotlib.lines.Line2D at 0x12258ca20>]"
      ]
     },
     "execution_count": 32,
     "metadata": {},
     "output_type": "execute_result"
    },
    {
     "data": {
      "image/png": "[encoded data removed]",
      "text/plain": [
       "<Figure size 432x288 with 1 Axes>"
      ]
     },
     "metadata": {
      "needs_background": "light"
     },
     "output_type": "display_data"
    }
   ],
   "source": [
    "def update_streaming_perc(inferred_res, threshold=5): # <-- here, threshold is the amount of data we want to keep\n",
    "    # Using the np.percentile function, fill the function\n",
    "    perc = np.percentile([x[3] for x in inferred_res], threshold)\n",
    "    print(perc)\n",
    "    next_loop = sorted(x[0] for x in inferred_res if x[3] < perc)\n",
    "    \n",
    "    return next_loop\n",
    "    \n",
    "myStreamingAL2, myStepSizes2 = myActiveStrategy.run_StreamingAL(update_streaming_perc, num_steps, maximum)\n",
    "plt.plot(myStepSizes2, myStreamingAL2 , '--b', marker=\"o\")"
   ]
  },
  {
   "cell_type": "markdown",
   "metadata": {},
   "source": [
    "QUESTION: In the code above, a major approximation was made. Do you see what it is, and how would you change it?"
   ]
  },
  {
   "cell_type": "markdown",
   "metadata": {},
   "source": [
    "Margin Sampling-Based Strategy\n",
    "---------------------------------------"
   ]
  },
  {
   "cell_type": "code",
   "execution_count": 35,
   "metadata": {},
   "outputs": [
    {
     "name": "stdout",
     "output_type": "stream",
     "text": [
      "Network's weights reinitialized\n",
      "Training for 2000 records:\n",
      "Finished Training\n",
      "GroundTruth:    cat\n",
      "Predicted:   frog\n",
      "Accuracy of the network on the 10000 test images: 26.48%\n",
      "Network's weights reinitialized\n",
      "Training for 4000 records:\n",
      "Finished Training\n",
      "GroundTruth:    cat\n",
      "Predicted:    cat\n",
      "Accuracy of the network on the 10000 test images: 27.31%\n",
      "Network's weights reinitialized\n",
      "Training for 6000 records:\n",
      "Finished Training\n",
      "GroundTruth:    cat\n",
      "Predicted:   frog\n",
      "Accuracy of the network on the 10000 test images: 29.01%\n",
      "Network's weights reinitialized\n",
      "Training for 8000 records:\n",
      "Finished Training\n",
      "GroundTruth:    cat\n",
      "Predicted:    cat\n",
      "Accuracy of the network on the 10000 test images: 35.5%\n",
      "Network's weights reinitialized\n",
      "Training for 10000 records:\n",
      "Finished Training\n",
      "GroundTruth:    cat\n",
      "Predicted:    car\n",
      "Accuracy of the network on the 10000 test images: 28.75%\n",
      "CPU times: user 31min 11s, sys: 1min 47s, total: 32min 58s\n",
      "Wall time: 6min 56s\n"
     ]
    },
    {
     "data": {
      "image/png": "[encoded data removed]",
      "text/plain": [
       "<Figure size 432x288 with 1 Axes>"
      ]
     },
     "metadata": {
      "needs_background": "light"
     },
     "output_type": "display_data"
    }
   ],
   "source": [
    "%%time\n",
    "import operator\n",
    "\n",
    "# Explain what this function does...\n",
    "def update_margin(inferred_res, nRec):\n",
    "    for k in range(len(inferred_res)):\n",
    "        # Margin difference in confidence between the most confident classes\n",
    "#         inferred_res[k].extend(zip(*sorted(enumerate(inferred_res[k]), key=operator.itemgetter(1)))[0][-2:])\n",
    "        inferred_res[k].extend(list(zip(*sorted(enumerate(inferred_res[k][4]), key=operator.itemgetter(1))))[1][-2:])\n",
    "    \n",
    "#     ranked = sorted(inferred_res, key=lambda x: x[5] - x[4], reverse=False)[:nRec]\n",
    "    ranked = sorted(inferred_res, key=lambda x: x[6] - x[5], reverse=False)[:nRec] # margin low to high\n",
    "    selected = [rec[0] for rec in ranked]\n",
    "    \n",
    "    return selected\n",
    "\n",
    "myConfidenceAL4 = myActiveStrategy.run_ConfidenceAL(update_margin, num_steps, maximum)\n",
    "plt.plot([nps*i for i in range(1, num_steps + 1)], mySupervised,    '--b',\n",
    "         [nps*i for i in range(1, num_steps + 1)], myConfidenceAL3, '--g',\n",
    "         [nps*i for i in range(1, num_steps + 1)], myConfidenceAL4, '--p',\n",
    "         marker=\"o\")"
   ]
  },
  {
   "cell_type": "markdown",
   "metadata": {},
   "source": [
    "Now, let's try a different type of strategy, called:\n",
    "\n",
    "\n",
    "EXERCISE 3: Query-By-Committee Strategies\n",
    "=====================================\n",
    "\n",
    "For Query-By-Committee strategies, we will take an approach similar to ensemble methods in Supervised Learning.\n",
    "Instead of training only one classifier, we will train several algorithms, and decide on which data to select for the next loop based on the level of disagreement between them.\n",
    "\n",
    "For our case, we could use several variations (with slightly different hyperparameters) of the same model and start by initializing different similar classifiers.\n",
    "\n",
    "Using the code below, try to run a QbC strategy by making the necessary adjustements on the model. What changes are necessary, and does the model actually need to be modified? Please comment..."
   ]
  },
  {
   "cell_type": "code",
   "execution_count": 37,
   "metadata": {},
   "outputs": [
    {
     "name": "stdout",
     "output_type": "stream",
     "text": [
      "Network's weights reinitialized\n",
      "Training for 2000 records:\n",
      "Finished Training\n",
      "GroundTruth:    cat\n",
      "Predicted:    dog\n",
      "Accuracy of the network on the 10000 test images: 24.98%\n",
      "Network's weights reinitialized\n",
      "Training for 2000 records:\n",
      "Finished Training\n",
      "GroundTruth:    cat\n",
      "Predicted:    dog\n",
      "Accuracy of the network on the 10000 test images: 18.13%\n",
      "Network's weights reinitialized\n",
      "Training for 2000 records:\n",
      "Finished Training\n",
      "GroundTruth:    cat\n",
      "Predicted:    dog\n",
      "Accuracy of the network on the 10000 test images: 24.4%\n",
      "[2, 3, 0, 2, 2, 3, 3, 3, 3, 2]\n",
      "No        disagreements: 3191 \n",
      " One (1)   disagreement : 0 \n",
      " Two (2)   disagreements: 24755 \n",
      " Three (3) disagreements: 20054 \n",
      "\n",
      "CPU times: user 13min 10s, sys: 44.6 s, total: 13min 55s\n",
      "Wall time: 3min 12s\n"
     ]
    }
   ],
   "source": [
    "%%time\n",
    "\n",
    "unlabeled = [i for i in range(len(trainset))]\n",
    "labeled   = []\n",
    "\n",
    "to_be_labeled = random.sample(unlabeled, nps)\n",
    "unlabeled = [i for i in range(len(unlabeled)) if i not in to_be_labeled]\n",
    "\n",
    "myAccuracy1 = myActiveStrategy.run_one(to_be_labeled)\n",
    "myResults1  = myActiveStrategy.infer(unlabeled)\n",
    "myAccuracy2 = myActiveStrategy.run_one(to_be_labeled)\n",
    "myResults2  = myActiveStrategy.infer(unlabeled)\n",
    "myAccuracy3 = myActiveStrategy.run_one(to_be_labeled)\n",
    "myResults3  = myActiveStrategy.infer(unlabeled)\n",
    "\n",
    "disagreement = []\n",
    "\n",
    "for r in range(len(unlabeled)):\n",
    "    dis = 0\n",
    "    if myResults1[r][2] != myResults2[r][2]:\n",
    "        dis += 1\n",
    "    if myResults2[r][2] != myResults3[r][2]:\n",
    "        dis += 1\n",
    "    if myResults1[r][2] != myResults3[r][2]:\n",
    "        dis += 1\n",
    "    disagreement.append(dis)\n",
    "    \n",
    "print(disagreement[0:10])\n",
    "    \n",
    "print(\"No        disagreements: {0} \\n\".format(disagreement.count(0)), \n",
    "      \"One (1)   disagreement : {0} \\n\".format(disagreement.count(1)), \n",
    "      \"Two (2)   disagreements: {0} \\n\".format(disagreement.count(2)), \n",
    "      \"Three (3) disagreements: {0} \\n\".format(disagreement.count(3)))"
   ]
  },
  {
   "cell_type": "code",
   "execution_count": 50,
   "metadata": {},
   "outputs": [
    {
     "data": {
      "text/plain": [
       "[([29247,\n",
       "   'cat',\n",
       "   'horse',\n",
       "   tensor(0.1199),\n",
       "   array([0.11331826, 0.10128255, 0.10236096, 0.10150664, 0.11639684,\n",
       "          0.07161216, 0.09667381, 0.11988647, 0.07685285, 0.1001094 ],\n",
       "         dtype=float32)],\n",
       "  2),\n",
       " ([15659,\n",
       "   'cat',\n",
       "   'cat',\n",
       "   tensor(0.1235),\n",
       "   array([0.12215959, 0.12140635, 0.11389454, 0.12347462, 0.05940158,\n",
       "          0.1098175 , 0.05431493, 0.10453553, 0.11236259, 0.07863272],\n",
       "         dtype=float32)],\n",
       "  3),\n",
       " ([5808,\n",
       "   'dog',\n",
       "   'plane',\n",
       "   tensor(0.1244),\n",
       "   array([0.12436724, 0.11198641, 0.09641605, 0.11983203, 0.08800576,\n",
       "          0.06851987, 0.08075901, 0.11359534, 0.07659027, 0.11992799],\n",
       "         dtype=float32)],\n",
       "  0),\n",
       " ([4832,\n",
       "   'ship',\n",
       "   'bird',\n",
       "   tensor(0.1250),\n",
       "   array([0.11327136, 0.10086782, 0.12503335, 0.123506  , 0.0848975 ,\n",
       "          0.11973836, 0.06628142, 0.07261097, 0.09344246, 0.10035075],\n",
       "         dtype=float32)],\n",
       "  2),\n",
       " ([49408,\n",
       "   'cat',\n",
       "   'ship',\n",
       "   tensor(0.1252),\n",
       "   array([0.11924184, 0.12165697, 0.07835262, 0.11747256, 0.05732012,\n",
       "          0.07424808, 0.06623078, 0.11588085, 0.12519677, 0.12439934],\n",
       "         dtype=float32)],\n",
       "  2)]"
      ]
     },
     "execution_count": 50,
     "metadata": {},
     "output_type": "execute_result"
    }
   ],
   "source": [
    "[i for i in zip(myResultsSorted, disagreement)][:5]"
   ]
  },
  {
   "cell_type": "code",
   "execution_count": 53,
   "metadata": {},
   "outputs": [
    {
     "data": {
      "text/plain": [
       "[[29247,\n",
       "  'cat',\n",
       "  'horse',\n",
       "  tensor(0.1199),\n",
       "  array([0.11331826, 0.10128255, 0.10236096, 0.10150664, 0.11639684,\n",
       "         0.07161216, 0.09667381, 0.11988647, 0.07685285, 0.1001094 ],\n",
       "        dtype=float32)],\n",
       " [15659,\n",
       "  'cat',\n",
       "  'cat',\n",
       "  tensor(0.1235),\n",
       "  array([0.12215959, 0.12140635, 0.11389454, 0.12347462, 0.05940158,\n",
       "         0.1098175 , 0.05431493, 0.10453553, 0.11236259, 0.07863272],\n",
       "        dtype=float32)],\n",
       " [5808,\n",
       "  'dog',\n",
       "  'plane',\n",
       "  tensor(0.1244),\n",
       "  array([0.12436724, 0.11198641, 0.09641605, 0.11983203, 0.08800576,\n",
       "         0.06851987, 0.08075901, 0.11359534, 0.07659027, 0.11992799],\n",
       "        dtype=float32)],\n",
       " [4832,\n",
       "  'ship',\n",
       "  'bird',\n",
       "  tensor(0.1250),\n",
       "  array([0.11327136, 0.10086782, 0.12503335, 0.123506  , 0.0848975 ,\n",
       "         0.11973836, 0.06628142, 0.07261097, 0.09344246, 0.10035075],\n",
       "        dtype=float32)],\n",
       " [49408,\n",
       "  'cat',\n",
       "  'ship',\n",
       "  tensor(0.1252),\n",
       "  array([0.11924184, 0.12165697, 0.07835262, 0.11747256, 0.05732012,\n",
       "         0.07424808, 0.06623078, 0.11588085, 0.12519677, 0.12439934],\n",
       "        dtype=float32)]]"
      ]
     },
     "execution_count": 53,
     "metadata": {},
     "output_type": "execute_result"
    }
   ],
   "source": [
    "[x[0] for x in [i for i in zip(myResultsSorted, disagreement)][:5]]"
   ]
  },
  {
   "cell_type": "markdown",
   "metadata": {},
   "source": [
    "Now, let's implement use the previous approach as our querying strategy. Note that this takes a long time to run, so you're encouraged that you reduce your 'num_steps' and 'maximum' variables."
   ]
  },
  {
   "cell_type": "code",
   "execution_count": 52,
   "metadata": {
    "scrolled": false
   },
   "outputs": [
    {
     "name": "stdout",
     "output_type": "stream",
     "text": [
      "Network's weights reinitialized\n",
      "Training for 2000 records:\n",
      "Finished Training\n",
      "GroundTruth:    cat\n",
      "Predicted:   frog\n",
      "Accuracy of the network on the 10000 test images: 25.0%\n",
      "Network's weights reinitialized\n",
      "Training for 2000 records:\n",
      "Finished Training\n",
      "GroundTruth:    cat\n",
      "Predicted:    cat\n",
      "Accuracy of the network on the 10000 test images: 23.73%\n",
      "Network's weights reinitialized\n",
      "Training for 2000 records:\n",
      "Finished Training\n",
      "GroundTruth:    cat\n",
      "Predicted:    cat\n",
      "Accuracy of the network on the 10000 test images: 28.23%\n",
      "Network's weights reinitialized\n",
      "Training for 4000 records:\n",
      "Finished Training\n",
      "GroundTruth:    cat\n",
      "Predicted:    cat\n",
      "Accuracy of the network on the 10000 test images: 26.44%\n",
      "Network's weights reinitialized\n",
      "Training for 4000 records:\n",
      "Finished Training\n",
      "GroundTruth:    cat\n",
      "Predicted:    dog\n",
      "Accuracy of the network on the 10000 test images: 28.11%\n",
      "Network's weights reinitialized\n",
      "Training for 4000 records:\n",
      "Finished Training\n",
      "GroundTruth:    cat\n",
      "Predicted:    cat\n",
      "Accuracy of the network on the 10000 test images: 23.62%\n",
      "Network's weights reinitialized\n",
      "Training for 4000 records:\n",
      "Finished Training\n",
      "GroundTruth:    cat\n",
      "Predicted:    dog\n",
      "Accuracy of the network on the 10000 test images: 25.97%\n",
      "Network's weights reinitialized\n",
      "Training for 6000 records:\n",
      "Finished Training\n",
      "GroundTruth:    cat\n",
      "Predicted:    dog\n",
      "Accuracy of the network on the 10000 test images: 28.42%\n",
      "Network's weights reinitialized\n",
      "Training for 6000 records:\n",
      "Finished Training\n",
      "GroundTruth:    cat\n",
      "Predicted:   frog\n",
      "Accuracy of the network on the 10000 test images: 29.66%\n",
      "Network's weights reinitialized\n",
      "Training for 6000 records:\n",
      "Finished Training\n",
      "GroundTruth:    cat\n",
      "Predicted:    cat\n",
      "Accuracy of the network on the 10000 test images: 31.3%\n",
      "Network's weights reinitialized\n",
      "Training for 6000 records:\n",
      "Finished Training\n",
      "GroundTruth:    cat\n",
      "Predicted:    dog\n",
      "Accuracy of the network on the 10000 test images: 28.17%\n",
      "Network's weights reinitialized\n",
      "Training for 8000 records:\n",
      "Finished Training\n",
      "GroundTruth:    cat\n",
      "Predicted:   ship\n",
      "Accuracy of the network on the 10000 test images: 26.82%\n",
      "Network's weights reinitialized\n",
      "Training for 8000 records:\n",
      "Finished Training\n",
      "GroundTruth:    cat\n",
      "Predicted:   ship\n",
      "Accuracy of the network on the 10000 test images: 28.62%\n",
      "Network's weights reinitialized\n",
      "Training for 8000 records:\n",
      "Finished Training\n",
      "GroundTruth:    cat\n",
      "Predicted:  truck\n",
      "Accuracy of the network on the 10000 test images: 30.49%\n",
      "Network's weights reinitialized\n",
      "Training for 8000 records:\n",
      "Finished Training\n",
      "GroundTruth:    cat\n",
      "Predicted:    cat\n",
      "Accuracy of the network on the 10000 test images: 25.36%\n",
      "Network's weights reinitialized\n",
      "Training for 10000 records:\n",
      "Finished Training\n",
      "GroundTruth:    cat\n",
      "Predicted:    cat\n",
      "Accuracy of the network on the 10000 test images: 28.08%\n",
      "Network's weights reinitialized\n",
      "Training for 10000 records:\n",
      "Finished Training\n",
      "GroundTruth:    cat\n",
      "Predicted:   frog\n",
      "Accuracy of the network on the 10000 test images: 34.14%\n",
      "Network's weights reinitialized\n",
      "Training for 10000 records:\n",
      "Finished Training\n",
      "GroundTruth:    cat\n",
      "Predicted:   frog\n",
      "Accuracy of the network on the 10000 test images: 34.72%\n",
      "Network's weights reinitialized\n",
      "Training for 10000 records:\n",
      "Finished Training\n",
      "GroundTruth:    cat\n",
      "Predicted:    cat\n",
      "Accuracy of the network on the 10000 test images: 31.85%\n",
      "Network's weights reinitialized\n",
      "Training for 12000 records:\n",
      "Finished Training\n",
      "GroundTruth:    cat\n",
      "Predicted:    dog\n",
      "Accuracy of the network on the 10000 test images: 27.71%\n"
     ]
    },
    {
     "data": {
      "text/plain": [
       "[<matplotlib.lines.Line2D at 0x1252dbac8>,\n",
       " <matplotlib.lines.Line2D at 0x1252db748>,\n",
       " <matplotlib.lines.Line2D at 0x1252dbf28>]"
      ]
     },
     "execution_count": 52,
     "metadata": {},
     "output_type": "execute_result"
    },
    {
     "data": {
      "image/png": "[encoded data removed]",
      "text/plain": [
       "<Figure size 432x288 with 1 Axes>"
      ]
     },
     "metadata": {
      "needs_background": "light"
     },
     "output_type": "display_data"
    }
   ],
   "source": [
    "def QbCAL(nsteps, stepSize):\n",
    "    \n",
    "    results = []\n",
    "    \n",
    "    unlabeled = [i for i in range(len(trainset))]\n",
    "    labeled   = []\n",
    "\n",
    "    # Randomly sample what is to be labeled first...\n",
    "    to_be_labeled = random.sample(unlabeled, stepSize)\n",
    "    unlabeled = [i for i in range(len(unlabeled)) if i not in to_be_labeled]\n",
    "    \n",
    "    for n in range(0, nsteps):\n",
    "        # Fill the function by following the same logic that previously within a loop\n",
    "        myAccuracy1 = myActiveStrategy.run_one(to_be_labeled)\n",
    "        myResults1  = myActiveStrategy.infer(unlabeled)\n",
    "        myAccuracy2 = myActiveStrategy.run_one(to_be_labeled)\n",
    "        myResults2  = myActiveStrategy.infer(unlabeled)\n",
    "        myAccuracy3 = myActiveStrategy.run_one(to_be_labeled)\n",
    "        myResults3  = myActiveStrategy.infer(unlabeled)\n",
    "        \n",
    "        disagreement = []\n",
    "\n",
    "        for r in range(len(unlabeled)):\n",
    "            dis = 0\n",
    "            if myResults1[r][2] != myResults2[r][2]:\n",
    "                dis += 1\n",
    "            if myResults2[r][2] != myResults3[r][2]:\n",
    "                dis += 1\n",
    "            if myResults1[r][2] != myResults3[r][2]:   \n",
    "                dis += 1\n",
    "            disagreement.append(dis)\n",
    "        \n",
    "        sorted_by_disagree = sorted(zip(myResults1, disagreement), key=lambda x: x[1], reverse=True)[:stepSize] # fill here; remember that the size of the array will be 'nps'\n",
    "\n",
    "        # update to_be_labeled:\n",
    "        to_be_labeled.extend([x[0] for x in [row[0] for row in sorted_by_disagree]])\n",
    "        to_be_labeled_set = set(to_be_labeled)\n",
    "        unlabeled = list(filter(lambda x: x not in to_be_labeled_set, unlabeled)) # update unlabeled\n",
    "\n",
    "        myres = myActiveStrategy.run_one(to_be_labeled)\n",
    "        results.append(myres)        \n",
    "        \n",
    "    return results\n",
    "    \n",
    "myQbCAL = QbCAL(num_steps, nps)\n",
    "\n",
    "plt.plot([nps*i for i in range(1, num_steps + 1)], mySupervised,    '--b',\n",
    "         [nps*i for i in range(1, num_steps + 1)], myConfidenceAL4, '--g',\n",
    "         [nps*i for i in range(1, num_steps + 1)], myQbCAL,         '--p',\n",
    "         marker=\"o\")"
   ]
  },
  {
   "cell_type": "markdown",
   "metadata": {},
   "source": [
    "Observations:\n",
    "* QbC is a lot more stable, but does not result in significant improvements like the other methodologies."
   ]
  },
  {
   "cell_type": "markdown",
   "metadata": {},
   "source": [
    "EXERCISE 4: Build-Your-Own Strategy\n",
    "===============================\n",
    "\n",
    "Now, using what you have learned, develop the best querying strategy you can!"
   ]
  },
  {
   "cell_type": "code",
   "execution_count": null,
   "metadata": {},
   "outputs": [],
   "source": []
  }
 ],
 "metadata": {
  "kernelspec": {
   "display_name": "Python 3",
   "language": "python",
   "name": "python3"
  },
  "language_info": {
   "codemirror_mode": {
    "name": "ipython",
    "version": 3
   },
   "file_extension": ".py",
   "mimetype": "text/x-python",
   "name": "python",
   "nbconvert_exporter": "python",
   "pygments_lexer": "ipython3",
   "version": "3.6.6"
  }
 },
 "nbformat": 4,
 "nbformat_minor": 4
}
